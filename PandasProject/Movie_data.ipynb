{
 "cells": [
  {
   "cell_type": "code",
   "execution_count": 33,
   "metadata": {},
   "outputs": [
    {
     "name": "stdout",
     "output_type": "stream",
     "text": [
      "['Solarize_Light2', '_classic_test_patch', '_mpl-gallery', '_mpl-gallery-nogrid', 'bmh', 'classic', 'dark_background', 'fast', 'fivethirtyeight', 'ggplot', 'grayscale', 'petroff10', 'seaborn-v0_8', 'seaborn-v0_8-bright', 'seaborn-v0_8-colorblind', 'seaborn-v0_8-dark', 'seaborn-v0_8-dark-palette', 'seaborn-v0_8-darkgrid', 'seaborn-v0_8-deep', 'seaborn-v0_8-muted', 'seaborn-v0_8-notebook', 'seaborn-v0_8-paper', 'seaborn-v0_8-pastel', 'seaborn-v0_8-poster', 'seaborn-v0_8-talk', 'seaborn-v0_8-ticks', 'seaborn-v0_8-white', 'seaborn-v0_8-whitegrid', 'tableau-colorblind10']\n"
     ]
    }
   ],
   "source": [
    "# Import Libraries\n",
    "import pandas as pd\n",
    "import matplotlib.pyplot as plt\n",
    "import seaborn as sns\n",
    "import numpy as np\n",
    "from scipy import stats\n",
    "\n",
    "print(plt.style.available)\n",
    "plt.style.use('bmh')"
   ]
  },
  {
   "cell_type": "code",
   "execution_count": 34,
   "metadata": {},
   "outputs": [
    {
     "data": {
      "application/vnd.microsoft.datawrangler.viewer.v0+json": {
       "columns": [
        {
         "name": "index",
         "rawType": "int64",
         "type": "integer"
        },
        {
         "name": "Unnamed: 0",
         "rawType": "object",
         "type": "string"
        },
        {
         "name": "Unnamed: 1",
         "rawType": "object",
         "type": "string"
        },
        {
         "name": "Unnamed: 2",
         "rawType": "object",
         "type": "string"
        },
        {
         "name": "Unnamed: 3",
         "rawType": "object",
         "type": "string"
        },
        {
         "name": "Unnamed: 4",
         "rawType": "object",
         "type": "string"
        },
        {
         "name": "Unnamed: 5",
         "rawType": "object",
         "type": "string"
        }
       ],
       "conversionMethod": "pd.DataFrame",
       "ref": "fd5829f4-3e5d-4b9d-8fb8-42a5f92cbd55",
       "rows": [
        [
         "0",
         "Release Date",
         "Movie",
         "no",
         "Production Budget",
         "Domestic Gross",
         "Worldwide Gross"
        ],
        [
         "1",
         "Dec 16, 2015",
         "Star Wars Ep. VII: The Force Awakens",
         "1",
         "$533,200,000",
         "$936,662,225",
         "$2,056,046,835"
        ],
        [
         "2",
         "Apr 23, 2019",
         "Avengers: Endgame",
         "2",
         "$400,000,000",
         "$858,373,000",
         "$2,748,242,781"
        ],
        [
         "3",
         "Dec 9, 2022",
         "Avatar: The Way of Water",
         "3",
         "$400,000,000",
         "$684,075,767",
         "$2,312,413,227"
        ],
        [
         "4",
         "May 21, 2025",
         "Mission: Impossible—The Final Reckoning",
         "4",
         "$400,000,000",
         "$0",
         "$0"
        ]
       ],
       "shape": {
        "columns": 6,
        "rows": 5
       }
      },
      "text/html": [
       "<div>\n",
       "<style scoped>\n",
       "    .dataframe tbody tr th:only-of-type {\n",
       "        vertical-align: middle;\n",
       "    }\n",
       "\n",
       "    .dataframe tbody tr th {\n",
       "        vertical-align: top;\n",
       "    }\n",
       "\n",
       "    .dataframe thead th {\n",
       "        text-align: right;\n",
       "    }\n",
       "</style>\n",
       "<table border=\"1\" class=\"dataframe\">\n",
       "  <thead>\n",
       "    <tr style=\"text-align: right;\">\n",
       "      <th></th>\n",
       "      <th>Unnamed: 0</th>\n",
       "      <th>Unnamed: 1</th>\n",
       "      <th>Unnamed: 2</th>\n",
       "      <th>Unnamed: 3</th>\n",
       "      <th>Unnamed: 4</th>\n",
       "      <th>Unnamed: 5</th>\n",
       "    </tr>\n",
       "  </thead>\n",
       "  <tbody>\n",
       "    <tr>\n",
       "      <th>0</th>\n",
       "      <td>Release Date</td>\n",
       "      <td>Movie</td>\n",
       "      <td>no</td>\n",
       "      <td>Production Budget</td>\n",
       "      <td>Domestic Gross</td>\n",
       "      <td>Worldwide Gross</td>\n",
       "    </tr>\n",
       "    <tr>\n",
       "      <th>1</th>\n",
       "      <td>Dec 16, 2015</td>\n",
       "      <td>Star Wars Ep. VII: The Force Awakens</td>\n",
       "      <td>1</td>\n",
       "      <td>$533,200,000</td>\n",
       "      <td>$936,662,225</td>\n",
       "      <td>$2,056,046,835</td>\n",
       "    </tr>\n",
       "    <tr>\n",
       "      <th>2</th>\n",
       "      <td>Apr 23, 2019</td>\n",
       "      <td>Avengers: Endgame</td>\n",
       "      <td>2</td>\n",
       "      <td>$400,000,000</td>\n",
       "      <td>$858,373,000</td>\n",
       "      <td>$2,748,242,781</td>\n",
       "    </tr>\n",
       "    <tr>\n",
       "      <th>3</th>\n",
       "      <td>Dec 9, 2022</td>\n",
       "      <td>Avatar: The Way of Water</td>\n",
       "      <td>3</td>\n",
       "      <td>$400,000,000</td>\n",
       "      <td>$684,075,767</td>\n",
       "      <td>$2,312,413,227</td>\n",
       "    </tr>\n",
       "    <tr>\n",
       "      <th>4</th>\n",
       "      <td>May 21, 2025</td>\n",
       "      <td>Mission: Impossible—The Final Reckoning</td>\n",
       "      <td>4</td>\n",
       "      <td>$400,000,000</td>\n",
       "      <td>$0</td>\n",
       "      <td>$0</td>\n",
       "    </tr>\n",
       "  </tbody>\n",
       "</table>\n",
       "</div>"
      ],
      "text/plain": [
       "     Unnamed: 0                               Unnamed: 1 Unnamed: 2  \\\n",
       "0  Release Date                                    Movie         no   \n",
       "1  Dec 16, 2015     Star Wars Ep. VII: The Force Awakens          1   \n",
       "2  Apr 23, 2019                        Avengers: Endgame          2   \n",
       "3   Dec 9, 2022                 Avatar: The Way of Water          3   \n",
       "4  May 21, 2025  Mission: Impossible—The Final Reckoning          4   \n",
       "\n",
       "          Unnamed: 3      Unnamed: 4       Unnamed: 5  \n",
       "0  Production Budget  Domestic Gross  Worldwide Gross  \n",
       "1       $533,200,000    $936,662,225   $2,056,046,835  \n",
       "2       $400,000,000    $858,373,000   $2,748,242,781  \n",
       "3       $400,000,000    $684,075,767   $2,312,413,227  \n",
       "4       $400,000,000              $0               $0  "
      ]
     },
     "execution_count": 34,
     "metadata": {},
     "output_type": "execute_result"
    }
   ],
   "source": [
    "# Rad data\n",
    "df = pd.read_excel(r\"C:\\Masterpiece By Nickopusan\\Document\\Movie data.xlsx\")\n",
    "df.head()"
   ]
  },
  {
   "cell_type": "code",
   "execution_count": 35,
   "metadata": {},
   "outputs": [
    {
     "data": {
      "application/vnd.microsoft.datawrangler.viewer.v0+json": {
       "columns": [
        {
         "name": "index",
         "rawType": "int64",
         "type": "integer"
        },
        {
         "name": "Release Date",
         "rawType": "object",
         "type": "string"
        },
        {
         "name": "Movie",
         "rawType": "object",
         "type": "string"
        },
        {
         "name": "no",
         "rawType": "object",
         "type": "string"
        },
        {
         "name": "Production Budget",
         "rawType": "object",
         "type": "string"
        },
        {
         "name": "Domestic Gross",
         "rawType": "object",
         "type": "string"
        },
        {
         "name": "Worldwide Gross",
         "rawType": "object",
         "type": "string"
        }
       ],
       "conversionMethod": "pd.DataFrame",
       "ref": "8a477afa-994d-4a1d-a061-ec34653c2e35",
       "rows": [
        [
         "0",
         "Dec 16, 2015",
         "Star Wars Ep. VII: The Force Awakens",
         "1",
         "$533,200,000",
         "$936,662,225",
         "$2,056,046,835"
        ],
        [
         "1",
         "Apr 23, 2019",
         "Avengers: Endgame",
         "2",
         "$400,000,000",
         "$858,373,000",
         "$2,748,242,781"
        ],
        [
         "2",
         "Dec 9, 2022",
         "Avatar: The Way of Water",
         "3",
         "$400,000,000",
         "$684,075,767",
         "$2,312,413,227"
        ],
        [
         "3",
         "May 21, 2025",
         "Mission: Impossible—The Final Reckoning",
         "4",
         "$400,000,000",
         "$0",
         "$0"
        ],
        [
         "4",
         "May 20, 2011",
         "Pirates of the Caribbean: On Stranger Tides",
         "5",
         "$379,000,000",
         "$241,071,802",
         "$1,045,713,802"
        ]
       ],
       "shape": {
        "columns": 6,
        "rows": 5
       }
      },
      "text/html": [
       "<div>\n",
       "<style scoped>\n",
       "    .dataframe tbody tr th:only-of-type {\n",
       "        vertical-align: middle;\n",
       "    }\n",
       "\n",
       "    .dataframe tbody tr th {\n",
       "        vertical-align: top;\n",
       "    }\n",
       "\n",
       "    .dataframe thead th {\n",
       "        text-align: right;\n",
       "    }\n",
       "</style>\n",
       "<table border=\"1\" class=\"dataframe\">\n",
       "  <thead>\n",
       "    <tr style=\"text-align: right;\">\n",
       "      <th></th>\n",
       "      <th>Release Date</th>\n",
       "      <th>Movie</th>\n",
       "      <th>no</th>\n",
       "      <th>Production Budget</th>\n",
       "      <th>Domestic Gross</th>\n",
       "      <th>Worldwide Gross</th>\n",
       "    </tr>\n",
       "  </thead>\n",
       "  <tbody>\n",
       "    <tr>\n",
       "      <th>0</th>\n",
       "      <td>Dec 16, 2015</td>\n",
       "      <td>Star Wars Ep. VII: The Force Awakens</td>\n",
       "      <td>1</td>\n",
       "      <td>$533,200,000</td>\n",
       "      <td>$936,662,225</td>\n",
       "      <td>$2,056,046,835</td>\n",
       "    </tr>\n",
       "    <tr>\n",
       "      <th>1</th>\n",
       "      <td>Apr 23, 2019</td>\n",
       "      <td>Avengers: Endgame</td>\n",
       "      <td>2</td>\n",
       "      <td>$400,000,000</td>\n",
       "      <td>$858,373,000</td>\n",
       "      <td>$2,748,242,781</td>\n",
       "    </tr>\n",
       "    <tr>\n",
       "      <th>2</th>\n",
       "      <td>Dec 9, 2022</td>\n",
       "      <td>Avatar: The Way of Water</td>\n",
       "      <td>3</td>\n",
       "      <td>$400,000,000</td>\n",
       "      <td>$684,075,767</td>\n",
       "      <td>$2,312,413,227</td>\n",
       "    </tr>\n",
       "    <tr>\n",
       "      <th>3</th>\n",
       "      <td>May 21, 2025</td>\n",
       "      <td>Mission: Impossible—The Final Reckoning</td>\n",
       "      <td>4</td>\n",
       "      <td>$400,000,000</td>\n",
       "      <td>$0</td>\n",
       "      <td>$0</td>\n",
       "    </tr>\n",
       "    <tr>\n",
       "      <th>4</th>\n",
       "      <td>May 20, 2011</td>\n",
       "      <td>Pirates of the Caribbean: On Stranger Tides</td>\n",
       "      <td>5</td>\n",
       "      <td>$379,000,000</td>\n",
       "      <td>$241,071,802</td>\n",
       "      <td>$1,045,713,802</td>\n",
       "    </tr>\n",
       "  </tbody>\n",
       "</table>\n",
       "</div>"
      ],
      "text/plain": [
       "0  Release Date                                        Movie no  \\\n",
       "0  Dec 16, 2015         Star Wars Ep. VII: The Force Awakens  1   \n",
       "1  Apr 23, 2019                            Avengers: Endgame  2   \n",
       "2   Dec 9, 2022                     Avatar: The Way of Water  3   \n",
       "3  May 21, 2025      Mission: Impossible—The Final Reckoning  4   \n",
       "4  May 20, 2011  Pirates of the Caribbean: On Stranger Tides  5   \n",
       "\n",
       "0 Production Budget Domestic Gross Worldwide Gross  \n",
       "0      $533,200,000   $936,662,225  $2,056,046,835  \n",
       "1      $400,000,000   $858,373,000  $2,748,242,781  \n",
       "2      $400,000,000   $684,075,767  $2,312,413,227  \n",
       "3      $400,000,000             $0              $0  \n",
       "4      $379,000,000   $241,071,802  $1,045,713,802  "
      ]
     },
     "execution_count": 35,
     "metadata": {},
     "output_type": "execute_result"
    }
   ],
   "source": [
    "# Set the first row as the header\n",
    "df.columns = df.iloc[0]\n",
    "df = df[1:]\n",
    "df.reset_index(drop=True, inplace=True)\n",
    "df.head()"
   ]
  },
  {
   "cell_type": "code",
   "execution_count": 36,
   "metadata": {},
   "outputs": [
    {
     "data": {
      "application/vnd.microsoft.datawrangler.viewer.v0+json": {
       "columns": [
        {
         "name": "index",
         "rawType": "int64",
         "type": "integer"
        },
        {
         "name": "Release Date",
         "rawType": "object",
         "type": "string"
        },
        {
         "name": "Movie",
         "rawType": "object",
         "type": "string"
        },
        {
         "name": "Production Budget",
         "rawType": "object",
         "type": "string"
        },
        {
         "name": "Domestic Gross",
         "rawType": "object",
         "type": "string"
        },
        {
         "name": "Worldwide Gross",
         "rawType": "object",
         "type": "string"
        }
       ],
       "conversionMethod": "pd.DataFrame",
       "ref": "b475451b-3a98-48e6-a9dc-b70ef9685b2b",
       "rows": [
        [
         "0",
         "Dec 16, 2015",
         "Star Wars Ep. VII: The Force Awakens",
         "$533,200,000",
         "$936,662,225",
         "$2,056,046,835"
        ],
        [
         "1",
         "Apr 23, 2019",
         "Avengers: Endgame",
         "$400,000,000",
         "$858,373,000",
         "$2,748,242,781"
        ],
        [
         "2",
         "Dec 9, 2022",
         "Avatar: The Way of Water",
         "$400,000,000",
         "$684,075,767",
         "$2,312,413,227"
        ],
        [
         "3",
         "May 21, 2025",
         "Mission: Impossible—The Final Reckoning",
         "$400,000,000",
         "$0",
         "$0"
        ],
        [
         "4",
         "May 20, 2011",
         "Pirates of the Caribbean: On Stranger Tides",
         "$379,000,000",
         "$241,071,802",
         "$1,045,713,802"
        ]
       ],
       "shape": {
        "columns": 5,
        "rows": 5
       }
      },
      "text/html": [
       "<div>\n",
       "<style scoped>\n",
       "    .dataframe tbody tr th:only-of-type {\n",
       "        vertical-align: middle;\n",
       "    }\n",
       "\n",
       "    .dataframe tbody tr th {\n",
       "        vertical-align: top;\n",
       "    }\n",
       "\n",
       "    .dataframe thead th {\n",
       "        text-align: right;\n",
       "    }\n",
       "</style>\n",
       "<table border=\"1\" class=\"dataframe\">\n",
       "  <thead>\n",
       "    <tr style=\"text-align: right;\">\n",
       "      <th></th>\n",
       "      <th>Release Date</th>\n",
       "      <th>Movie</th>\n",
       "      <th>Production Budget</th>\n",
       "      <th>Domestic Gross</th>\n",
       "      <th>Worldwide Gross</th>\n",
       "    </tr>\n",
       "  </thead>\n",
       "  <tbody>\n",
       "    <tr>\n",
       "      <th>0</th>\n",
       "      <td>Dec 16, 2015</td>\n",
       "      <td>Star Wars Ep. VII: The Force Awakens</td>\n",
       "      <td>$533,200,000</td>\n",
       "      <td>$936,662,225</td>\n",
       "      <td>$2,056,046,835</td>\n",
       "    </tr>\n",
       "    <tr>\n",
       "      <th>1</th>\n",
       "      <td>Apr 23, 2019</td>\n",
       "      <td>Avengers: Endgame</td>\n",
       "      <td>$400,000,000</td>\n",
       "      <td>$858,373,000</td>\n",
       "      <td>$2,748,242,781</td>\n",
       "    </tr>\n",
       "    <tr>\n",
       "      <th>2</th>\n",
       "      <td>Dec 9, 2022</td>\n",
       "      <td>Avatar: The Way of Water</td>\n",
       "      <td>$400,000,000</td>\n",
       "      <td>$684,075,767</td>\n",
       "      <td>$2,312,413,227</td>\n",
       "    </tr>\n",
       "    <tr>\n",
       "      <th>3</th>\n",
       "      <td>May 21, 2025</td>\n",
       "      <td>Mission: Impossible—The Final Reckoning</td>\n",
       "      <td>$400,000,000</td>\n",
       "      <td>$0</td>\n",
       "      <td>$0</td>\n",
       "    </tr>\n",
       "    <tr>\n",
       "      <th>4</th>\n",
       "      <td>May 20, 2011</td>\n",
       "      <td>Pirates of the Caribbean: On Stranger Tides</td>\n",
       "      <td>$379,000,000</td>\n",
       "      <td>$241,071,802</td>\n",
       "      <td>$1,045,713,802</td>\n",
       "    </tr>\n",
       "  </tbody>\n",
       "</table>\n",
       "</div>"
      ],
      "text/plain": [
       "0  Release Date                                        Movie  \\\n",
       "0  Dec 16, 2015         Star Wars Ep. VII: The Force Awakens   \n",
       "1  Apr 23, 2019                            Avengers: Endgame   \n",
       "2   Dec 9, 2022                     Avatar: The Way of Water   \n",
       "3  May 21, 2025      Mission: Impossible—The Final Reckoning   \n",
       "4  May 20, 2011  Pirates of the Caribbean: On Stranger Tides   \n",
       "\n",
       "0 Production Budget Domestic Gross Worldwide Gross  \n",
       "0      $533,200,000   $936,662,225  $2,056,046,835  \n",
       "1      $400,000,000   $858,373,000  $2,748,242,781  \n",
       "2      $400,000,000   $684,075,767  $2,312,413,227  \n",
       "3      $400,000,000             $0              $0  \n",
       "4      $379,000,000   $241,071,802  $1,045,713,802  "
      ]
     },
     "execution_count": 36,
     "metadata": {},
     "output_type": "execute_result"
    }
   ],
   "source": [
    "# Drop 'no'\n",
    "df.drop('no', axis=1, inplace=True)\n",
    "df.head()"
   ]
  },
  {
   "cell_type": "code",
   "execution_count": 37,
   "metadata": {},
   "outputs": [
    {
     "data": {
      "application/vnd.microsoft.datawrangler.viewer.v0+json": {
       "columns": [
        {
         "name": "index",
         "rawType": "int64",
         "type": "integer"
        },
        {
         "name": "Movie",
         "rawType": "object",
         "type": "string"
        },
        {
         "name": "Release Date",
         "rawType": "object",
         "type": "string"
        },
        {
         "name": "Production Budget",
         "rawType": "object",
         "type": "string"
        },
        {
         "name": "Domestic Gross",
         "rawType": "object",
         "type": "string"
        },
        {
         "name": "Worldwide Gross",
         "rawType": "object",
         "type": "string"
        }
       ],
       "conversionMethod": "pd.DataFrame",
       "ref": "fd8c9513-c285-4a89-86a0-584ea466c2d5",
       "rows": [
        [
         "0",
         "Star Wars Ep. VII: The Force Awakens",
         "Dec 16, 2015",
         "$533,200,000",
         "$936,662,225",
         "$2,056,046,835"
        ],
        [
         "1",
         "Avengers: Endgame",
         "Apr 23, 2019",
         "$400,000,000",
         "$858,373,000",
         "$2,748,242,781"
        ],
        [
         "2",
         "Avatar: The Way of Water",
         "Dec 9, 2022",
         "$400,000,000",
         "$684,075,767",
         "$2,312,413,227"
        ],
        [
         "3",
         "Mission: Impossible—The Final Reckoning",
         "May 21, 2025",
         "$400,000,000",
         "$0",
         "$0"
        ],
        [
         "4",
         "Pirates of the Caribbean: On Stranger Tides",
         "May 20, 2011",
         "$379,000,000",
         "$241,071,802",
         "$1,045,713,802"
        ]
       ],
       "shape": {
        "columns": 5,
        "rows": 5
       }
      },
      "text/html": [
       "<div>\n",
       "<style scoped>\n",
       "    .dataframe tbody tr th:only-of-type {\n",
       "        vertical-align: middle;\n",
       "    }\n",
       "\n",
       "    .dataframe tbody tr th {\n",
       "        vertical-align: top;\n",
       "    }\n",
       "\n",
       "    .dataframe thead th {\n",
       "        text-align: right;\n",
       "    }\n",
       "</style>\n",
       "<table border=\"1\" class=\"dataframe\">\n",
       "  <thead>\n",
       "    <tr style=\"text-align: right;\">\n",
       "      <th></th>\n",
       "      <th>Movie</th>\n",
       "      <th>Release Date</th>\n",
       "      <th>Production Budget</th>\n",
       "      <th>Domestic Gross</th>\n",
       "      <th>Worldwide Gross</th>\n",
       "    </tr>\n",
       "  </thead>\n",
       "  <tbody>\n",
       "    <tr>\n",
       "      <th>0</th>\n",
       "      <td>Star Wars Ep. VII: The Force Awakens</td>\n",
       "      <td>Dec 16, 2015</td>\n",
       "      <td>$533,200,000</td>\n",
       "      <td>$936,662,225</td>\n",
       "      <td>$2,056,046,835</td>\n",
       "    </tr>\n",
       "    <tr>\n",
       "      <th>1</th>\n",
       "      <td>Avengers: Endgame</td>\n",
       "      <td>Apr 23, 2019</td>\n",
       "      <td>$400,000,000</td>\n",
       "      <td>$858,373,000</td>\n",
       "      <td>$2,748,242,781</td>\n",
       "    </tr>\n",
       "    <tr>\n",
       "      <th>2</th>\n",
       "      <td>Avatar: The Way of Water</td>\n",
       "      <td>Dec 9, 2022</td>\n",
       "      <td>$400,000,000</td>\n",
       "      <td>$684,075,767</td>\n",
       "      <td>$2,312,413,227</td>\n",
       "    </tr>\n",
       "    <tr>\n",
       "      <th>3</th>\n",
       "      <td>Mission: Impossible—The Final Reckoning</td>\n",
       "      <td>May 21, 2025</td>\n",
       "      <td>$400,000,000</td>\n",
       "      <td>$0</td>\n",
       "      <td>$0</td>\n",
       "    </tr>\n",
       "    <tr>\n",
       "      <th>4</th>\n",
       "      <td>Pirates of the Caribbean: On Stranger Tides</td>\n",
       "      <td>May 20, 2011</td>\n",
       "      <td>$379,000,000</td>\n",
       "      <td>$241,071,802</td>\n",
       "      <td>$1,045,713,802</td>\n",
       "    </tr>\n",
       "  </tbody>\n",
       "</table>\n",
       "</div>"
      ],
      "text/plain": [
       "0                                        Movie  Release Date  \\\n",
       "0         Star Wars Ep. VII: The Force Awakens  Dec 16, 2015   \n",
       "1                            Avengers: Endgame  Apr 23, 2019   \n",
       "2                     Avatar: The Way of Water   Dec 9, 2022   \n",
       "3      Mission: Impossible—The Final Reckoning  May 21, 2025   \n",
       "4  Pirates of the Caribbean: On Stranger Tides  May 20, 2011   \n",
       "\n",
       "0 Production Budget Domestic Gross Worldwide Gross  \n",
       "0      $533,200,000   $936,662,225  $2,056,046,835  \n",
       "1      $400,000,000   $858,373,000  $2,748,242,781  \n",
       "2      $400,000,000   $684,075,767  $2,312,413,227  \n",
       "3      $400,000,000             $0              $0  \n",
       "4      $379,000,000   $241,071,802  $1,045,713,802  "
      ]
     },
     "execution_count": 37,
     "metadata": {},
     "output_type": "execute_result"
    }
   ],
   "source": [
    "# Reorder columns\n",
    "df = df[['Movie', 'Release Date', 'Production Budget', 'Domestic Gross', 'Worldwide Gross']]\n",
    "df.head()"
   ]
  },
  {
   "cell_type": "code",
   "execution_count": 38,
   "metadata": {},
   "outputs": [
    {
     "data": {
      "application/vnd.microsoft.datawrangler.viewer.v0+json": {
       "columns": [
        {
         "name": "index",
         "rawType": "int64",
         "type": "integer"
        },
        {
         "name": "Movie",
         "rawType": "object",
         "type": "string"
        },
        {
         "name": "Release Date",
         "rawType": "object",
         "type": "string"
        },
        {
         "name": "Production Budget",
         "rawType": "object",
         "type": "string"
        },
        {
         "name": "Domestic Gross",
         "rawType": "object",
         "type": "string"
        },
        {
         "name": "Worldwide Gross",
         "rawType": "object",
         "type": "string"
        }
       ],
       "conversionMethod": "pd.DataFrame",
       "ref": "dd9a5b84-da74-4008-b4a6-9dc70540ff93",
       "rows": [
        [
         "0",
         "Star Wars Ep. VII: The Force Awakens",
         "Dec 16, 2015",
         "$533,200,000",
         "$936,662,225",
         "$2,056,046,835"
        ],
        [
         "1",
         "Avengers: Endgame",
         "Apr 23, 2019",
         "$400,000,000",
         "$858,373,000",
         "$2,748,242,781"
        ],
        [
         "2",
         "Avatar: The Way of Water",
         "Dec 9, 2022",
         "$400,000,000",
         "$684,075,767",
         "$2,312,413,227"
        ],
        [
         "3",
         "Mission: Impossible—The Final Reckoning",
         "May 21, 2025",
         "$400,000,000",
         "$0",
         "$0"
        ],
        [
         "4",
         "Pirates of the Caribbean: On Stranger Tides",
         "May 20, 2011",
         "$379,000,000",
         "$241,071,802",
         "$1,045,713,802"
        ],
        [
         "5",
         "Avengers: Age of Ultron",
         "Apr 22, 2015",
         "$365,000,000",
         "$459,005,868",
         "$1,395,316,979"
        ],
        [
         "6",
         "Fast X",
         "May 17, 2023",
         "$340,000,000",
         "$146,126,015",
         "$714,375,114"
        ],
        [
         "7",
         "Solo: A Star Wars Story",
         "May 23, 2018",
         "$330,400,000",
         "$213,767,512",
         "$393,151,347"
        ],
        [
         "8",
         "Avengers: Infinity War",
         "Apr 25, 2018",
         "$300,000,000",
         "$678,815,482",
         "$2,048,359,754"
        ],
        [
         "9",
         "Pirates of the Caribbean: At World’s End",
         "May 24, 2007",
         "$300,000,000",
         "$309,420,425",
         "$960,996,492"
        ],
        [
         "10",
         "Justice League",
         "Nov 13, 2017",
         "$300,000,000",
         "$229,024,295",
         "$655,945,209"
        ],
        [
         "11",
         "Indiana Jones and the Dial of Destiny",
         "Jun 28, 2023",
         "$300,000,000",
         "$174,480,468",
         "$383,963,057"
        ],
        [
         "12",
         "Mission: Impossible Dead Reckoning Part One",
         "Jul 11, 2023",
         "$290,000,000",
         "$172,640,980",
         "$565,857,048"
        ],
        [
         "13",
         "Rogue One: A Star Wars Story",
         "Dec 14, 2016",
         "$280,200,000",
         "$533,539,991",
         "$1,055,083,596"
        ],
        [
         "14",
         "Star Wars: The Rise of Skywalker",
         "Dec 18, 2019",
         "$275,000,000",
         "$515,202,542",
         "$1,069,951,814"
        ],
        [
         "15",
         "The Marvels",
         "Nov 8, 2023",
         "$270,000,000",
         "$84,500,223",
         "$199,706,250"
        ],
        [
         "16",
         "Jurassic World Rebirth",
         "Jul 2, 2025",
         "$265,000,000",
         "$0",
         "$0"
        ],
        [
         "17",
         "John Carter",
         "Mar 7, 2012",
         "$263,700,000",
         "$73,058,679",
         "$282,778,100"
        ],
        [
         "18",
         "Batman v Superman: Dawn of Justice",
         "Mar 23, 2016",
         "$263,000,000",
         "$330,360,194",
         "$872,395,091"
        ],
        [
         "19",
         "Star Wars Ep. VIII: The Last Jedi",
         "Dec 13, 2017",
         "$262,000,000",
         "$620,181,382",
         "$1,322,581,071"
        ],
        [
         "20",
         "The Lion King",
         "Jul 11, 2019",
         "$260,000,000",
         "$543,638,043",
         "$1,661,454,403"
        ],
        [
         "21",
         "Tangled",
         "Nov 24, 2010",
         "$260,000,000",
         "$200,821,936",
         "$582,440,151"
        ],
        [
         "22",
         "Spider-Man 3",
         "May 3, 2007",
         "$258,000,000",
         "$337,607,351",
         "$895,937,268"
        ],
        [
         "23",
         "Black Panther: Wakanda Forever",
         "Nov 9, 2022",
         "$250,000,000",
         "$453,829,060",
         "$853,985,546"
        ],
        [
         "24",
         "Captain America: Civil War",
         "Apr 22, 2016",
         "$250,000,000",
         "$408,084,349",
         "$1,151,899,586"
        ],
        [
         "25",
         "Guardians of the Galaxy Vol 3",
         "May 3, 2023",
         "$250,000,000",
         "$358,995,815",
         "$845,163,792"
        ],
        [
         "26",
         "Thor: Love and Thunder",
         "Jul 1, 2022",
         "$250,000,000",
         "$343,256,830",
         "$760,928,081"
        ],
        [
         "27",
         "Harry Potter and the Half-Blood Prince",
         "Jul 15, 2009",
         "$250,000,000",
         "$302,854,063",
         "$926,492,031"
        ],
        [
         "28",
         "The Little Mermaid",
         "May 24, 2023",
         "$250,000,000",
         "$298,172,056",
         "$569,626,289"
        ],
        [
         "29",
         "The Hobbit: The Desolation of Smaug",
         "Dec 12, 2013",
         "$250,000,000",
         "$258,241,522",
         "$959,358,436"
        ],
        [
         "30",
         "The Hobbit: The Battle of the Five Armies",
         "Dec 10, 2014",
         "$250,000,000",
         "$255,119,788",
         "$940,323,039"
        ],
        [
         "31",
         "The Fate of the Furious",
         "Apr 7, 2017",
         "$250,000,000",
         "$225,764,765",
         "$1,235,534,014"
        ],
        [
         "32",
         "Gladiator II",
         "Nov 13, 2024",
         "$250,000,000",
         "$172,438,016",
         "$461,446,257"
        ],
        [
         "33",
         "No Time to Die",
         "Sep 29, 2021",
         "$250,000,000",
         "$160,891,007",
         "$758,929,771"
        ],
        [
         "34",
         "Avatar: Fire and Ash",
         "Dec 17, 2025",
         "$250,000,000",
         "$0",
         "$0"
        ],
        [
         "35",
         "Spectre",
         "Oct 6, 2015",
         "$245,000,000",
         "$200,074,175",
         "$879,077,344"
        ],
        [
         "36",
         "Avatar",
         "Dec 17, 2009",
         "$237,000,000",
         "$785,221,649",
         "$2,923,706,026"
        ],
        [
         "37",
         "Superman Returns",
         "Jun 28, 2006",
         "$232,000,000",
         "$200,120,000",
         "$391,081,192"
        ],
        [
         "38",
         "The Dark Knight Rises",
         "Jul 19, 2012",
         "$230,000,000",
         "$448,139,099",
         "$1,082,228,107"
        ],
        [
         "39",
         "Pirates of the Caribbean: Dead Men Tell No Tales",
         "May 23, 2017",
         "$230,000,000",
         "$172,558,876",
         "$794,861,794"
        ],
        [
         "40",
         "Quantum of Solace",
         "Nov 14, 2008",
         "$230,000,000",
         "$169,368,427",
         "$591,692,078"
        ],
        [
         "41",
         "The Avengers",
         "Apr 25, 2012",
         "$225,000,000",
         "$623,357,910",
         "$1,515,100,211"
        ],
        [
         "42",
         "Pirates of the Caribbean: Dead Man’s Chest",
         "Jul 6, 2006",
         "$225,000,000",
         "$423,315,812",
         "$1,066,179,725"
        ],
        [
         "43",
         "Man of Steel",
         "Jun 14, 2013",
         "$225,000,000",
         "$291,045,518",
         "$667,999,518"
        ],
        [
         "44",
         "The Chronicles of Narnia: Prince Caspian",
         "May 16, 2008",
         "$225,000,000",
         "$141,621,490",
         "$417,341,288"
        ],
        [
         "45",
         "The Lone Ranger",
         "Jul 2, 2013",
         "$225,000,000",
         "$89,302,115",
         "$260,002,115"
        ],
        [
         "46",
         "The Amazing Spider-Man",
         "Jun 27, 2012",
         "$220,000,000",
         "$262,717,220",
         "$758,576,824"
        ],
        [
         "47",
         "Battleship",
         "Apr 11, 2012",
         "$220,000,000",
         "$65,233,400",
         "$313,477,717"
        ],
        [
         "48",
         "Transformers: The Last Knight",
         "Jun 20, 2017",
         "$217,000,000",
         "$130,168,683",
         "$602,893,340"
        ],
        [
         "49",
         "Jurassic World",
         "Jun 9, 2015",
         "$215,000,000",
         "$653,406,625",
         "$1,671,063,641"
        ]
       ],
       "shape": {
        "columns": 5,
        "rows": 1390
       }
      },
      "text/html": [
       "<div>\n",
       "<style scoped>\n",
       "    .dataframe tbody tr th:only-of-type {\n",
       "        vertical-align: middle;\n",
       "    }\n",
       "\n",
       "    .dataframe tbody tr th {\n",
       "        vertical-align: top;\n",
       "    }\n",
       "\n",
       "    .dataframe thead th {\n",
       "        text-align: right;\n",
       "    }\n",
       "</style>\n",
       "<table border=\"1\" class=\"dataframe\">\n",
       "  <thead>\n",
       "    <tr style=\"text-align: right;\">\n",
       "      <th></th>\n",
       "      <th>Movie</th>\n",
       "      <th>Release Date</th>\n",
       "      <th>Production Budget</th>\n",
       "      <th>Domestic Gross</th>\n",
       "      <th>Worldwide Gross</th>\n",
       "    </tr>\n",
       "  </thead>\n",
       "  <tbody>\n",
       "    <tr>\n",
       "      <th>0</th>\n",
       "      <td>Star Wars Ep. VII: The Force Awakens</td>\n",
       "      <td>Dec 16, 2015</td>\n",
       "      <td>$533,200,000</td>\n",
       "      <td>$936,662,225</td>\n",
       "      <td>$2,056,046,835</td>\n",
       "    </tr>\n",
       "    <tr>\n",
       "      <th>1</th>\n",
       "      <td>Avengers: Endgame</td>\n",
       "      <td>Apr 23, 2019</td>\n",
       "      <td>$400,000,000</td>\n",
       "      <td>$858,373,000</td>\n",
       "      <td>$2,748,242,781</td>\n",
       "    </tr>\n",
       "    <tr>\n",
       "      <th>2</th>\n",
       "      <td>Avatar: The Way of Water</td>\n",
       "      <td>Dec 9, 2022</td>\n",
       "      <td>$400,000,000</td>\n",
       "      <td>$684,075,767</td>\n",
       "      <td>$2,312,413,227</td>\n",
       "    </tr>\n",
       "    <tr>\n",
       "      <th>3</th>\n",
       "      <td>Mission: Impossible—The Final Reckoning</td>\n",
       "      <td>May 21, 2025</td>\n",
       "      <td>$400,000,000</td>\n",
       "      <td>$0</td>\n",
       "      <td>$0</td>\n",
       "    </tr>\n",
       "    <tr>\n",
       "      <th>4</th>\n",
       "      <td>Pirates of the Caribbean: On Stranger Tides</td>\n",
       "      <td>May 20, 2011</td>\n",
       "      <td>$379,000,000</td>\n",
       "      <td>$241,071,802</td>\n",
       "      <td>$1,045,713,802</td>\n",
       "    </tr>\n",
       "    <tr>\n",
       "      <th>...</th>\n",
       "      <td>...</td>\n",
       "      <td>...</td>\n",
       "      <td>...</td>\n",
       "      <td>...</td>\n",
       "      <td>...</td>\n",
       "    </tr>\n",
       "    <tr>\n",
       "      <th>1385</th>\n",
       "      <td>Following</td>\n",
       "      <td>Apr 2, 1999</td>\n",
       "      <td>$6,000</td>\n",
       "      <td>$48,482</td>\n",
       "      <td>$240,495</td>\n",
       "    </tr>\n",
       "    <tr>\n",
       "      <th>1386</th>\n",
       "      <td>Return to the Land of Wonders</td>\n",
       "      <td>Jul 13, 2005</td>\n",
       "      <td>$5,000</td>\n",
       "      <td>$1,338</td>\n",
       "      <td>$1,338</td>\n",
       "    </tr>\n",
       "    <tr>\n",
       "      <th>1387</th>\n",
       "      <td>A Plague So Pleasant</td>\n",
       "      <td>Sep 29, 2015</td>\n",
       "      <td>$1,400</td>\n",
       "      <td>$0</td>\n",
       "      <td>$0</td>\n",
       "    </tr>\n",
       "    <tr>\n",
       "      <th>1388</th>\n",
       "      <td>My Date With Drew</td>\n",
       "      <td>Aug 5, 2005</td>\n",
       "      <td>$1,100</td>\n",
       "      <td>$181,041</td>\n",
       "      <td>$181,041</td>\n",
       "    </tr>\n",
       "    <tr>\n",
       "      <th>1389</th>\n",
       "      <td>Neeras</td>\n",
       "      <td>Mar 2, 2021</td>\n",
       "      <td>$86</td>\n",
       "      <td>$0</td>\n",
       "      <td>$0</td>\n",
       "    </tr>\n",
       "  </tbody>\n",
       "</table>\n",
       "<p>1390 rows × 5 columns</p>\n",
       "</div>"
      ],
      "text/plain": [
       "0                                           Movie  Release Date  \\\n",
       "0            Star Wars Ep. VII: The Force Awakens  Dec 16, 2015   \n",
       "1                               Avengers: Endgame  Apr 23, 2019   \n",
       "2                        Avatar: The Way of Water   Dec 9, 2022   \n",
       "3         Mission: Impossible—The Final Reckoning  May 21, 2025   \n",
       "4     Pirates of the Caribbean: On Stranger Tides  May 20, 2011   \n",
       "...                                           ...           ...   \n",
       "1385                                    Following   Apr 2, 1999   \n",
       "1386                Return to the Land of Wonders  Jul 13, 2005   \n",
       "1387                         A Plague So Pleasant  Sep 29, 2015   \n",
       "1388                            My Date With Drew   Aug 5, 2005   \n",
       "1389                                       Neeras   Mar 2, 2021   \n",
       "\n",
       "0    Production Budget Domestic Gross Worldwide Gross  \n",
       "0         $533,200,000   $936,662,225  $2,056,046,835  \n",
       "1         $400,000,000   $858,373,000  $2,748,242,781  \n",
       "2         $400,000,000   $684,075,767  $2,312,413,227  \n",
       "3         $400,000,000             $0              $0  \n",
       "4         $379,000,000   $241,071,802  $1,045,713,802  \n",
       "...                ...            ...             ...  \n",
       "1385            $6,000        $48,482        $240,495  \n",
       "1386            $5,000         $1,338          $1,338  \n",
       "1387            $1,400             $0              $0  \n",
       "1388            $1,100       $181,041        $181,041  \n",
       "1389               $86             $0              $0  \n",
       "\n",
       "[1390 rows x 5 columns]"
      ]
     },
     "execution_count": 38,
     "metadata": {},
     "output_type": "execute_result"
    }
   ],
   "source": [
    "df"
   ]
  },
  {
   "cell_type": "code",
   "execution_count": 39,
   "metadata": {},
   "outputs": [
    {
     "data": {
      "text/plain": [
       "0\n",
       "Movie                0\n",
       "Release Date         0\n",
       "Production Budget    0\n",
       "Domestic Gross       0\n",
       "Worldwide Gross      0\n",
       "dtype: int64"
      ]
     },
     "execution_count": 39,
     "metadata": {},
     "output_type": "execute_result"
    }
   ],
   "source": [
    "# Checking null value\n",
    "df.isnull().sum()"
   ]
  },
  {
   "cell_type": "code",
   "execution_count": 40,
   "metadata": {},
   "outputs": [
    {
     "data": {
      "text/plain": [
       "np.int64(0)"
      ]
     },
     "execution_count": 40,
     "metadata": {},
     "output_type": "execute_result"
    }
   ],
   "source": [
    "# Checking duplicate items\n",
    "df.duplicated().sum()"
   ]
  },
  {
   "cell_type": "code",
   "execution_count": 41,
   "metadata": {},
   "outputs": [
    {
     "data": {
      "text/plain": [
       "np.int64(34)"
      ]
     },
     "execution_count": 41,
     "metadata": {},
     "output_type": "execute_result"
    }
   ],
   "source": [
    "# Check Unknown in Realease Date\n",
    "(df['Release Date'] == 'Unknown').sum()"
   ]
  },
  {
   "cell_type": "code",
   "execution_count": 42,
   "metadata": {},
   "outputs": [
    {
     "data": {
      "text/plain": [
       "0\n",
       "Movie                object\n",
       "Release Date         object\n",
       "Production Budget    object\n",
       "Domestic Gross       object\n",
       "Worldwide Gross      object\n",
       "dtype: object"
      ]
     },
     "execution_count": 42,
     "metadata": {},
     "output_type": "execute_result"
    }
   ],
   "source": [
    "# Check data type\n",
    "df.dtypes"
   ]
  },
  {
   "cell_type": "code",
   "execution_count": 43,
   "metadata": {},
   "outputs": [
    {
     "name": "stderr",
     "output_type": "stream",
     "text": [
      "<>:2: SyntaxWarning: invalid escape sequence '\\$'\n",
      "<>:3: SyntaxWarning: invalid escape sequence '\\$'\n",
      "<>:4: SyntaxWarning: invalid escape sequence '\\$'\n",
      "<>:2: SyntaxWarning: invalid escape sequence '\\$'\n",
      "<>:3: SyntaxWarning: invalid escape sequence '\\$'\n",
      "<>:4: SyntaxWarning: invalid escape sequence '\\$'\n",
      "C:\\Users\\mochw\\AppData\\Local\\Temp\\ipykernel_6340\\3460769584.py:2: SyntaxWarning: invalid escape sequence '\\$'\n",
      "  df['Production Budget'] = df['Production Budget'].replace('[\\$,]','',regex=True).astype(float)\n",
      "C:\\Users\\mochw\\AppData\\Local\\Temp\\ipykernel_6340\\3460769584.py:3: SyntaxWarning: invalid escape sequence '\\$'\n",
      "  df['Domestic Gross'] = df['Domestic Gross'].replace('[\\$,]', '', regex=True).astype(float)\n",
      "C:\\Users\\mochw\\AppData\\Local\\Temp\\ipykernel_6340\\3460769584.py:4: SyntaxWarning: invalid escape sequence '\\$'\n",
      "  df['Worldwide Gross'] = df['Worldwide Gross'].replace('[\\$,]', '', regex=True).astype(float)\n"
     ]
    },
    {
     "data": {
      "text/plain": [
       "0\n",
       "Movie                 object\n",
       "Release Date          object\n",
       "Production Budget    float64\n",
       "Domestic Gross       float64\n",
       "Worldwide Gross      float64\n",
       "dtype: object"
      ]
     },
     "execution_count": 43,
     "metadata": {},
     "output_type": "execute_result"
    }
   ],
   "source": [
    "# Change data type to float\n",
    "df['Production Budget'] = df['Production Budget'].replace('[\\$,]','',regex=True).astype(float)\n",
    "df['Domestic Gross'] = df['Domestic Gross'].replace('[\\$,]', '', regex=True).astype(float)\n",
    "df['Worldwide Gross'] = df['Worldwide Gross'].replace('[\\$,]', '', regex=True).astype(float)\n",
    "df.dtypes"
   ]
  },
  {
   "cell_type": "code",
   "execution_count": 44,
   "metadata": {},
   "outputs": [
    {
     "data": {
      "application/vnd.microsoft.datawrangler.viewer.v0+json": {
       "columns": [
        {
         "name": "index",
         "rawType": "int64",
         "type": "integer"
        },
        {
         "name": "Movie",
         "rawType": "object",
         "type": "string"
        },
        {
         "name": "Release Date",
         "rawType": "object",
         "type": "string"
        },
        {
         "name": "Production Budget",
         "rawType": "float64",
         "type": "float"
        },
        {
         "name": "Domestic Gross",
         "rawType": "float64",
         "type": "float"
        },
        {
         "name": "Worldwide Gross",
         "rawType": "float64",
         "type": "float"
        }
       ],
       "conversionMethod": "pd.DataFrame",
       "ref": "4cd992f5-90b8-49be-b89f-19653e71056f",
       "rows": [
        [
         "3",
         "Mission: Impossible—The Final Reckoning",
         "May 21, 2025",
         "400000000.0",
         "0.0",
         "0.0"
        ],
        [
         "16",
         "Jurassic World Rebirth",
         "Jul 2, 2025",
         "265000000.0",
         "0.0",
         "0.0"
        ],
        [
         "34",
         "Avatar: Fire and Ash",
         "Dec 17, 2025",
         "250000000.0",
         "0.0",
         "0.0"
        ],
        [
         "127",
         "Artemis Fowl",
         "Jun 12, 2020",
         "100000000.0",
         "0.0",
         "0.0"
        ],
        [
         "128",
         "Predator: Badlands",
         "Nov 5, 2025",
         "100000000.0",
         "0.0",
         "0.0"
        ],
        [
         "205",
         "Extraction",
         "Apr 24, 2020",
         "65000000.0",
         "0.0",
         "0.0"
        ],
        [
         "206",
         "Prey",
         "Aug 5, 2022",
         "65000000.0",
         "0.0",
         "0.0"
        ],
        [
         "363",
         "The Alto Knights",
         "Mar 19, 2025",
         "45000000.0",
         "0.0",
         "0.0"
        ],
        [
         "435",
         "Black Water Transit",
         "Unknown",
         "35000000.0",
         "0.0",
         "0.0"
        ],
        [
         "688",
         "Butterfly on a Wheel",
         "Dec 25, 2007",
         "20000000.0",
         "0.0",
         "0.0"
        ],
        [
         "689",
         "Dwegons and Leprechauns",
         "Aug 29, 2014",
         "20000000.0",
         "0.0",
         "0.0"
        ],
        [
         "690",
         "Fight Valley",
         "Jul 22, 2016",
         "20000000.0",
         "0.0",
         "0.0"
        ],
        [
         "691",
         "The Thousand Miles",
         "Unknown",
         "20000000.0",
         "0.0",
         "0.0"
        ],
        [
         "692",
         "How It Ends",
         "Jul 13, 2018",
         "20000000.0",
         "0.0",
         "0.0"
        ],
        [
         "693",
         "Tyler Perry’s A Madea Homecoming",
         "Feb 25, 2022",
         "20000000.0",
         "0.0",
         "0.0"
        ],
        [
         "694",
         "Bird Box",
         "Dec 13, 2018",
         "19800000.0",
         "0.0",
         "0.0"
        ],
        [
         "900",
         "The Bling Ring",
         "Sep 26, 2011",
         "8000000.0",
         "0.0",
         "0.0"
        ],
        [
         "932",
         "Pound of Flesh",
         "May 15, 2015",
         "7500000.0",
         "0.0",
         "0.0"
        ],
        [
         "933",
         "Little Evil",
         "Sep 1, 2017",
         "7500000.0",
         "0.0",
         "0.0"
        ],
        [
         "1020",
         "Dead Like Me: Life After Death",
         "Feb 17, 2009",
         "5000000.0",
         "0.0",
         "0.0"
        ],
        [
         "1021",
         "Farce of the Penguins",
         "Jan 30, 2007",
         "5000000.0",
         "0.0",
         "0.0"
        ],
        [
         "1022",
         "Psych 9",
         "Unknown",
         "5000000.0",
         "0.0",
         "0.0"
        ],
        [
         "1023",
         "Wheelman",
         "Oct 20, 2017",
         "5000000.0",
         "0.0",
         "0.0"
        ],
        [
         "1024",
         "Reach Me",
         "Nov 21, 2014",
         "5000000.0",
         "0.0",
         "0.0"
        ],
        [
         "1025",
         "Henry & Me",
         "Aug 18, 2014",
         "5000000.0",
         "0.0",
         "0.0"
        ],
        [
         "1026",
         "Let's Kill Ward's Wife",
         "Jan 9, 2015",
         "5000000.0",
         "0.0",
         "0.0"
        ],
        [
         "1027",
         "We Have Your Husband",
         "Unknown",
         "5000000.0",
         "0.0",
         "0.0"
        ],
        [
         "1028",
         "Should've Been Romeo",
         "Unknown",
         "5000000.0",
         "0.0",
         "0.0"
        ],
        [
         "1029",
         "Aztec Warrior",
         "Unknown",
         "5000000.0",
         "0.0",
         "0.0"
        ],
        [
         "1030",
         "Navy SEAL vs. Zombies",
         "Sep 25, 2015",
         "5000000.0",
         "0.0",
         "0.0"
        ],
        [
         "1031",
         "The Hatching",
         "Mar 15, 2016",
         "5000000.0",
         "0.0",
         "0.0"
        ],
        [
         "1032",
         "Running Forever",
         "Oct 27, 2015",
         "5000000.0",
         "0.0",
         "0.0"
        ],
        [
         "1033",
         "7500",
         "Jul 18, 2019",
         "5000000.0",
         "0.0",
         "0.0"
        ],
        [
         "1034",
         "Time",
         "Oct 15, 2026",
         "5000000.0",
         "0.0",
         "0.0"
        ],
        [
         "1050",
         "Without Men",
         "Unknown",
         "4700000.0",
         "0.0",
         "0.0"
        ],
        [
         "1051",
         "Treading Water",
         "Mar 10, 2015",
         "4700000.0",
         "0.0",
         "0.0"
        ],
        [
         "1095",
         "Hansel & Gretel Get Baked",
         "Jun 25, 2013",
         "4500000.0",
         "0.0",
         "0.0"
        ],
        [
         "1096",
         "Fugly!",
         "Jan 3, 2017",
         "4500000.0",
         "0.0",
         "0.0"
        ],
        [
         "1097",
         "Zipper",
         "Aug 28, 2015",
         "4500000.0",
         "0.0",
         "0.0"
        ],
        [
         "1098",
         "The Final Girls",
         "Nov 3, 2015",
         "4500000.0",
         "0.0",
         "0.0"
        ],
        [
         "1099",
         "Daisy Winters",
         "Dec 1, 2017",
         "4500000.0",
         "0.0",
         "0.0"
        ],
        [
         "1100",
         "Silver Medalist",
         "Unknown",
         "2600000.0",
         "0.0",
         "0.0"
        ],
        [
         "1101",
         "Fat, Sick & Nearly Dead",
         "Apr 1, 2011",
         "2600000.0",
         "0.0",
         "0.0"
        ],
        [
         "1139",
         "The Calling",
         "Unknown",
         "2500000.0",
         "0.0",
         "0.0"
        ],
        [
         "1140",
         "Alien Uprising",
         "Jun 21, 2013",
         "2500000.0",
         "0.0",
         "0.0"
        ],
        [
         "1141",
         "Christmas Mail",
         "Unknown",
         "2500000.0",
         "0.0",
         "0.0"
        ],
        [
         "1142",
         "Stung",
         "Jul 3, 2015",
         "2500000.0",
         "0.0",
         "0.0"
        ],
        [
         "1143",
         "Sky Sharks",
         "Sep 1, 2017",
         "2500000.0",
         "0.0",
         "0.0"
        ],
        [
         "1144",
         "8 Days",
         "Oct 13, 2015",
         "2500000.0",
         "0.0",
         "0.0"
        ],
        [
         "1145",
         "Antibirth",
         "Sep 2, 2016",
         "2500000.0",
         "0.0",
         "0.0"
        ]
       ],
       "shape": {
        "columns": 5,
        "rows": 129
       }
      },
      "text/html": [
       "<div>\n",
       "<style scoped>\n",
       "    .dataframe tbody tr th:only-of-type {\n",
       "        vertical-align: middle;\n",
       "    }\n",
       "\n",
       "    .dataframe tbody tr th {\n",
       "        vertical-align: top;\n",
       "    }\n",
       "\n",
       "    .dataframe thead th {\n",
       "        text-align: right;\n",
       "    }\n",
       "</style>\n",
       "<table border=\"1\" class=\"dataframe\">\n",
       "  <thead>\n",
       "    <tr style=\"text-align: right;\">\n",
       "      <th></th>\n",
       "      <th>Movie</th>\n",
       "      <th>Release Date</th>\n",
       "      <th>Production Budget</th>\n",
       "      <th>Domestic Gross</th>\n",
       "      <th>Worldwide Gross</th>\n",
       "    </tr>\n",
       "  </thead>\n",
       "  <tbody>\n",
       "    <tr>\n",
       "      <th>3</th>\n",
       "      <td>Mission: Impossible—The Final Reckoning</td>\n",
       "      <td>May 21, 2025</td>\n",
       "      <td>400000000.0</td>\n",
       "      <td>0.0</td>\n",
       "      <td>0.0</td>\n",
       "    </tr>\n",
       "    <tr>\n",
       "      <th>16</th>\n",
       "      <td>Jurassic World Rebirth</td>\n",
       "      <td>Jul 2, 2025</td>\n",
       "      <td>265000000.0</td>\n",
       "      <td>0.0</td>\n",
       "      <td>0.0</td>\n",
       "    </tr>\n",
       "    <tr>\n",
       "      <th>34</th>\n",
       "      <td>Avatar: Fire and Ash</td>\n",
       "      <td>Dec 17, 2025</td>\n",
       "      <td>250000000.0</td>\n",
       "      <td>0.0</td>\n",
       "      <td>0.0</td>\n",
       "    </tr>\n",
       "    <tr>\n",
       "      <th>127</th>\n",
       "      <td>Artemis Fowl</td>\n",
       "      <td>Jun 12, 2020</td>\n",
       "      <td>100000000.0</td>\n",
       "      <td>0.0</td>\n",
       "      <td>0.0</td>\n",
       "    </tr>\n",
       "    <tr>\n",
       "      <th>128</th>\n",
       "      <td>Predator: Badlands</td>\n",
       "      <td>Nov 5, 2025</td>\n",
       "      <td>100000000.0</td>\n",
       "      <td>0.0</td>\n",
       "      <td>0.0</td>\n",
       "    </tr>\n",
       "    <tr>\n",
       "      <th>...</th>\n",
       "      <td>...</td>\n",
       "      <td>...</td>\n",
       "      <td>...</td>\n",
       "      <td>...</td>\n",
       "      <td>...</td>\n",
       "    </tr>\n",
       "    <tr>\n",
       "      <th>1372</th>\n",
       "      <td>Tin Can Man</td>\n",
       "      <td>Unknown</td>\n",
       "      <td>12000.0</td>\n",
       "      <td>0.0</td>\n",
       "      <td>0.0</td>\n",
       "    </tr>\n",
       "    <tr>\n",
       "      <th>1379</th>\n",
       "      <td>Family Motocross</td>\n",
       "      <td>May 19, 2015</td>\n",
       "      <td>10000.0</td>\n",
       "      <td>0.0</td>\n",
       "      <td>0.0</td>\n",
       "    </tr>\n",
       "    <tr>\n",
       "      <th>1384</th>\n",
       "      <td>Red 11</td>\n",
       "      <td>Mar 1, 2022</td>\n",
       "      <td>7000.0</td>\n",
       "      <td>0.0</td>\n",
       "      <td>0.0</td>\n",
       "    </tr>\n",
       "    <tr>\n",
       "      <th>1387</th>\n",
       "      <td>A Plague So Pleasant</td>\n",
       "      <td>Sep 29, 2015</td>\n",
       "      <td>1400.0</td>\n",
       "      <td>0.0</td>\n",
       "      <td>0.0</td>\n",
       "    </tr>\n",
       "    <tr>\n",
       "      <th>1389</th>\n",
       "      <td>Neeras</td>\n",
       "      <td>Mar 2, 2021</td>\n",
       "      <td>86.0</td>\n",
       "      <td>0.0</td>\n",
       "      <td>0.0</td>\n",
       "    </tr>\n",
       "  </tbody>\n",
       "</table>\n",
       "<p>129 rows × 5 columns</p>\n",
       "</div>"
      ],
      "text/plain": [
       "0                                       Movie  Release Date  \\\n",
       "3     Mission: Impossible—The Final Reckoning  May 21, 2025   \n",
       "16                     Jurassic World Rebirth   Jul 2, 2025   \n",
       "34                       Avatar: Fire and Ash  Dec 17, 2025   \n",
       "127                              Artemis Fowl  Jun 12, 2020   \n",
       "128                        Predator: Badlands   Nov 5, 2025   \n",
       "...                                       ...           ...   \n",
       "1372                              Tin Can Man       Unknown   \n",
       "1379                         Family Motocross  May 19, 2015   \n",
       "1384                                   Red 11   Mar 1, 2022   \n",
       "1387                     A Plague So Pleasant  Sep 29, 2015   \n",
       "1389                                   Neeras   Mar 2, 2021   \n",
       "\n",
       "0     Production Budget  Domestic Gross  Worldwide Gross  \n",
       "3           400000000.0             0.0              0.0  \n",
       "16          265000000.0             0.0              0.0  \n",
       "34          250000000.0             0.0              0.0  \n",
       "127         100000000.0             0.0              0.0  \n",
       "128         100000000.0             0.0              0.0  \n",
       "...                 ...             ...              ...  \n",
       "1372            12000.0             0.0              0.0  \n",
       "1379            10000.0             0.0              0.0  \n",
       "1384             7000.0             0.0              0.0  \n",
       "1387             1400.0             0.0              0.0  \n",
       "1389               86.0             0.0              0.0  \n",
       "\n",
       "[129 rows x 5 columns]"
      ]
     },
     "execution_count": 44,
     "metadata": {},
     "output_type": "execute_result"
    }
   ],
   "source": [
    "# Check zero domestic gross + worldwide gross\n",
    "zero_gross = df[(df['Domestic Gross'] == 0) & (df['Worldwide Gross'] == 0)]\n",
    "zero_gross"
   ]
  },
  {
   "cell_type": "code",
   "execution_count": 45,
   "metadata": {},
   "outputs": [],
   "source": [
    "# Delete zero gross\n",
    "df = df[(df['Domestic Gross'] != 0) | (df['Worldwide Gross'] != 0)]"
   ]
  },
  {
   "cell_type": "code",
   "execution_count": 46,
   "metadata": {},
   "outputs": [],
   "source": [
    "# Delete Unknown in Release Date\n",
    "df = df[df['Release Date'] != 'Unknown']"
   ]
  },
  {
   "cell_type": "code",
   "execution_count": 47,
   "metadata": {},
   "outputs": [
    {
     "data": {
      "application/vnd.microsoft.datawrangler.viewer.v0+json": {
       "columns": [
        {
         "name": "index",
         "rawType": "int64",
         "type": "integer"
        },
        {
         "name": "Movie",
         "rawType": "object",
         "type": "string"
        },
        {
         "name": "Release Date",
         "rawType": "object",
         "type": "string"
        },
        {
         "name": "Production Budget",
         "rawType": "float64",
         "type": "float"
        },
        {
         "name": "Domestic Gross",
         "rawType": "float64",
         "type": "float"
        },
        {
         "name": "Worldwide Gross",
         "rawType": "float64",
         "type": "float"
        },
        {
         "name": "Year",
         "rawType": "object",
         "type": "string"
        }
       ],
       "conversionMethod": "pd.DataFrame",
       "ref": "6fbcdc34-82b7-4e5a-aeff-e9ca78de89cf",
       "rows": [
        [
         "0",
         "Star Wars Ep. VII: The Force Awakens",
         "Dec 16, 2015",
         "533200000.0",
         "936662225.0",
         "2056046835.0",
         "2015"
        ],
        [
         "1",
         "Avengers: Endgame",
         "Apr 23, 2019",
         "400000000.0",
         "858373000.0",
         "2748242781.0",
         "2019"
        ],
        [
         "2",
         "Avatar: The Way of Water",
         "Dec 9, 2022",
         "400000000.0",
         "684075767.0",
         "2312413227.0",
         "2022"
        ],
        [
         "4",
         "Pirates of the Caribbean: On Stranger Tides",
         "May 20, 2011",
         "379000000.0",
         "241071802.0",
         "1045713802.0",
         "2011"
        ],
        [
         "5",
         "Avengers: Age of Ultron",
         "Apr 22, 2015",
         "365000000.0",
         "459005868.0",
         "1395316979.0",
         "2015"
        ]
       ],
       "shape": {
        "columns": 6,
        "rows": 5
       }
      },
      "text/html": [
       "<div>\n",
       "<style scoped>\n",
       "    .dataframe tbody tr th:only-of-type {\n",
       "        vertical-align: middle;\n",
       "    }\n",
       "\n",
       "    .dataframe tbody tr th {\n",
       "        vertical-align: top;\n",
       "    }\n",
       "\n",
       "    .dataframe thead th {\n",
       "        text-align: right;\n",
       "    }\n",
       "</style>\n",
       "<table border=\"1\" class=\"dataframe\">\n",
       "  <thead>\n",
       "    <tr style=\"text-align: right;\">\n",
       "      <th></th>\n",
       "      <th>Movie</th>\n",
       "      <th>Release Date</th>\n",
       "      <th>Production Budget</th>\n",
       "      <th>Domestic Gross</th>\n",
       "      <th>Worldwide Gross</th>\n",
       "      <th>Year</th>\n",
       "    </tr>\n",
       "  </thead>\n",
       "  <tbody>\n",
       "    <tr>\n",
       "      <th>0</th>\n",
       "      <td>Star Wars Ep. VII: The Force Awakens</td>\n",
       "      <td>Dec 16, 2015</td>\n",
       "      <td>533200000.0</td>\n",
       "      <td>936662225.0</td>\n",
       "      <td>2.056047e+09</td>\n",
       "      <td>2015</td>\n",
       "    </tr>\n",
       "    <tr>\n",
       "      <th>1</th>\n",
       "      <td>Avengers: Endgame</td>\n",
       "      <td>Apr 23, 2019</td>\n",
       "      <td>400000000.0</td>\n",
       "      <td>858373000.0</td>\n",
       "      <td>2.748243e+09</td>\n",
       "      <td>2019</td>\n",
       "    </tr>\n",
       "    <tr>\n",
       "      <th>2</th>\n",
       "      <td>Avatar: The Way of Water</td>\n",
       "      <td>Dec 9, 2022</td>\n",
       "      <td>400000000.0</td>\n",
       "      <td>684075767.0</td>\n",
       "      <td>2.312413e+09</td>\n",
       "      <td>2022</td>\n",
       "    </tr>\n",
       "    <tr>\n",
       "      <th>4</th>\n",
       "      <td>Pirates of the Caribbean: On Stranger Tides</td>\n",
       "      <td>May 20, 2011</td>\n",
       "      <td>379000000.0</td>\n",
       "      <td>241071802.0</td>\n",
       "      <td>1.045714e+09</td>\n",
       "      <td>2011</td>\n",
       "    </tr>\n",
       "    <tr>\n",
       "      <th>5</th>\n",
       "      <td>Avengers: Age of Ultron</td>\n",
       "      <td>Apr 22, 2015</td>\n",
       "      <td>365000000.0</td>\n",
       "      <td>459005868.0</td>\n",
       "      <td>1.395317e+09</td>\n",
       "      <td>2015</td>\n",
       "    </tr>\n",
       "  </tbody>\n",
       "</table>\n",
       "</div>"
      ],
      "text/plain": [
       "0                                        Movie  Release Date  \\\n",
       "0         Star Wars Ep. VII: The Force Awakens  Dec 16, 2015   \n",
       "1                            Avengers: Endgame  Apr 23, 2019   \n",
       "2                     Avatar: The Way of Water   Dec 9, 2022   \n",
       "4  Pirates of the Caribbean: On Stranger Tides  May 20, 2011   \n",
       "5                      Avengers: Age of Ultron  Apr 22, 2015   \n",
       "\n",
       "0  Production Budget  Domestic Gross  Worldwide Gross  Year  \n",
       "0        533200000.0     936662225.0     2.056047e+09  2015  \n",
       "1        400000000.0     858373000.0     2.748243e+09  2019  \n",
       "2        400000000.0     684075767.0     2.312413e+09  2022  \n",
       "4        379000000.0     241071802.0     1.045714e+09  2011  \n",
       "5        365000000.0     459005868.0     1.395317e+09  2015  "
      ]
     },
     "execution_count": 47,
     "metadata": {},
     "output_type": "execute_result"
    }
   ],
   "source": [
    "# Making Year Column\n",
    "df['Year'] = df['Release Date'].astype(str).str[-4:]\n",
    "df.head()"
   ]
  },
  {
   "cell_type": "code",
   "execution_count": 48,
   "metadata": {},
   "outputs": [],
   "source": [
    "# Making Total Gross Column\n",
    "df['Total Gross'] = df['Production Budget'] + df['Worldwide Gross'].astype(float)"
   ]
  },
  {
   "cell_type": "code",
   "execution_count": 49,
   "metadata": {},
   "outputs": [
    {
     "data": {
      "application/vnd.microsoft.datawrangler.viewer.v0+json": {
       "columns": [
        {
         "name": "index",
         "rawType": "int64",
         "type": "integer"
        },
        {
         "name": "Movie",
         "rawType": "object",
         "type": "string"
        },
        {
         "name": "Release Date",
         "rawType": "object",
         "type": "string"
        },
        {
         "name": "Production Budget",
         "rawType": "float64",
         "type": "float"
        },
        {
         "name": "Domestic Gross",
         "rawType": "float64",
         "type": "float"
        },
        {
         "name": "Worldwide Gross",
         "rawType": "float64",
         "type": "float"
        },
        {
         "name": "Year",
         "rawType": "object",
         "type": "string"
        },
        {
         "name": "Total Gross",
         "rawType": "float64",
         "type": "float"
        }
       ],
       "conversionMethod": "pd.DataFrame",
       "ref": "f966cfbe-2096-4864-9df4-b7607416946b",
       "rows": [
        [
         "36",
         "Avatar",
         "Dec 17, 2009",
         "237000000.0",
         "785221649.0",
         "2923706026.0",
         "2009",
         "3160706026.0"
        ],
        [
         "1",
         "Avengers: Endgame",
         "Apr 23, 2019",
         "400000000.0",
         "858373000.0",
         "2748242781.0",
         "2019",
         "3148242781.0"
        ],
        [
         "2",
         "Avatar: The Way of Water",
         "Dec 9, 2022",
         "400000000.0",
         "684075767.0",
         "2312413227.0",
         "2022",
         "2712413227.0"
        ],
        [
         "0",
         "Star Wars Ep. VII: The Force Awakens",
         "Dec 16, 2015",
         "533200000.0",
         "936662225.0",
         "2056046835.0",
         "2015",
         "2589246835.0"
        ],
        [
         "61",
         "Titanic",
         "Dec 18, 1997",
         "200000000.0",
         "674460013.0",
         "2223048786.0",
         "1997",
         "2423048786.0"
        ],
        [
         "8",
         "Avengers: Infinity War",
         "Apr 25, 2018",
         "300000000.0",
         "678815482.0",
         "2048359754.0",
         "2018",
         "2348359754.0"
        ],
        [
         "59",
         "Spider-Man: No Way Home",
         "Dec 14, 2021",
         "200000000.0",
         "814811535.0",
         "1921206586.0",
         "2021",
         "2121206586.0"
        ],
        [
         "20",
         "The Lion King",
         "Jul 11, 2019",
         "260000000.0",
         "543638043.0",
         "1661454403.0",
         "2019",
         "1921454403.0"
        ],
        [
         "62",
         "Inside Out 2",
         "Jun 12, 2024",
         "200000000.0",
         "652980194.0",
         "1698863816.0",
         "2024",
         "1898863816.0"
        ],
        [
         "49",
         "Jurassic World",
         "Jun 9, 2015",
         "215000000.0",
         "653406625.0",
         "1671063641.0",
         "2015",
         "1886063641.0"
        ],
        [
         "5",
         "Avengers: Age of Ultron",
         "Apr 22, 2015",
         "365000000.0",
         "459005868.0",
         "1395316979.0",
         "2015",
         "1760316979.0"
        ],
        [
         "41",
         "The Avengers",
         "Apr 25, 2012",
         "225000000.0",
         "623357910.0",
         "1515100211.0",
         "2012",
         "1740100211.0"
        ],
        [
         "19",
         "Star Wars Ep. VIII: The Last Jedi",
         "Dec 13, 2017",
         "262000000.0",
         "620181382.0",
         "1322581071.0",
         "2017",
         "1584581071.0"
        ],
        [
         "63",
         "Deadpool & Wolverine",
         "Jul 24, 2024",
         "200000000.0",
         "636745858.0",
         "1338071348.0",
         "2024",
         "1538071348.0"
        ],
        [
         "60",
         "Black Panther",
         "Feb 13, 2018",
         "200000000.0",
         "700059566.0",
         "1334157082.0",
         "2018",
         "1534157082.0"
        ],
        [
         "31",
         "The Fate of the Furious",
         "Apr 7, 2017",
         "250000000.0",
         "225764765.0",
         "1235534014.0",
         "2017",
         "1485534014.0"
        ],
        [
         "64",
         "Incredibles 2",
         "Jun 15, 2018",
         "200000000.0",
         "608581744.0",
         "1242805359.0",
         "2018",
         "1442805359.0"
        ],
        [
         "4",
         "Pirates of the Caribbean: On Stranger Tides",
         "May 20, 2011",
         "379000000.0",
         "241071802.0",
         "1045713802.0",
         "2011",
         "1424713802.0"
        ],
        [
         "69",
         "Iron Man 3",
         "Apr 24, 2013",
         "200000000.0",
         "408992272.0",
         "1214630956.0",
         "2013",
         "1414630956.0"
        ],
        [
         "24",
         "Captain America: Civil War",
         "Apr 22, 2016",
         "250000000.0",
         "408084349.0",
         "1151899586.0",
         "2016",
         "1401899586.0"
        ],
        [
         "14",
         "Star Wars: The Rise of Skywalker",
         "Dec 18, 2019",
         "275000000.0",
         "515202542.0",
         "1069951814.0",
         "2019",
         "1344951814.0"
        ],
        [
         "13",
         "Rogue One: A Star Wars Story",
         "Dec 14, 2016",
         "280200000.0",
         "533539991.0",
         "1055083596.0",
         "2016",
         "1335283596.0"
        ],
        [
         "52",
         "Transformers: Age of Extinction",
         "Jun 25, 2014",
         "210000000.0",
         "245439076.0",
         "1104054072.0",
         "2014",
         "1314054072.0"
        ],
        [
         "38",
         "The Dark Knight Rises",
         "Jul 19, 2012",
         "230000000.0",
         "448139099.0",
         "1082228107.0",
         "2012",
         "1312228107.0"
        ],
        [
         "74",
         "Skyfall",
         "Oct 26, 2012",
         "200000000.0",
         "304360277.0",
         "1110526981.0",
         "2012",
         "1310526981.0"
        ],
        [
         "42",
         "Pirates of the Caribbean: Dead Man’s Chest",
         "Jul 6, 2006",
         "225000000.0",
         "423315812.0",
         "1066179725.0",
         "2006",
         "1291179725.0"
        ],
        [
         "66",
         "Toy Story 4",
         "Jun 20, 2019",
         "200000000.0",
         "434038008.0",
         "1071177215.0",
         "2019",
         "1271177215.0"
        ],
        [
         "67",
         "Toy Story 3",
         "Jun 18, 2010",
         "200000000.0",
         "415004880.0",
         "1068879522.0",
         "2010",
         "1268879522.0"
        ],
        [
         "9",
         "Pirates of the Caribbean: At World’s End",
         "May 24, 2007",
         "300000000.0",
         "309420425.0",
         "960996492.0",
         "2007",
         "1260996492.0"
        ],
        [
         "73",
         "Alice in Wonderland",
         "Mar 4, 2010",
         "200000000.0",
         "334191110.0",
         "1025491110.0",
         "2010",
         "1225491110.0"
        ],
        [
         "65",
         "Finding Dory",
         "Jun 16, 2016",
         "200000000.0",
         "486295561.0",
         "1025006125.0",
         "2016",
         "1225006125.0"
        ],
        [
         "150",
         "The Lord of the Rings: The Return of the King",
         "Dec 17, 2003",
         "94000000.0",
         "381472917.0",
         "1123837908.0",
         "2003",
         "1217837908.0"
        ],
        [
         "75",
         "The Hobbit: An Unexpected Journey",
         "Dec 11, 2012",
         "200000000.0",
         "303003568.0",
         "1014938545.0",
         "2012",
         "1214938545.0"
        ],
        [
         "29",
         "The Hobbit: The Desolation of Smaug",
         "Dec 12, 2013",
         "250000000.0",
         "258241522.0",
         "959358436.0",
         "2013",
         "1209358436.0"
        ],
        [
         "30",
         "The Hobbit: The Battle of the Five Armies",
         "Dec 10, 2014",
         "250000000.0",
         "255119788.0",
         "940323039.0",
         "2014",
         "1190323039.0"
        ],
        [
         "27",
         "Harry Potter and the Half-Blood Prince",
         "Jul 15, 2009",
         "250000000.0",
         "302854063.0",
         "926492031.0",
         "2009",
         "1176492031.0"
        ],
        [
         "22",
         "Spider-Man 3",
         "May 3, 2007",
         "258000000.0",
         "337607351.0",
         "895937268.0",
         "2007",
         "1153937268.0"
        ],
        [
         "68",
         "Doctor Strange in the Multiverse of Madness",
         "May 4, 2022",
         "200000000.0",
         "411331607.0",
         "952224986.0",
         "2022",
         "1152224986.0"
        ],
        [
         "18",
         "Batman v Superman: Dawn of Justice",
         "Mar 23, 2016",
         "263000000.0",
         "330360194.0",
         "872395091.0",
         "2016",
         "1135395091.0"
        ],
        [
         "35",
         "Spectre",
         "Oct 6, 2015",
         "245000000.0",
         "200074175.0",
         "879077344.0",
         "2015",
         "1124077344.0"
        ],
        [
         "211",
         "Jurassic Park",
         "Jun 11, 1993",
         "63000000.0",
         "415404543.0",
         "1058454230.0",
         "1993",
         "1121454230.0"
        ],
        [
         "23",
         "Black Panther: Wakanda Forever",
         "Nov 9, 2022",
         "250000000.0",
         "453829060.0",
         "853985546.0",
         "2022",
         "1103985546.0"
        ],
        [
         "25",
         "Guardians of the Galaxy Vol 3",
         "May 3, 2023",
         "250000000.0",
         "358995815.0",
         "845163792.0",
         "2023",
         "1095163792.0"
        ],
        [
         "70",
         "Guardians of the Galaxy Vol 2",
         "Apr 28, 2017",
         "200000000.0",
         "389813101.0",
         "869087963.0",
         "2017",
         "1069087963.0"
        ],
        [
         "6",
         "Fast X",
         "May 17, 2023",
         "340000000.0",
         "146126015.0",
         "714375114.0",
         "2023",
         "1054375114.0"
        ],
        [
         "164",
         "Jumanji: Welcome to the Jungle",
         "Dec 20, 2017",
         "90000000.0",
         "404508916.0",
         "961632807.0",
         "2017",
         "1051632807.0"
        ],
        [
         "51",
         "Transformers: Revenge of the Fallen",
         "Jun 24, 2009",
         "210000000.0",
         "402111870.0",
         "836519699.0",
         "2009",
         "1046519699.0"
        ],
        [
         "151",
         "Finding Nemo",
         "May 30, 2003",
         "94000000.0",
         "380529370.0",
         "936094852.0",
         "2003",
         "1030094852.0"
        ],
        [
         "39",
         "Pirates of the Caribbean: Dead Men Tell No Tales",
         "May 23, 2017",
         "230000000.0",
         "172558876.0",
         "794861794.0",
         "2017",
         "1024861794.0"
        ],
        [
         "152",
         "The Lord of the Rings: The Two Towers",
         "Dec 18, 2002",
         "94000000.0",
         "345115396.0",
         "921711177.0",
         "2002",
         "1015711177.0"
        ]
       ],
       "shape": {
        "columns": 7,
        "rows": 1252
       }
      },
      "text/html": [
       "<div>\n",
       "<style scoped>\n",
       "    .dataframe tbody tr th:only-of-type {\n",
       "        vertical-align: middle;\n",
       "    }\n",
       "\n",
       "    .dataframe tbody tr th {\n",
       "        vertical-align: top;\n",
       "    }\n",
       "\n",
       "    .dataframe thead th {\n",
       "        text-align: right;\n",
       "    }\n",
       "</style>\n",
       "<table border=\"1\" class=\"dataframe\">\n",
       "  <thead>\n",
       "    <tr style=\"text-align: right;\">\n",
       "      <th></th>\n",
       "      <th>Movie</th>\n",
       "      <th>Release Date</th>\n",
       "      <th>Production Budget</th>\n",
       "      <th>Domestic Gross</th>\n",
       "      <th>Worldwide Gross</th>\n",
       "      <th>Year</th>\n",
       "      <th>Total Gross</th>\n",
       "    </tr>\n",
       "  </thead>\n",
       "  <tbody>\n",
       "    <tr>\n",
       "      <th>36</th>\n",
       "      <td>Avatar</td>\n",
       "      <td>Dec 17, 2009</td>\n",
       "      <td>237000000.0</td>\n",
       "      <td>785221649.0</td>\n",
       "      <td>2.923706e+09</td>\n",
       "      <td>2009</td>\n",
       "      <td>3.160706e+09</td>\n",
       "    </tr>\n",
       "    <tr>\n",
       "      <th>1</th>\n",
       "      <td>Avengers: Endgame</td>\n",
       "      <td>Apr 23, 2019</td>\n",
       "      <td>400000000.0</td>\n",
       "      <td>858373000.0</td>\n",
       "      <td>2.748243e+09</td>\n",
       "      <td>2019</td>\n",
       "      <td>3.148243e+09</td>\n",
       "    </tr>\n",
       "    <tr>\n",
       "      <th>2</th>\n",
       "      <td>Avatar: The Way of Water</td>\n",
       "      <td>Dec 9, 2022</td>\n",
       "      <td>400000000.0</td>\n",
       "      <td>684075767.0</td>\n",
       "      <td>2.312413e+09</td>\n",
       "      <td>2022</td>\n",
       "      <td>2.712413e+09</td>\n",
       "    </tr>\n",
       "    <tr>\n",
       "      <th>0</th>\n",
       "      <td>Star Wars Ep. VII: The Force Awakens</td>\n",
       "      <td>Dec 16, 2015</td>\n",
       "      <td>533200000.0</td>\n",
       "      <td>936662225.0</td>\n",
       "      <td>2.056047e+09</td>\n",
       "      <td>2015</td>\n",
       "      <td>2.589247e+09</td>\n",
       "    </tr>\n",
       "    <tr>\n",
       "      <th>61</th>\n",
       "      <td>Titanic</td>\n",
       "      <td>Dec 18, 1997</td>\n",
       "      <td>200000000.0</td>\n",
       "      <td>674460013.0</td>\n",
       "      <td>2.223049e+09</td>\n",
       "      <td>1997</td>\n",
       "      <td>2.423049e+09</td>\n",
       "    </tr>\n",
       "    <tr>\n",
       "      <th>...</th>\n",
       "      <td>...</td>\n",
       "      <td>...</td>\n",
       "      <td>...</td>\n",
       "      <td>...</td>\n",
       "      <td>...</td>\n",
       "      <td>...</td>\n",
       "      <td>...</td>\n",
       "    </tr>\n",
       "    <tr>\n",
       "      <th>1371</th>\n",
       "      <td>Grip: A Criminal's Story</td>\n",
       "      <td>Apr 28, 2006</td>\n",
       "      <td>12000.0</td>\n",
       "      <td>1336.0</td>\n",
       "      <td>1.336000e+03</td>\n",
       "      <td>2006</td>\n",
       "      <td>1.333600e+04</td>\n",
       "    </tr>\n",
       "    <tr>\n",
       "      <th>1376</th>\n",
       "      <td>On the Downlow</td>\n",
       "      <td>May 28, 2004</td>\n",
       "      <td>10000.0</td>\n",
       "      <td>1987.0</td>\n",
       "      <td>1.987000e+03</td>\n",
       "      <td>2004</td>\n",
       "      <td>1.198700e+04</td>\n",
       "    </tr>\n",
       "    <tr>\n",
       "      <th>1377</th>\n",
       "      <td>Bang</td>\n",
       "      <td>Apr 1, 1996</td>\n",
       "      <td>10000.0</td>\n",
       "      <td>527.0</td>\n",
       "      <td>5.270000e+02</td>\n",
       "      <td>1996</td>\n",
       "      <td>1.052700e+04</td>\n",
       "    </tr>\n",
       "    <tr>\n",
       "      <th>1378</th>\n",
       "      <td>The Rise and Fall of Miss Thang</td>\n",
       "      <td>Aug 14, 2008</td>\n",
       "      <td>10000.0</td>\n",
       "      <td>401.0</td>\n",
       "      <td>4.010000e+02</td>\n",
       "      <td>2008</td>\n",
       "      <td>1.040100e+04</td>\n",
       "    </tr>\n",
       "    <tr>\n",
       "      <th>1386</th>\n",
       "      <td>Return to the Land of Wonders</td>\n",
       "      <td>Jul 13, 2005</td>\n",
       "      <td>5000.0</td>\n",
       "      <td>1338.0</td>\n",
       "      <td>1.338000e+03</td>\n",
       "      <td>2005</td>\n",
       "      <td>6.338000e+03</td>\n",
       "    </tr>\n",
       "  </tbody>\n",
       "</table>\n",
       "<p>1252 rows × 7 columns</p>\n",
       "</div>"
      ],
      "text/plain": [
       "0                                    Movie  Release Date  Production Budget  \\\n",
       "36                                  Avatar  Dec 17, 2009        237000000.0   \n",
       "1                        Avengers: Endgame  Apr 23, 2019        400000000.0   \n",
       "2                 Avatar: The Way of Water   Dec 9, 2022        400000000.0   \n",
       "0     Star Wars Ep. VII: The Force Awakens  Dec 16, 2015        533200000.0   \n",
       "61                                 Titanic  Dec 18, 1997        200000000.0   \n",
       "...                                    ...           ...                ...   \n",
       "1371              Grip: A Criminal's Story  Apr 28, 2006            12000.0   \n",
       "1376                        On the Downlow  May 28, 2004            10000.0   \n",
       "1377                                  Bang   Apr 1, 1996            10000.0   \n",
       "1378       The Rise and Fall of Miss Thang  Aug 14, 2008            10000.0   \n",
       "1386         Return to the Land of Wonders  Jul 13, 2005             5000.0   \n",
       "\n",
       "0     Domestic Gross  Worldwide Gross  Year   Total Gross  \n",
       "36       785221649.0     2.923706e+09  2009  3.160706e+09  \n",
       "1        858373000.0     2.748243e+09  2019  3.148243e+09  \n",
       "2        684075767.0     2.312413e+09  2022  2.712413e+09  \n",
       "0        936662225.0     2.056047e+09  2015  2.589247e+09  \n",
       "61       674460013.0     2.223049e+09  1997  2.423049e+09  \n",
       "...              ...              ...   ...           ...  \n",
       "1371          1336.0     1.336000e+03  2006  1.333600e+04  \n",
       "1376          1987.0     1.987000e+03  2004  1.198700e+04  \n",
       "1377           527.0     5.270000e+02  1996  1.052700e+04  \n",
       "1378           401.0     4.010000e+02  2008  1.040100e+04  \n",
       "1386          1338.0     1.338000e+03  2005  6.338000e+03  \n",
       "\n",
       "[1252 rows x 7 columns]"
      ]
     },
     "execution_count": 49,
     "metadata": {},
     "output_type": "execute_result"
    }
   ],
   "source": [
    "# Sort by Total Gross\n",
    "df = df.sort_values(by=['Total Gross'], inplace=False, ascending=False)\n",
    "df"
   ]
  },
  {
   "cell_type": "code",
   "execution_count": 50,
   "metadata": {},
   "outputs": [
    {
     "data": {
      "image/png": "[encoded data removed]",
      "text/plain": [
       "<Figure size 640x480 with 1 Axes>"
      ]
     },
     "metadata": {},
     "output_type": "display_data"
    }
   ],
   "source": [
    "# Checking outliers\n",
    "df.boxplot(column=['Total Gross'])\n",
    "plt.show()"
   ]
  },
  {
   "cell_type": "code",
   "execution_count": 51,
   "metadata": {},
   "outputs": [],
   "source": [
    "# Removing Outliers\n",
    "z_scores = stats.zscore(df['Total Gross'])\n",
    "z_scores_df = np.abs(z_scores)\n",
    "filtered_entries = (z_scores_df < 3)\n",
    "df = df[filtered_entries]"
   ]
  },
  {
   "cell_type": "code",
   "execution_count": 52,
   "metadata": {},
   "outputs": [
    {
     "data": {
      "image/png": "[encoded data removed]",
      "text/plain": [
       "<Figure size 640x480 with 1 Axes>"
      ]
     },
     "metadata": {},
     "output_type": "display_data"
    }
   ],
   "source": [
    "# Clean\n",
    "df.boxplot(column=['Total Gross'])\n",
    "plt.show()"
   ]
  },
  {
   "cell_type": "code",
   "execution_count": 53,
   "metadata": {},
   "outputs": [
    {
     "name": "stdout",
     "output_type": "stream",
     "text": [
      "Correlation Coefficient: 0.86\n"
     ]
    }
   ],
   "source": [
    "# Checking correlation between budget and gross\n",
    "correlation = df['Production Budget'].corr(df['Total Gross'])\n",
    "print(f\"Correlation Coefficient: {correlation:.2f}\")"
   ]
  },
  {
   "cell_type": "code",
   "execution_count": 54,
   "metadata": {},
   "outputs": [
    {
     "data": {
      "image/png": "[encoded data removed]",
      "text/plain": [
       "<Figure size 1500x500 with 1 Axes>"
      ]
     },
     "metadata": {},
     "output_type": "display_data"
    }
   ],
   "source": [
    "# Gross vs Budget\n",
    "plt.figure(figsize=(15, 5))\n",
    "sns.regplot(x='Production Budget', y='Total Gross', data=df, scatter_kws={'color': 'red'}, line_kws={'color': 'blue'}).set_title(\"Total Gross vs Budget\")\n",
    "plt.show()"
   ]
  },
  {
   "cell_type": "code",
   "execution_count": 55,
   "metadata": {},
   "outputs": [
    {
     "data": {
      "image/png": "[encoded data removed]",
      "text/plain": [
       "<Figure size 1500x500 with 1 Axes>"
      ]
     },
     "metadata": {},
     "output_type": "display_data"
    }
   ],
   "source": [
    "plt.figure(figsize=(15, 5))\n",
    "sns.regplot(x='Domestic Gross', y='Worldwide Gross', data=df, scatter_kws={'color': 'red'}, line_kws={'color': 'blue'}).set_title(\"Domestic Gross vs Worldwide Gross\")\n",
    "plt.show()"
   ]
  },
  {
   "cell_type": "code",
   "execution_count": 56,
   "metadata": {},
   "outputs": [
    {
     "name": "stderr",
     "output_type": "stream",
     "text": [
      "C:\\Users\\mochw\\AppData\\Local\\Temp\\ipykernel_6340\\1451490441.py:2: SettingWithCopyWarning: \n",
      "A value is trying to be set on a copy of a slice from a DataFrame.\n",
      "Try using .loc[row_indexer,col_indexer] = value instead\n",
      "\n",
      "See the caveats in the documentation: https://pandas.pydata.org/pandas-docs/stable/user_guide/indexing.html#returning-a-view-versus-a-copy\n",
      "  df['Gross Minus Budget'] = df['Total Gross'] - df['Production Budget']\n",
      "C:\\Users\\mochw\\AppData\\Local\\Temp\\ipykernel_6340\\1451490441.py:6: FutureWarning: \n",
      "\n",
      "Passing `palette` without assigning `hue` is deprecated and will be removed in v0.14.0. Assign the `y` variable to `hue` and set `legend=False` for the same effect.\n",
      "\n",
      "  sns.barplot(x='Gross Minus Budget', y='Movie', data=df.head(10), palette=colors)\n"
     ]
    },
    {
     "data": {
      "image/png": "[encoded data removed]",
      "text/plain": [
       "<Figure size 1500x500 with 1 Axes>"
      ]
     },
     "metadata": {},
     "output_type": "display_data"
    }
   ],
   "source": [
    "# Top 10 profitable movie\n",
    "df['Gross Minus Budget'] = df['Total Gross'] - df['Production Budget']\n",
    "colors = sns.color_palette('husl', 10)\n",
    "plt.figure(figsize=(15, 5))\n",
    "plt.xticks(rotation=0)\n",
    "sns.barplot(x='Gross Minus Budget', y='Movie', data=df.head(10), palette=colors)\n",
    "plt.title('Most Profitable Movie')\n",
    "plt.show()"
   ]
  },
  {
   "cell_type": "code",
   "execution_count": 57,
   "metadata": {},
   "outputs": [
    {
     "data": {
      "image/png": "[encoded data removed]",
      "text/plain": [
       "<Figure size 1200x500 with 1 Axes>"
      ]
     },
     "metadata": {},
     "output_type": "display_data"
    }
   ],
   "source": [
    "# Yearly Trends\n",
    "df.groupby('Year')[['Production Budget', 'Total Gross']].mean().plot(figsize=(12,5))\n",
    "plt.title(\"Yearly Trends: Budget vs. Gross\")\n",
    "plt.show()"
   ]
  },
  {
   "cell_type": "code",
   "execution_count": 66,
   "metadata": {},
   "outputs": [
    {
     "name": "stderr",
     "output_type": "stream",
     "text": [
      "C:\\Users\\mochw\\AppData\\Local\\Temp\\ipykernel_6340\\35534588.py:1: SettingWithCopyWarning: \n",
      "A value is trying to be set on a copy of a slice from a DataFrame.\n",
      "Try using .loc[row_indexer,col_indexer] = value instead\n",
      "\n",
      "See the caveats in the documentation: https://pandas.pydata.org/pandas-docs/stable/user_guide/indexing.html#returning-a-view-versus-a-copy\n",
      "  df['International Gross'] = df['Worldwide Gross'] - df['Domestic Gross']\n"
     ]
    },
    {
     "data": {
      "image/png": "[encoded data removed]",
      "text/plain": [
       "<Figure size 1000x800 with 1 Axes>"
      ]
     },
     "metadata": {},
     "output_type": "display_data"
    }
   ],
   "source": [
    "df['International Gross'] = df['Worldwide Gross'] - df['Domestic Gross']\n",
    "top_movies = df.nlargest(10, 'Worldwide Gross')\n",
    "top_movies[['Domestic Gross', 'International Gross']].plot(kind='bar', stacked=True, figsize=(10, 8))\n",
    "plt.title('Domestic Gross vs International Gross')\n",
    "plt.show()"
   ]
  }
 ],
 "metadata": {
  "kernelspec": {
   "display_name": "Python 3",
   "language": "python",
   "name": "python3"
  },
  "language_info": {
   "codemirror_mode": {
    "name": "ipython",
    "version": 3
   },
   "file_extension": ".py",
   "mimetype": "text/x-python",
   "name": "python",
   "nbconvert_exporter": "python",
   "pygments_lexer": "ipython3",
   "version": "3.13.2"
  }
 },
 "nbformat": 4,
 "nbformat_minor": 2
}
