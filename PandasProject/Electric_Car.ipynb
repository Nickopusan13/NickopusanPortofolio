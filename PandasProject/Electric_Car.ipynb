{
 "cells": [
  {
   "cell_type": "code",
   "execution_count": null,
   "metadata": {},
   "outputs": [],
   "source": [
    "# Import Library\n",
    "import pandas as pd\n",
    "import matplotlib.pyplot as plt"
   ]
  },
  {
   "cell_type": "code",
   "execution_count": null,
   "metadata": {},
   "outputs": [
    {
     "name": "stdout",
     "output_type": "stream",
     "text": [
      "['Solarize_Light2', '_classic_test_patch', '_mpl-gallery', '_mpl-gallery-nogrid', 'bmh', 'classic', 'dark_background', 'fast', 'fivethirtyeight', 'ggplot', 'grayscale', 'petroff10', 'seaborn-v0_8', 'seaborn-v0_8-bright', 'seaborn-v0_8-colorblind', 'seaborn-v0_8-dark', 'seaborn-v0_8-dark-palette', 'seaborn-v0_8-darkgrid', 'seaborn-v0_8-deep', 'seaborn-v0_8-muted', 'seaborn-v0_8-notebook', 'seaborn-v0_8-paper', 'seaborn-v0_8-pastel', 'seaborn-v0_8-poster', 'seaborn-v0_8-talk', 'seaborn-v0_8-ticks', 'seaborn-v0_8-white', 'seaborn-v0_8-whitegrid', 'tableau-colorblind10']\n"
     ]
    }
   ],
   "source": [
    "# Set style for chart\n",
    "print(plt.style.available)\n",
    "plt.style.use('dark_background')"
   ]
  },
  {
   "cell_type": "code",
   "execution_count": null,
   "metadata": {},
   "outputs": [
    {
     "data": {
      "application/vnd.microsoft.datawrangler.viewer.v0+json": {
       "columns": [
        {
         "name": "index",
         "rawType": "int64",
         "type": "integer"
        },
        {
         "name": "VIN (1-10)",
         "rawType": "object",
         "type": "string"
        },
        {
         "name": "County",
         "rawType": "object",
         "type": "unknown"
        },
        {
         "name": "City",
         "rawType": "object",
         "type": "unknown"
        },
        {
         "name": "State",
         "rawType": "object",
         "type": "string"
        },
        {
         "name": "Postal Code",
         "rawType": "float64",
         "type": "float"
        },
        {
         "name": "Model Year",
         "rawType": "int64",
         "type": "integer"
        },
        {
         "name": "Make",
         "rawType": "object",
         "type": "string"
        },
        {
         "name": "Model",
         "rawType": "object",
         "type": "string"
        },
        {
         "name": "Electric Vehicle Type",
         "rawType": "object",
         "type": "string"
        },
        {
         "name": "Clean Alternative Fuel Vehicle (CAFV) Eligibility",
         "rawType": "object",
         "type": "string"
        },
        {
         "name": "Electric Range",
         "rawType": "float64",
         "type": "float"
        },
        {
         "name": "Base MSRP",
         "rawType": "float64",
         "type": "float"
        },
        {
         "name": "Legislative District",
         "rawType": "float64",
         "type": "float"
        },
        {
         "name": "DOL Vehicle ID",
         "rawType": "int64",
         "type": "integer"
        },
        {
         "name": "Vehicle Location",
         "rawType": "object",
         "type": "unknown"
        },
        {
         "name": "Electric Utility",
         "rawType": "object",
         "type": "unknown"
        },
        {
         "name": "2020 Census Tract",
         "rawType": "float64",
         "type": "float"
        }
       ],
       "conversionMethod": "pd.DataFrame",
       "ref": "c68b4c91-360f-4429-a6b7-919dc762f6cb",
       "rows": [
        [
         "0",
         "1C4JJXP66P",
         "Kitsap",
         "Poulsbo",
         "WA",
         "98370.0",
         "2023",
         "JEEP",
         "WRANGLER",
         "Plug-in Hybrid Electric Vehicle (PHEV)",
         "Not eligible due to low battery range",
         "21.0",
         "0.0",
         "23.0",
         "258127145",
         "POINT (-122.64681 47.73689)",
         "PUGET SOUND ENERGY INC",
         "53035091100.0"
        ],
        [
         "1",
         "1G1FX6S08K",
         "Snohomish",
         "Lake Stevens",
         "WA",
         "98258.0",
         "2019",
         "CHEVROLET",
         "BOLT EV",
         "Battery Electric Vehicle (BEV)",
         "Clean Alternative Fuel Vehicle Eligible",
         "238.0",
         "0.0",
         "44.0",
         "4735426",
         "POINT (-122.06402 48.01497)",
         "PUGET SOUND ENERGY INC",
         "53061052607.0"
        ],
        [
         "2",
         "WBY1Z2C58F",
         "King",
         "Seattle",
         "WA",
         "98116.0",
         "2015",
         "BMW",
         "I3",
         "Battery Electric Vehicle (BEV)",
         "Clean Alternative Fuel Vehicle Eligible",
         "81.0",
         "0.0",
         "34.0",
         "272697666",
         "POINT (-122.41067 47.57894)",
         "CITY OF SEATTLE - (WA)|CITY OF TACOMA - (WA)",
         "53033009600.0"
        ],
        [
         "3",
         "5YJ3E1EBXK",
         "King",
         "Seattle",
         "WA",
         "98178.0",
         "2019",
         "TESLA",
         "MODEL 3",
         "Battery Electric Vehicle (BEV)",
         "Clean Alternative Fuel Vehicle Eligible",
         "220.0",
         "0.0",
         "37.0",
         "477309682",
         "POINT (-122.23825 47.49461)",
         "CITY OF SEATTLE - (WA)|CITY OF TACOMA - (WA)",
         "53033011902.0"
        ],
        [
         "4",
         "5YJSA1V24F",
         "Yakima",
         "Selah",
         "WA",
         "98942.0",
         "2015",
         "TESLA",
         "MODEL S",
         "Battery Electric Vehicle (BEV)",
         "Clean Alternative Fuel Vehicle Eligible",
         "208.0",
         "0.0",
         "15.0",
         "258112970",
         "POINT (-120.53145 46.65405)",
         "PACIFICORP",
         "53077003200.0"
        ],
        [
         "5",
         "1C4JJXP64M",
         "Kitsap",
         "Bremerton",
         "WA",
         "98312.0",
         "2021",
         "JEEP",
         "WRANGLER",
         "Plug-in Hybrid Electric Vehicle (PHEV)",
         "Not eligible due to low battery range",
         "25.0",
         "0.0",
         "26.0",
         "167243303",
         "POINT (-122.6563 47.56739)",
         "PUGET SOUND ENERGY INC",
         "53035081100.0"
        ],
        [
         "6",
         "WBAJB1C58K",
         "Thurston",
         "Lacey",
         "WA",
         "98503.0",
         "2019",
         "BMW",
         "530E",
         "Plug-in Hybrid Electric Vehicle (PHEV)",
         "Not eligible due to low battery range",
         "15.0",
         "55700.0",
         "22.0",
         "475113859",
         "POINT (-122.82324 47.04437)",
         "PUGET SOUND ENERGY INC",
         "53067011410.0"
        ],
        [
         "7",
         "5YJXCBE45H",
         "King",
         "Kent",
         "WA",
         "98031.0",
         "2017",
         "TESLA",
         "MODEL X",
         "Battery Electric Vehicle (BEV)",
         "Clean Alternative Fuel Vehicle Eligible",
         "200.0",
         "0.0",
         "47.0",
         "141889702",
         "POINT (-122.17743 47.41185)",
         "PUGET SOUND ENERGY INC||CITY OF TACOMA - (WA)",
         "53033029406.0"
        ],
        [
         "8",
         "1G1FZ6S06L",
         "Yakima",
         "Yakima",
         "WA",
         "98902.0",
         "2020",
         "CHEVROLET",
         "BOLT EV",
         "Battery Electric Vehicle (BEV)",
         "Clean Alternative Fuel Vehicle Eligible",
         "259.0",
         "0.0",
         "14.0",
         "151200255",
         "POINT (-120.52401 46.59739)",
         "PACIFICORP",
         "53077000500.0"
        ],
        [
         "9",
         "5YJ3E1EA5K",
         "Snohomish",
         "Lynnwood",
         "WA",
         "98087.0",
         "2019",
         "TESLA",
         "MODEL 3",
         "Battery Electric Vehicle (BEV)",
         "Clean Alternative Fuel Vehicle Eligible",
         "220.0",
         "0.0",
         "21.0",
         "110038288",
         "POINT (-122.27981 47.85727)",
         "PUGET SOUND ENERGY INC",
         "53061041812.0"
        ],
        [
         "10",
         "1N4BZ0CP8H",
         "Snohomish",
         "Lynnwood",
         "WA",
         "98087.0",
         "2017",
         "NISSAN",
         "LEAF",
         "Battery Electric Vehicle (BEV)",
         "Clean Alternative Fuel Vehicle Eligible",
         "107.0",
         "0.0",
         "21.0",
         "476821908",
         "POINT (-122.27981 47.85727)",
         "PUGET SOUND ENERGY INC",
         "53061041816.0"
        ],
        [
         "11",
         "JTJAAAAB4P",
         "Kitsap",
         "Olalla",
         "WA",
         "98359.0",
         "2023",
         "LEXUS",
         "RZ",
         "Battery Electric Vehicle (BEV)",
         "Eligibility unknown as battery range has not been researched",
         "0.0",
         "0.0",
         "26.0",
         "257863637",
         "POINT (-122.54729 47.42602)",
         "PUGET SOUND ENERGY INC",
         "53035092803.0"
        ],
        [
         "12",
         "KNDC3DLC6R",
         "Kitsap",
         "Poulsbo",
         "WA",
         "98370.0",
         "2024",
         "KIA",
         "EV6",
         "Battery Electric Vehicle (BEV)",
         "Eligibility unknown as battery range has not been researched",
         "0.0",
         "0.0",
         "23.0",
         "269349048",
         "POINT (-122.64681 47.73689)",
         "PUGET SOUND ENERGY INC",
         "53035940100.0"
        ],
        [
         "13",
         "1N4AZ1CPXL",
         "Kitsap",
         "Suquamish",
         "WA",
         "98392.0",
         "2020",
         "NISSAN",
         "LEAF",
         "Battery Electric Vehicle (BEV)",
         "Clean Alternative Fuel Vehicle Eligible",
         "149.0",
         "0.0",
         "23.0",
         "105033995",
         "POINT (-122.55242 47.73162)",
         "PUGET SOUND ENERGY INC",
         "53035940100.0"
        ],
        [
         "14",
         "1N4BZ1CP4K",
         "King",
         "Seattle",
         "WA",
         "98144.0",
         "2019",
         "NISSAN",
         "LEAF",
         "Battery Electric Vehicle (BEV)",
         "Clean Alternative Fuel Vehicle Eligible",
         "150.0",
         "0.0",
         "37.0",
         "168586911",
         "POINT (-122.30866 47.57874)",
         "CITY OF SEATTLE - (WA)|CITY OF TACOMA - (WA)",
         "53033009500.0"
        ],
        [
         "15",
         "5YJSA1E29H",
         "King",
         "Issaquah",
         "WA",
         "98027.0",
         "2017",
         "TESLA",
         "MODEL S",
         "Battery Electric Vehicle (BEV)",
         "Clean Alternative Fuel Vehicle Eligible",
         "210.0",
         "0.0",
         "5.0",
         "161449207",
         "POINT (-122.03439 47.5301)",
         "PUGET SOUND ENERGY INC||CITY OF TACOMA - (WA)",
         "53033032104.0"
        ],
        [
         "16",
         "5YJSA1H18E",
         "Kitsap",
         "Poulsbo",
         "WA",
         "98370.0",
         "2014",
         "TESLA",
         "MODEL S",
         "Battery Electric Vehicle (BEV)",
         "Clean Alternative Fuel Vehicle Eligible",
         "208.0",
         "69900.0",
         "23.0",
         "206534037",
         "POINT (-122.64681 47.73689)",
         "PUGET SOUND ENERGY INC",
         "53035090400.0"
        ],
        [
         "17",
         "LPSED3KA3M",
         "Island",
         "Oak Harbor",
         "WA",
         "98277.0",
         "2021",
         "POLESTAR",
         "PS2",
         "Battery Electric Vehicle (BEV)",
         "Clean Alternative Fuel Vehicle Eligible",
         "233.0",
         "0.0",
         "10.0",
         "275383685",
         "POINT (-122.64682 48.29077)",
         "PUGET SOUND ENERGY INC",
         "53029970800.0"
        ],
        [
         "18",
         "5YJSA1E24G",
         "King",
         "Kenmore",
         "WA",
         "98028.0",
         "2016",
         "TESLA",
         "MODEL S",
         "Battery Electric Vehicle (BEV)",
         "Clean Alternative Fuel Vehicle Eligible",
         "210.0",
         "0.0",
         "46.0",
         "476329178",
         "POINT (-122.24369 47.75892)",
         "PUGET SOUND ENERGY INC||CITY OF TACOMA - (WA)",
         "53033022101.0"
        ],
        [
         "19",
         "KM8S6DA23N",
         "Kitsap",
         "Poulsbo",
         "WA",
         "98370.0",
         "2022",
         "HYUNDAI",
         "SANTA FE",
         "Plug-in Hybrid Electric Vehicle (PHEV)",
         "Clean Alternative Fuel Vehicle Eligible",
         "31.0",
         "0.0",
         "23.0",
         "212217764",
         "POINT (-122.64681 47.73689)",
         "PUGET SOUND ENERGY INC",
         "53035091100.0"
        ],
        [
         "20",
         "WBY1Z4C58F",
         "Kitsap",
         "Seabeck",
         "WA",
         "98380.0",
         "2015",
         "BMW",
         "I3",
         "Plug-in Hybrid Electric Vehicle (PHEV)",
         "Clean Alternative Fuel Vehicle Eligible",
         "72.0",
         "0.0",
         "35.0",
         "3572089",
         "POINT (-122.81585 47.64509)",
         "PUGET SOUND ENERGY INC",
         "53035092000.0"
        ],
        [
         "21",
         "7SAYGDEF0P",
         "Yakima",
         "Toppenish",
         "WA",
         "98948.0",
         "2023",
         "TESLA",
         "MODEL Y",
         "Battery Electric Vehicle (BEV)",
         "Eligibility unknown as battery range has not been researched",
         "0.0",
         "0.0",
         "15.0",
         "244780189",
         "POINT (-120.31298 46.37508)",
         "PACIFICORP",
         "53077940006.0"
        ],
        [
         "22",
         "5YJXCBE29G",
         "King",
         "Sammamish",
         "WA",
         "98074.0",
         "2016",
         "TESLA",
         "MODEL X",
         "Battery Electric Vehicle (BEV)",
         "Clean Alternative Fuel Vehicle Eligible",
         "200.0",
         "0.0",
         "45.0",
         "6097171",
         "POINT (-122.02054 47.60326)",
         "PUGET SOUND ENERGY INC||CITY OF TACOMA - (WA)",
         "53033032317.0"
        ],
        [
         "23",
         "1C4RJXN60R",
         "Kitsap",
         "Port Orchard",
         "WA",
         "98366.0",
         "2024",
         "JEEP",
         "WRANGLER",
         "Plug-in Hybrid Electric Vehicle (PHEV)",
         "Not eligible due to low battery range",
         "21.0",
         "0.0",
         "26.0",
         "257719346",
         "POINT (-122.63847 47.54103)",
         "PUGET SOUND ENERGY INC",
         "53035092600.0"
        ],
        [
         "24",
         "WBA8E1C59J",
         "Kitsap",
         "Poulsbo",
         "WA",
         "98370.0",
         "2018",
         "BMW",
         "330E",
         "Plug-in Hybrid Electric Vehicle (PHEV)",
         "Not eligible due to low battery range",
         "14.0",
         "45600.0",
         "23.0",
         "219734462",
         "POINT (-122.64681 47.73689)",
         "PUGET SOUND ENERGY INC",
         "53035090201.0"
        ],
        [
         "25",
         "JTDKARFP8J",
         "Kitsap",
         "Silverdale",
         "WA",
         "98383.0",
         "2018",
         "TOYOTA",
         "PRIUS PRIME",
         "Plug-in Hybrid Electric Vehicle (PHEV)",
         "Not eligible due to low battery range",
         "25.0",
         "0.0",
         "23.0",
         "194152171",
         "POINT (-122.69275 47.65171)",
         "PUGET SOUND ENERGY INC",
         "53035090400.0"
        ],
        [
         "26",
         "5YJ3E1EB9J",
         "Kitsap",
         "Bremerton",
         "WA",
         "98312.0",
         "2018",
         "TESLA",
         "MODEL 3",
         "Battery Electric Vehicle (BEV)",
         "Clean Alternative Fuel Vehicle Eligible",
         "215.0",
         "0.0",
         "35.0",
         "264273663",
         "POINT (-122.6563 47.56739)",
         "PUGET SOUND ENERGY INC",
         "53035080700.0"
        ],
        [
         "27",
         "7FCTGAAA0N",
         "Thurston",
         "Yelm",
         "WA",
         "98597.0",
         "2022",
         "RIVIAN",
         "R1T",
         "Battery Electric Vehicle (BEV)",
         "Eligibility unknown as battery range has not been researched",
         "0.0",
         "0.0",
         "20.0",
         "216621401",
         "POINT (-122.60735 46.94239)",
         "PUGET SOUND ENERGY INC",
         "53067012531.0"
        ],
        [
         "28",
         "YV4H60DL9N",
         "Thurston",
         "Olympia",
         "WA",
         "98501.0",
         "2022",
         "VOLVO",
         "XC60",
         "Plug-in Hybrid Electric Vehicle (PHEV)",
         "Clean Alternative Fuel Vehicle Eligible",
         "35.0",
         "0.0",
         "22.0",
         "204708647",
         "POINT (-122.89166 47.03956)",
         "PUGET SOUND ENERGY INC",
         "53067010100.0"
        ],
        [
         "29",
         "5UXTA6C04M",
         "King",
         "Seattle",
         "WA",
         "98119.0",
         "2021",
         "BMW",
         "X5",
         "Plug-in Hybrid Electric Vehicle (PHEV)",
         "Clean Alternative Fuel Vehicle Eligible",
         "30.0",
         "0.0",
         "36.0",
         "244932159",
         "POINT (-122.3684 47.64586)",
         "CITY OF SEATTLE - (WA)|CITY OF TACOMA - (WA)",
         "53033006900.0"
        ],
        [
         "30",
         "3C3CFFGE5F",
         "Thurston",
         "Yelm",
         "WA",
         "98597.0",
         "2015",
         "FIAT",
         "500",
         "Battery Electric Vehicle (BEV)",
         "Clean Alternative Fuel Vehicle Eligible",
         "87.0",
         "0.0",
         "2.0",
         "474468501",
         "POINT (-122.60735 46.94239)",
         "PUGET SOUND ENERGY INC",
         "53067012422.0"
        ],
        [
         "31",
         "1G1FY6S01N",
         "Yakima",
         "Yakima",
         "WA",
         "98902.0",
         "2022",
         "CHEVROLET",
         "BOLT EUV",
         "Battery Electric Vehicle (BEV)",
         "Eligibility unknown as battery range has not been researched",
         "0.0",
         "0.0",
         "14.0",
         "202886050",
         "POINT (-120.52401 46.59739)",
         "PACIFICORP",
         "53077000800.0"
        ],
        [
         "32",
         "5YJYGDEE0M",
         "Snohomish",
         "Bothell",
         "WA",
         "98021.0",
         "2021",
         "TESLA",
         "MODEL Y",
         "Battery Electric Vehicle (BEV)",
         "Eligibility unknown as battery range has not been researched",
         "0.0",
         "0.0",
         "1.0",
         "152095912",
         "POINT (-122.18384 47.8031)",
         "PUGET SOUND ENERGY INC",
         "53061051937.0"
        ],
        [
         "33",
         "5YJ3E1EB6J",
         "King",
         "Seattle",
         "WA",
         "98116.0",
         "2018",
         "TESLA",
         "MODEL 3",
         "Battery Electric Vehicle (BEV)",
         "Clean Alternative Fuel Vehicle Eligible",
         "215.0",
         "0.0",
         "34.0",
         "474502500",
         "POINT (-122.41067 47.57894)",
         "CITY OF SEATTLE - (WA)|CITY OF TACOMA - (WA)",
         "53033009802.0"
        ],
        [
         "34",
         "5YJSA1E49H",
         "Kitsap",
         "Bainbridge Island",
         "WA",
         "98110.0",
         "2017",
         "TESLA",
         "MODEL S",
         "Battery Electric Vehicle (BEV)",
         "Clean Alternative Fuel Vehicle Eligible",
         "210.0",
         "0.0",
         "23.0",
         "187859941",
         "POINT (-122.521 47.62728)",
         "PUGET SOUND ENERGY INC",
         "53035091002.0"
        ],
        [
         "35",
         "1G1FZ6S05K",
         "Kitsap",
         "Poulsbo",
         "WA",
         "98370.0",
         "2019",
         "CHEVROLET",
         "BOLT EV",
         "Battery Electric Vehicle (BEV)",
         "Clean Alternative Fuel Vehicle Eligible",
         "238.0",
         "0.0",
         "23.0",
         "475437938",
         "POINT (-122.64681 47.73689)",
         "PUGET SOUND ENERGY INC",
         "53035090201.0"
        ],
        [
         "36",
         "5YJSA1S23F",
         "Snohomish",
         "Edmonds",
         "WA",
         "98020.0",
         "2015",
         "TESLA",
         "MODEL S",
         "Battery Electric Vehicle (BEV)",
         "Clean Alternative Fuel Vehicle Eligible",
         "208.0",
         "0.0",
         "21.0",
         "118167990",
         "POINT (-122.37689 47.81116)",
         "PUGET SOUND ENERGY INC",
         "53061050502.0"
        ],
        [
         "37",
         "5YJ3E1EB3J",
         "King",
         "Bothell",
         "WA",
         "98011.0",
         "2018",
         "TESLA",
         "MODEL 3",
         "Battery Electric Vehicle (BEV)",
         "Clean Alternative Fuel Vehicle Eligible",
         "215.0",
         "0.0",
         "1.0",
         "269489167",
         "POINT (-122.20563 47.76144)",
         "PUGET SOUND ENERGY INC||CITY OF TACOMA - (WA)",
         "53033022102.0"
        ],
        [
         "38",
         "5YJ3E1EB0L",
         "Snohomish",
         "Bothell",
         "WA",
         "98012.0",
         "2020",
         "TESLA",
         "MODEL 3",
         "Battery Electric Vehicle (BEV)",
         "Clean Alternative Fuel Vehicle Eligible",
         "322.0",
         "0.0",
         "44.0",
         "126152974",
         "POINT (-122.21061 47.83448)",
         "PUGET SOUND ENERGY INC",
         "53061052010.0"
        ],
        [
         "39",
         "5YJYGDEE2M",
         "Snohomish",
         "Bothell",
         "WA",
         "98012.0",
         "2021",
         "TESLA",
         "MODEL Y",
         "Battery Electric Vehicle (BEV)",
         "Eligibility unknown as battery range has not been researched",
         "0.0",
         "0.0",
         "1.0",
         "262654192",
         "POINT (-122.21061 47.83448)",
         "PUGET SOUND ENERGY INC",
         "53061052009.0"
        ],
        [
         "40",
         "JM3KKDHA7R",
         "Kitsap",
         "Poulsbo",
         "WA",
         "98370.0",
         "2024",
         "MAZDA",
         "CX-90",
         "Plug-in Hybrid Electric Vehicle (PHEV)",
         "Not eligible due to low battery range",
         "26.0",
         "0.0",
         "23.0",
         "270047242",
         "POINT (-122.64681 47.73689)",
         "PUGET SOUND ENERGY INC",
         "53035091100.0"
        ],
        [
         "41",
         "JM3KKCHAXS",
         "Thurston",
         "Olympia",
         "WA",
         "98502.0",
         "2025",
         "MAZDA",
         "CX-90",
         "Plug-in Hybrid Electric Vehicle (PHEV)",
         "Not eligible due to low battery range",
         "26.0",
         "0.0",
         "22.0",
         "275694401",
         "POINT (-122.92333 47.03779)",
         "PUGET SOUND ENERGY INC",
         "53067010520.0"
        ],
        [
         "42",
         "KNDCC3LD7N",
         "Snohomish",
         "Bothell",
         "WA",
         "98012.0",
         "2022",
         "KIA",
         "NIRO",
         "Plug-in Hybrid Electric Vehicle (PHEV)",
         "Not eligible due to low battery range",
         "26.0",
         "0.0",
         "1.0",
         "194200681",
         "POINT (-122.21061 47.83448)",
         "PUGET SOUND ENERGY INC",
         "53061051936.0"
        ],
        [
         "43",
         "5YJ3E1EA8R",
         "Snohomish",
         "Bothell",
         "WA",
         "98012.0",
         "2024",
         "TESLA",
         "MODEL 3",
         "Battery Electric Vehicle (BEV)",
         "Eligibility unknown as battery range has not been researched",
         "0.0",
         "0.0",
         "1.0",
         "272139472",
         "POINT (-122.21061 47.83448)",
         "PUGET SOUND ENERGY INC",
         "53061052009.0"
        ],
        [
         "44",
         "5YJ3E1EA5J",
         "King",
         "Kent",
         "WA",
         "98032.0",
         "2018",
         "TESLA",
         "MODEL 3",
         "Battery Electric Vehicle (BEV)",
         "Clean Alternative Fuel Vehicle Eligible",
         "215.0",
         "0.0",
         "33.0",
         "248653954",
         "POINT (-122.23741 47.3807)",
         "PUGET SOUND ENERGY INC||CITY OF TACOMA - (WA)",
         "53033029206.0"
        ],
        [
         "45",
         "5YJSA1E22K",
         "Kitsap",
         "Poulsbo",
         "WA",
         "98370.0",
         "2019",
         "TESLA",
         "MODEL S",
         "Battery Electric Vehicle (BEV)",
         "Clean Alternative Fuel Vehicle Eligible",
         "270.0",
         "0.0",
         "23.0",
         "301647265",
         "POINT (-122.64681 47.73689)",
         "PUGET SOUND ENERGY INC",
         "53035090501.0"
        ],
        [
         "46",
         "5YJXCDE25H",
         "King",
         "Sammamish",
         "WA",
         "98075.0",
         "2017",
         "TESLA",
         "MODEL X",
         "Battery Electric Vehicle (BEV)",
         "Clean Alternative Fuel Vehicle Eligible",
         "200.0",
         "0.0",
         "41.0",
         "5470846",
         "POINT (-122.03539 47.61344)",
         "PUGET SOUND ENERGY INC||CITY OF TACOMA - (WA)",
         "53033032218.0"
        ],
        [
         "47",
         "5YJXCDE46K",
         "Kitsap",
         "Poulsbo",
         "WA",
         "98370.0",
         "2019",
         "TESLA",
         "MODEL X",
         "Battery Electric Vehicle (BEV)",
         "Clean Alternative Fuel Vehicle Eligible",
         "289.0",
         "0.0",
         "23.0",
         "142025740",
         "POINT (-122.64681 47.73689)",
         "PUGET SOUND ENERGY INC",
         "53035090502.0"
        ],
        [
         "48",
         "YV4BR00K8L",
         "Snohomish",
         "Bothell",
         "WA",
         "98012.0",
         "2020",
         "VOLVO",
         "XC90",
         "Plug-in Hybrid Electric Vehicle (PHEV)",
         "Not eligible due to low battery range",
         "18.0",
         "0.0",
         "1.0",
         "478549984",
         "POINT (-122.21061 47.83448)",
         "PUGET SOUND ENERGY INC",
         "53061052107.0"
        ],
        [
         "49",
         "5YJYGDEE8L",
         "Thurston",
         "Tumwater",
         "WA",
         "98501.0",
         "2020",
         "TESLA",
         "MODEL Y",
         "Battery Electric Vehicle (BEV)",
         "Clean Alternative Fuel Vehicle Eligible",
         "291.0",
         "0.0",
         "35.0",
         "124633715",
         "POINT (-122.89166 47.03956)",
         "PUGET SOUND ENERGY INC",
         "53067011720.0"
        ]
       ],
       "shape": {
        "columns": 17,
        "rows": 223995
       }
      },
      "text/html": [
       "<div>\n",
       "<style scoped>\n",
       "    .dataframe tbody tr th:only-of-type {\n",
       "        vertical-align: middle;\n",
       "    }\n",
       "\n",
       "    .dataframe tbody tr th {\n",
       "        vertical-align: top;\n",
       "    }\n",
       "\n",
       "    .dataframe thead th {\n",
       "        text-align: right;\n",
       "    }\n",
       "</style>\n",
       "<table border=\"1\" class=\"dataframe\">\n",
       "  <thead>\n",
       "    <tr style=\"text-align: right;\">\n",
       "      <th></th>\n",
       "      <th>VIN (1-10)</th>\n",
       "      <th>County</th>\n",
       "      <th>City</th>\n",
       "      <th>State</th>\n",
       "      <th>Postal Code</th>\n",
       "      <th>Model Year</th>\n",
       "      <th>Make</th>\n",
       "      <th>Model</th>\n",
       "      <th>Electric Vehicle Type</th>\n",
       "      <th>Clean Alternative Fuel Vehicle (CAFV) Eligibility</th>\n",
       "      <th>Electric Range</th>\n",
       "      <th>Base MSRP</th>\n",
       "      <th>Legislative District</th>\n",
       "      <th>DOL Vehicle ID</th>\n",
       "      <th>Vehicle Location</th>\n",
       "      <th>Electric Utility</th>\n",
       "      <th>2020 Census Tract</th>\n",
       "    </tr>\n",
       "  </thead>\n",
       "  <tbody>\n",
       "    <tr>\n",
       "      <th>0</th>\n",
       "      <td>1C4JJXP66P</td>\n",
       "      <td>Kitsap</td>\n",
       "      <td>Poulsbo</td>\n",
       "      <td>WA</td>\n",
       "      <td>98370.0</td>\n",
       "      <td>2023</td>\n",
       "      <td>JEEP</td>\n",
       "      <td>WRANGLER</td>\n",
       "      <td>Plug-in Hybrid Electric Vehicle (PHEV)</td>\n",
       "      <td>Not eligible due to low battery range</td>\n",
       "      <td>21.0</td>\n",
       "      <td>0.0</td>\n",
       "      <td>23.0</td>\n",
       "      <td>258127145</td>\n",
       "      <td>POINT (-122.64681 47.73689)</td>\n",
       "      <td>PUGET SOUND ENERGY INC</td>\n",
       "      <td>5.303509e+10</td>\n",
       "    </tr>\n",
       "    <tr>\n",
       "      <th>1</th>\n",
       "      <td>1G1FX6S08K</td>\n",
       "      <td>Snohomish</td>\n",
       "      <td>Lake Stevens</td>\n",
       "      <td>WA</td>\n",
       "      <td>98258.0</td>\n",
       "      <td>2019</td>\n",
       "      <td>CHEVROLET</td>\n",
       "      <td>BOLT EV</td>\n",
       "      <td>Battery Electric Vehicle (BEV)</td>\n",
       "      <td>Clean Alternative Fuel Vehicle Eligible</td>\n",
       "      <td>238.0</td>\n",
       "      <td>0.0</td>\n",
       "      <td>44.0</td>\n",
       "      <td>4735426</td>\n",
       "      <td>POINT (-122.06402 48.01497)</td>\n",
       "      <td>PUGET SOUND ENERGY INC</td>\n",
       "      <td>5.306105e+10</td>\n",
       "    </tr>\n",
       "    <tr>\n",
       "      <th>2</th>\n",
       "      <td>WBY1Z2C58F</td>\n",
       "      <td>King</td>\n",
       "      <td>Seattle</td>\n",
       "      <td>WA</td>\n",
       "      <td>98116.0</td>\n",
       "      <td>2015</td>\n",
       "      <td>BMW</td>\n",
       "      <td>I3</td>\n",
       "      <td>Battery Electric Vehicle (BEV)</td>\n",
       "      <td>Clean Alternative Fuel Vehicle Eligible</td>\n",
       "      <td>81.0</td>\n",
       "      <td>0.0</td>\n",
       "      <td>34.0</td>\n",
       "      <td>272697666</td>\n",
       "      <td>POINT (-122.41067 47.57894)</td>\n",
       "      <td>CITY OF SEATTLE - (WA)|CITY OF TACOMA - (WA)</td>\n",
       "      <td>5.303301e+10</td>\n",
       "    </tr>\n",
       "    <tr>\n",
       "      <th>3</th>\n",
       "      <td>5YJ3E1EBXK</td>\n",
       "      <td>King</td>\n",
       "      <td>Seattle</td>\n",
       "      <td>WA</td>\n",
       "      <td>98178.0</td>\n",
       "      <td>2019</td>\n",
       "      <td>TESLA</td>\n",
       "      <td>MODEL 3</td>\n",
       "      <td>Battery Electric Vehicle (BEV)</td>\n",
       "      <td>Clean Alternative Fuel Vehicle Eligible</td>\n",
       "      <td>220.0</td>\n",
       "      <td>0.0</td>\n",
       "      <td>37.0</td>\n",
       "      <td>477309682</td>\n",
       "      <td>POINT (-122.23825 47.49461)</td>\n",
       "      <td>CITY OF SEATTLE - (WA)|CITY OF TACOMA - (WA)</td>\n",
       "      <td>5.303301e+10</td>\n",
       "    </tr>\n",
       "    <tr>\n",
       "      <th>4</th>\n",
       "      <td>5YJSA1V24F</td>\n",
       "      <td>Yakima</td>\n",
       "      <td>Selah</td>\n",
       "      <td>WA</td>\n",
       "      <td>98942.0</td>\n",
       "      <td>2015</td>\n",
       "      <td>TESLA</td>\n",
       "      <td>MODEL S</td>\n",
       "      <td>Battery Electric Vehicle (BEV)</td>\n",
       "      <td>Clean Alternative Fuel Vehicle Eligible</td>\n",
       "      <td>208.0</td>\n",
       "      <td>0.0</td>\n",
       "      <td>15.0</td>\n",
       "      <td>258112970</td>\n",
       "      <td>POINT (-120.53145 46.65405)</td>\n",
       "      <td>PACIFICORP</td>\n",
       "      <td>5.307700e+10</td>\n",
       "    </tr>\n",
       "    <tr>\n",
       "      <th>...</th>\n",
       "      <td>...</td>\n",
       "      <td>...</td>\n",
       "      <td>...</td>\n",
       "      <td>...</td>\n",
       "      <td>...</td>\n",
       "      <td>...</td>\n",
       "      <td>...</td>\n",
       "      <td>...</td>\n",
       "      <td>...</td>\n",
       "      <td>...</td>\n",
       "      <td>...</td>\n",
       "      <td>...</td>\n",
       "      <td>...</td>\n",
       "      <td>...</td>\n",
       "      <td>...</td>\n",
       "      <td>...</td>\n",
       "      <td>...</td>\n",
       "    </tr>\n",
       "    <tr>\n",
       "      <th>223990</th>\n",
       "      <td>7SAYGDEE4R</td>\n",
       "      <td>Pierce</td>\n",
       "      <td>Puyallup</td>\n",
       "      <td>WA</td>\n",
       "      <td>98374.0</td>\n",
       "      <td>2024</td>\n",
       "      <td>TESLA</td>\n",
       "      <td>MODEL Y</td>\n",
       "      <td>Battery Electric Vehicle (BEV)</td>\n",
       "      <td>Eligibility unknown as battery range has not b...</td>\n",
       "      <td>0.0</td>\n",
       "      <td>0.0</td>\n",
       "      <td>2.0</td>\n",
       "      <td>264662359</td>\n",
       "      <td>POINT (-122.27575 47.13959)</td>\n",
       "      <td>PUGET SOUND ENERGY INC||CITY OF TACOMA - (WA)</td>\n",
       "      <td>5.305307e+10</td>\n",
       "    </tr>\n",
       "    <tr>\n",
       "      <th>223991</th>\n",
       "      <td>WBY8P2C00M</td>\n",
       "      <td>Snohomish</td>\n",
       "      <td>Lake Stevens</td>\n",
       "      <td>WA</td>\n",
       "      <td>98258.0</td>\n",
       "      <td>2021</td>\n",
       "      <td>BMW</td>\n",
       "      <td>I3</td>\n",
       "      <td>Battery Electric Vehicle (BEV)</td>\n",
       "      <td>Eligibility unknown as battery range has not b...</td>\n",
       "      <td>0.0</td>\n",
       "      <td>0.0</td>\n",
       "      <td>44.0</td>\n",
       "      <td>157728168</td>\n",
       "      <td>POINT (-122.06402 48.01497)</td>\n",
       "      <td>PUGET SOUND ENERGY INC</td>\n",
       "      <td>5.306105e+10</td>\n",
       "    </tr>\n",
       "    <tr>\n",
       "      <th>223992</th>\n",
       "      <td>JN1AZ0CP3B</td>\n",
       "      <td>Pierce</td>\n",
       "      <td>University Place</td>\n",
       "      <td>WA</td>\n",
       "      <td>98466.0</td>\n",
       "      <td>2011</td>\n",
       "      <td>NISSAN</td>\n",
       "      <td>LEAF</td>\n",
       "      <td>Battery Electric Vehicle (BEV)</td>\n",
       "      <td>Clean Alternative Fuel Vehicle Eligible</td>\n",
       "      <td>73.0</td>\n",
       "      <td>0.0</td>\n",
       "      <td>28.0</td>\n",
       "      <td>261733433</td>\n",
       "      <td>POINT (-122.53756 47.23165)</td>\n",
       "      <td>BONNEVILLE POWER ADMINISTRATION||CITY OF TACOM...</td>\n",
       "      <td>5.305307e+10</td>\n",
       "    </tr>\n",
       "    <tr>\n",
       "      <th>223993</th>\n",
       "      <td>5YJ3E1EA2R</td>\n",
       "      <td>Pierce</td>\n",
       "      <td>Puyallup</td>\n",
       "      <td>WA</td>\n",
       "      <td>98374.0</td>\n",
       "      <td>2024</td>\n",
       "      <td>TESLA</td>\n",
       "      <td>MODEL 3</td>\n",
       "      <td>Battery Electric Vehicle (BEV)</td>\n",
       "      <td>Eligibility unknown as battery range has not b...</td>\n",
       "      <td>0.0</td>\n",
       "      <td>0.0</td>\n",
       "      <td>25.0</td>\n",
       "      <td>275283487</td>\n",
       "      <td>POINT (-122.27575 47.13959)</td>\n",
       "      <td>PUGET SOUND ENERGY INC||CITY OF TACOMA - (WA)</td>\n",
       "      <td>5.305307e+10</td>\n",
       "    </tr>\n",
       "    <tr>\n",
       "      <th>223994</th>\n",
       "      <td>WBY8P8C57K</td>\n",
       "      <td>King</td>\n",
       "      <td>Woodinville</td>\n",
       "      <td>WA</td>\n",
       "      <td>98072.0</td>\n",
       "      <td>2019</td>\n",
       "      <td>BMW</td>\n",
       "      <td>I3</td>\n",
       "      <td>Plug-in Hybrid Electric Vehicle (PHEV)</td>\n",
       "      <td>Clean Alternative Fuel Vehicle Eligible</td>\n",
       "      <td>126.0</td>\n",
       "      <td>0.0</td>\n",
       "      <td>45.0</td>\n",
       "      <td>267288801</td>\n",
       "      <td>POINT (-122.15545 47.75448)</td>\n",
       "      <td>PUGET SOUND ENERGY INC||CITY OF TACOMA - (WA)</td>\n",
       "      <td>5.303303e+10</td>\n",
       "    </tr>\n",
       "  </tbody>\n",
       "</table>\n",
       "<p>223995 rows × 17 columns</p>\n",
       "</div>"
      ],
      "text/plain": [
       "        VIN (1-10)     County              City State  Postal Code  \\\n",
       "0       1C4JJXP66P     Kitsap           Poulsbo    WA      98370.0   \n",
       "1       1G1FX6S08K  Snohomish      Lake Stevens    WA      98258.0   \n",
       "2       WBY1Z2C58F       King           Seattle    WA      98116.0   \n",
       "3       5YJ3E1EBXK       King           Seattle    WA      98178.0   \n",
       "4       5YJSA1V24F     Yakima             Selah    WA      98942.0   \n",
       "...            ...        ...               ...   ...          ...   \n",
       "223990  7SAYGDEE4R     Pierce          Puyallup    WA      98374.0   \n",
       "223991  WBY8P2C00M  Snohomish      Lake Stevens    WA      98258.0   \n",
       "223992  JN1AZ0CP3B     Pierce  University Place    WA      98466.0   \n",
       "223993  5YJ3E1EA2R     Pierce          Puyallup    WA      98374.0   \n",
       "223994  WBY8P8C57K       King       Woodinville    WA      98072.0   \n",
       "\n",
       "        Model Year       Make     Model  \\\n",
       "0             2023       JEEP  WRANGLER   \n",
       "1             2019  CHEVROLET   BOLT EV   \n",
       "2             2015        BMW        I3   \n",
       "3             2019      TESLA   MODEL 3   \n",
       "4             2015      TESLA   MODEL S   \n",
       "...            ...        ...       ...   \n",
       "223990        2024      TESLA   MODEL Y   \n",
       "223991        2021        BMW        I3   \n",
       "223992        2011     NISSAN      LEAF   \n",
       "223993        2024      TESLA   MODEL 3   \n",
       "223994        2019        BMW        I3   \n",
       "\n",
       "                         Electric Vehicle Type  \\\n",
       "0       Plug-in Hybrid Electric Vehicle (PHEV)   \n",
       "1               Battery Electric Vehicle (BEV)   \n",
       "2               Battery Electric Vehicle (BEV)   \n",
       "3               Battery Electric Vehicle (BEV)   \n",
       "4               Battery Electric Vehicle (BEV)   \n",
       "...                                        ...   \n",
       "223990          Battery Electric Vehicle (BEV)   \n",
       "223991          Battery Electric Vehicle (BEV)   \n",
       "223992          Battery Electric Vehicle (BEV)   \n",
       "223993          Battery Electric Vehicle (BEV)   \n",
       "223994  Plug-in Hybrid Electric Vehicle (PHEV)   \n",
       "\n",
       "        Clean Alternative Fuel Vehicle (CAFV) Eligibility  Electric Range  \\\n",
       "0                   Not eligible due to low battery range            21.0   \n",
       "1                 Clean Alternative Fuel Vehicle Eligible           238.0   \n",
       "2                 Clean Alternative Fuel Vehicle Eligible            81.0   \n",
       "3                 Clean Alternative Fuel Vehicle Eligible           220.0   \n",
       "4                 Clean Alternative Fuel Vehicle Eligible           208.0   \n",
       "...                                                   ...             ...   \n",
       "223990  Eligibility unknown as battery range has not b...             0.0   \n",
       "223991  Eligibility unknown as battery range has not b...             0.0   \n",
       "223992            Clean Alternative Fuel Vehicle Eligible            73.0   \n",
       "223993  Eligibility unknown as battery range has not b...             0.0   \n",
       "223994            Clean Alternative Fuel Vehicle Eligible           126.0   \n",
       "\n",
       "        Base MSRP  Legislative District  DOL Vehicle ID  \\\n",
       "0             0.0                  23.0       258127145   \n",
       "1             0.0                  44.0         4735426   \n",
       "2             0.0                  34.0       272697666   \n",
       "3             0.0                  37.0       477309682   \n",
       "4             0.0                  15.0       258112970   \n",
       "...           ...                   ...             ...   \n",
       "223990        0.0                   2.0       264662359   \n",
       "223991        0.0                  44.0       157728168   \n",
       "223992        0.0                  28.0       261733433   \n",
       "223993        0.0                  25.0       275283487   \n",
       "223994        0.0                  45.0       267288801   \n",
       "\n",
       "                   Vehicle Location  \\\n",
       "0       POINT (-122.64681 47.73689)   \n",
       "1       POINT (-122.06402 48.01497)   \n",
       "2       POINT (-122.41067 47.57894)   \n",
       "3       POINT (-122.23825 47.49461)   \n",
       "4       POINT (-120.53145 46.65405)   \n",
       "...                             ...   \n",
       "223990  POINT (-122.27575 47.13959)   \n",
       "223991  POINT (-122.06402 48.01497)   \n",
       "223992  POINT (-122.53756 47.23165)   \n",
       "223993  POINT (-122.27575 47.13959)   \n",
       "223994  POINT (-122.15545 47.75448)   \n",
       "\n",
       "                                         Electric Utility  2020 Census Tract  \n",
       "0                                  PUGET SOUND ENERGY INC       5.303509e+10  \n",
       "1                                  PUGET SOUND ENERGY INC       5.306105e+10  \n",
       "2            CITY OF SEATTLE - (WA)|CITY OF TACOMA - (WA)       5.303301e+10  \n",
       "3            CITY OF SEATTLE - (WA)|CITY OF TACOMA - (WA)       5.303301e+10  \n",
       "4                                              PACIFICORP       5.307700e+10  \n",
       "...                                                   ...                ...  \n",
       "223990      PUGET SOUND ENERGY INC||CITY OF TACOMA - (WA)       5.305307e+10  \n",
       "223991                             PUGET SOUND ENERGY INC       5.306105e+10  \n",
       "223992  BONNEVILLE POWER ADMINISTRATION||CITY OF TACOM...       5.305307e+10  \n",
       "223993      PUGET SOUND ENERGY INC||CITY OF TACOMA - (WA)       5.305307e+10  \n",
       "223994      PUGET SOUND ENERGY INC||CITY OF TACOMA - (WA)       5.303303e+10  \n",
       "\n",
       "[223995 rows x 17 columns]"
      ]
     },
     "execution_count": 82,
     "metadata": {},
     "output_type": "execute_result"
    }
   ],
   "source": [
    "# Import data and read data\n",
    "df = pd.read_csv(r\"C:\\Users\\mochw\\Downloads\\Electric_Vehicle_Population_Data.csv\")\n",
    "df"
   ]
  },
  {
   "cell_type": "code",
   "execution_count": 83,
   "metadata": {},
   "outputs": [
    {
     "data": {
      "text/plain": [
       "VIN (1-10)                                             0\n",
       "County                                                 3\n",
       "City                                                   3\n",
       "State                                                  0\n",
       "Postal Code                                            3\n",
       "Model Year                                             0\n",
       "Make                                                   0\n",
       "Model                                                  0\n",
       "Electric Vehicle Type                                  0\n",
       "Clean Alternative Fuel Vehicle (CAFV) Eligibility      0\n",
       "Electric Range                                        18\n",
       "Base MSRP                                             18\n",
       "Legislative District                                 474\n",
       "DOL Vehicle ID                                         0\n",
       "Vehicle Location                                      10\n",
       "Electric Utility                                       3\n",
       "2020 Census Tract                                      3\n",
       "dtype: int64"
      ]
     },
     "execution_count": 83,
     "metadata": {},
     "output_type": "execute_result"
    }
   ],
   "source": [
    "# Checking for missng data\n",
    "df.isnull().sum()"
   ]
  },
  {
   "cell_type": "code",
   "execution_count": 84,
   "metadata": {},
   "outputs": [
    {
     "data": {
      "application/vnd.microsoft.datawrangler.viewer.v0+json": {
       "columns": [
        {
         "name": "index",
         "rawType": "int64",
         "type": "integer"
        },
        {
         "name": "VIN (1-10)",
         "rawType": "object",
         "type": "string"
        },
        {
         "name": "County",
         "rawType": "object",
         "type": "unknown"
        },
        {
         "name": "City",
         "rawType": "object",
         "type": "unknown"
        },
        {
         "name": "State",
         "rawType": "object",
         "type": "string"
        },
        {
         "name": "Postal Code",
         "rawType": "float64",
         "type": "float"
        },
        {
         "name": "Model Year",
         "rawType": "int64",
         "type": "integer"
        },
        {
         "name": "Make",
         "rawType": "object",
         "type": "string"
        },
        {
         "name": "Model",
         "rawType": "object",
         "type": "string"
        },
        {
         "name": "Electric Vehicle Type",
         "rawType": "object",
         "type": "string"
        },
        {
         "name": "Clean Alternative Fuel Vehicle (CAFV) Eligibility",
         "rawType": "object",
         "type": "string"
        },
        {
         "name": "Electric Range",
         "rawType": "float64",
         "type": "float"
        },
        {
         "name": "Base MSRP",
         "rawType": "float64",
         "type": "float"
        },
        {
         "name": "Legislative District",
         "rawType": "float64",
         "type": "float"
        },
        {
         "name": "DOL Vehicle ID",
         "rawType": "int64",
         "type": "integer"
        },
        {
         "name": "Vehicle Location",
         "rawType": "object",
         "type": "unknown"
        },
        {
         "name": "Electric Utility",
         "rawType": "object",
         "type": "unknown"
        },
        {
         "name": "2020 Census Tract",
         "rawType": "float64",
         "type": "float"
        }
       ],
       "conversionMethod": "pd.DataFrame",
       "ref": "edd15f1d-014e-4277-9764-715adcc39d4d",
       "rows": [
        [
         "190021",
         "WBAJA9C50K",
         null,
         null,
         "AE",
         null,
         "2019",
         "BMW",
         "530E",
         "Plug-in Hybrid Electric Vehicle (PHEV)",
         "Not eligible due to low battery range",
         "16.0",
         "53400.0",
         null,
         "244582593",
         null,
         null,
         null
        ],
        [
         "207034",
         "5YJ3E1EB2M",
         null,
         null,
         "NS",
         null,
         "2021",
         "TESLA",
         "MODEL 3",
         "Battery Electric Vehicle (BEV)",
         "Eligibility unknown as battery range has not been researched",
         "0.0",
         "0.0",
         null,
         "179569743",
         null,
         null,
         null
        ],
        [
         "214205",
         "5YJXCAE24H",
         null,
         null,
         "BC",
         null,
         "2017",
         "TESLA",
         "MODEL X",
         "Battery Electric Vehicle (BEV)",
         "Clean Alternative Fuel Vehicle Eligible",
         "200.0",
         "0.0",
         null,
         "159850029",
         null,
         null,
         null
        ]
       ],
       "shape": {
        "columns": 17,
        "rows": 3
       }
      },
      "text/html": [
       "<div>\n",
       "<style scoped>\n",
       "    .dataframe tbody tr th:only-of-type {\n",
       "        vertical-align: middle;\n",
       "    }\n",
       "\n",
       "    .dataframe tbody tr th {\n",
       "        vertical-align: top;\n",
       "    }\n",
       "\n",
       "    .dataframe thead th {\n",
       "        text-align: right;\n",
       "    }\n",
       "</style>\n",
       "<table border=\"1\" class=\"dataframe\">\n",
       "  <thead>\n",
       "    <tr style=\"text-align: right;\">\n",
       "      <th></th>\n",
       "      <th>VIN (1-10)</th>\n",
       "      <th>County</th>\n",
       "      <th>City</th>\n",
       "      <th>State</th>\n",
       "      <th>Postal Code</th>\n",
       "      <th>Model Year</th>\n",
       "      <th>Make</th>\n",
       "      <th>Model</th>\n",
       "      <th>Electric Vehicle Type</th>\n",
       "      <th>Clean Alternative Fuel Vehicle (CAFV) Eligibility</th>\n",
       "      <th>Electric Range</th>\n",
       "      <th>Base MSRP</th>\n",
       "      <th>Legislative District</th>\n",
       "      <th>DOL Vehicle ID</th>\n",
       "      <th>Vehicle Location</th>\n",
       "      <th>Electric Utility</th>\n",
       "      <th>2020 Census Tract</th>\n",
       "    </tr>\n",
       "  </thead>\n",
       "  <tbody>\n",
       "    <tr>\n",
       "      <th>190021</th>\n",
       "      <td>WBAJA9C50K</td>\n",
       "      <td>NaN</td>\n",
       "      <td>NaN</td>\n",
       "      <td>AE</td>\n",
       "      <td>NaN</td>\n",
       "      <td>2019</td>\n",
       "      <td>BMW</td>\n",
       "      <td>530E</td>\n",
       "      <td>Plug-in Hybrid Electric Vehicle (PHEV)</td>\n",
       "      <td>Not eligible due to low battery range</td>\n",
       "      <td>16.0</td>\n",
       "      <td>53400.0</td>\n",
       "      <td>NaN</td>\n",
       "      <td>244582593</td>\n",
       "      <td>NaN</td>\n",
       "      <td>NaN</td>\n",
       "      <td>NaN</td>\n",
       "    </tr>\n",
       "    <tr>\n",
       "      <th>207034</th>\n",
       "      <td>5YJ3E1EB2M</td>\n",
       "      <td>NaN</td>\n",
       "      <td>NaN</td>\n",
       "      <td>NS</td>\n",
       "      <td>NaN</td>\n",
       "      <td>2021</td>\n",
       "      <td>TESLA</td>\n",
       "      <td>MODEL 3</td>\n",
       "      <td>Battery Electric Vehicle (BEV)</td>\n",
       "      <td>Eligibility unknown as battery range has not b...</td>\n",
       "      <td>0.0</td>\n",
       "      <td>0.0</td>\n",
       "      <td>NaN</td>\n",
       "      <td>179569743</td>\n",
       "      <td>NaN</td>\n",
       "      <td>NaN</td>\n",
       "      <td>NaN</td>\n",
       "    </tr>\n",
       "    <tr>\n",
       "      <th>214205</th>\n",
       "      <td>5YJXCAE24H</td>\n",
       "      <td>NaN</td>\n",
       "      <td>NaN</td>\n",
       "      <td>BC</td>\n",
       "      <td>NaN</td>\n",
       "      <td>2017</td>\n",
       "      <td>TESLA</td>\n",
       "      <td>MODEL X</td>\n",
       "      <td>Battery Electric Vehicle (BEV)</td>\n",
       "      <td>Clean Alternative Fuel Vehicle Eligible</td>\n",
       "      <td>200.0</td>\n",
       "      <td>0.0</td>\n",
       "      <td>NaN</td>\n",
       "      <td>159850029</td>\n",
       "      <td>NaN</td>\n",
       "      <td>NaN</td>\n",
       "      <td>NaN</td>\n",
       "    </tr>\n",
       "  </tbody>\n",
       "</table>\n",
       "</div>"
      ],
      "text/plain": [
       "        VIN (1-10) County City State  Postal Code  Model Year   Make    Model  \\\n",
       "190021  WBAJA9C50K    NaN  NaN    AE          NaN        2019    BMW     530E   \n",
       "207034  5YJ3E1EB2M    NaN  NaN    NS          NaN        2021  TESLA  MODEL 3   \n",
       "214205  5YJXCAE24H    NaN  NaN    BC          NaN        2017  TESLA  MODEL X   \n",
       "\n",
       "                         Electric Vehicle Type  \\\n",
       "190021  Plug-in Hybrid Electric Vehicle (PHEV)   \n",
       "207034          Battery Electric Vehicle (BEV)   \n",
       "214205          Battery Electric Vehicle (BEV)   \n",
       "\n",
       "        Clean Alternative Fuel Vehicle (CAFV) Eligibility  Electric Range  \\\n",
       "190021              Not eligible due to low battery range            16.0   \n",
       "207034  Eligibility unknown as battery range has not b...             0.0   \n",
       "214205            Clean Alternative Fuel Vehicle Eligible           200.0   \n",
       "\n",
       "        Base MSRP  Legislative District  DOL Vehicle ID Vehicle Location  \\\n",
       "190021    53400.0                   NaN       244582593              NaN   \n",
       "207034        0.0                   NaN       179569743              NaN   \n",
       "214205        0.0                   NaN       159850029              NaN   \n",
       "\n",
       "       Electric Utility  2020 Census Tract  \n",
       "190021              NaN                NaN  \n",
       "207034              NaN                NaN  \n",
       "214205              NaN                NaN  "
      ]
     },
     "execution_count": 84,
     "metadata": {},
     "output_type": "execute_result"
    }
   ],
   "source": [
    "# Checking the null items\n",
    "df[df['County'].isnull()]"
   ]
  },
  {
   "cell_type": "code",
   "execution_count": 85,
   "metadata": {},
   "outputs": [],
   "source": [
    "# Removing null values\n",
    "df['Legislative District'] = df['Legislative District'].fillna(0)\n",
    "df = df.dropna()"
   ]
  },
  {
   "cell_type": "code",
   "execution_count": 86,
   "metadata": {},
   "outputs": [],
   "source": [
    "# Deleting duplicate items\n",
    "df = df.drop_duplicates()"
   ]
  },
  {
   "cell_type": "code",
   "execution_count": 87,
   "metadata": {},
   "outputs": [
    {
     "data": {
      "text/plain": [
       "VIN (1-10)                                            object\n",
       "County                                                object\n",
       "City                                                  object\n",
       "State                                                 object\n",
       "Postal Code                                          float64\n",
       "Model Year                                             int64\n",
       "Make                                                  object\n",
       "Model                                                 object\n",
       "Electric Vehicle Type                                 object\n",
       "Clean Alternative Fuel Vehicle (CAFV) Eligibility     object\n",
       "Electric Range                                       float64\n",
       "Base MSRP                                            float64\n",
       "Legislative District                                 float64\n",
       "DOL Vehicle ID                                         int64\n",
       "Vehicle Location                                      object\n",
       "Electric Utility                                      object\n",
       "2020 Census Tract                                    float64\n",
       "dtype: object"
      ]
     },
     "execution_count": 87,
     "metadata": {},
     "output_type": "execute_result"
    }
   ],
   "source": [
    "# Checking the data type\n",
    "df.dtypes"
   ]
  },
  {
   "cell_type": "code",
   "execution_count": 88,
   "metadata": {},
   "outputs": [],
   "source": [
    "# Rename column\n",
    "df = df.rename(columns={'County':'Country', 'Make':'Brand'})"
   ]
  },
  {
   "cell_type": "code",
   "execution_count": null,
   "metadata": {},
   "outputs": [],
   "source": [
    "# Replace the same data\n",
    "df['Electric Utility'] = df['Electric Utility'].replace(r'.*BONNEVILLE.*', 'BONNEVILLE POWER ADMINISTRATION', regex=True)\n",
    "df['Electric Utility'] = df['Electric Utility'].replace(r'.*PUGET SOUND ENERGY INC.*', 'PUGET SOUND ENERGY INC', regex=True)\n",
    "df['Electric Utility'] = df['Electric Utility'].replace(r' - .*', '', regex=True)"
   ]
  },
  {
   "cell_type": "code",
   "execution_count": 90,
   "metadata": {},
   "outputs": [],
   "source": [
    "# Replace values in 'Electric Vehicle Type' column\n",
    "df['Electric Vehicle Type'] = df['Electric Vehicle Type'].replace({\n",
    "    'Battery Electric Vehicle (BEV)': 'BEV',\n",
    "    'Plug-in Hybrid Electric Vehicle (PHEV)': 'PHEV'\n",
    "})"
   ]
  },
  {
   "cell_type": "code",
   "execution_count": 92,
   "metadata": {},
   "outputs": [
    {
     "data": {
      "application/vnd.microsoft.datawrangler.viewer.v0+json": {
       "columns": [
        {
         "name": "index",
         "rawType": "int64",
         "type": "integer"
        },
        {
         "name": "Country",
         "rawType": "object",
         "type": "string"
        },
        {
         "name": "City",
         "rawType": "object",
         "type": "string"
        },
        {
         "name": "State",
         "rawType": "object",
         "type": "string"
        },
        {
         "name": "Model Year",
         "rawType": "int64",
         "type": "integer"
        },
        {
         "name": "Brand",
         "rawType": "object",
         "type": "string"
        },
        {
         "name": "Model",
         "rawType": "object",
         "type": "string"
        },
        {
         "name": "Electric Vehicle Type",
         "rawType": "object",
         "type": "string"
        },
        {
         "name": "Clean Alternative Fuel Vehicle (CAFV) Eligibility",
         "rawType": "object",
         "type": "string"
        },
        {
         "name": "Electric Utility",
         "rawType": "object",
         "type": "string"
        }
       ],
       "conversionMethod": "pd.DataFrame",
       "ref": "bd61bf54-4be3-4885-bcaa-f43ca2e9e221",
       "rows": [
        [
         "0",
         "Kitsap",
         "Poulsbo",
         "WA",
         "2023",
         "JEEP",
         "WRANGLER",
         "PHEV",
         "Not eligible due to low battery range",
         "PUGET SOUND ENERGY INC"
        ],
        [
         "1",
         "Snohomish",
         "Lake Stevens",
         "WA",
         "2019",
         "CHEVROLET",
         "BOLT EV",
         "BEV",
         "Clean Alternative Fuel Vehicle Eligible",
         "PUGET SOUND ENERGY INC"
        ],
        [
         "2",
         "King",
         "Seattle",
         "WA",
         "2015",
         "BMW",
         "I3",
         "BEV",
         "Clean Alternative Fuel Vehicle Eligible",
         "CITY OF SEATTLE"
        ],
        [
         "3",
         "King",
         "Seattle",
         "WA",
         "2019",
         "TESLA",
         "MODEL 3",
         "BEV",
         "Clean Alternative Fuel Vehicle Eligible",
         "CITY OF SEATTLE"
        ],
        [
         "4",
         "Yakima",
         "Selah",
         "WA",
         "2015",
         "TESLA",
         "MODEL S",
         "BEV",
         "Clean Alternative Fuel Vehicle Eligible",
         "PACIFICORP"
        ]
       ],
       "shape": {
        "columns": 9,
        "rows": 5
       }
      },
      "text/html": [
       "<div>\n",
       "<style scoped>\n",
       "    .dataframe tbody tr th:only-of-type {\n",
       "        vertical-align: middle;\n",
       "    }\n",
       "\n",
       "    .dataframe tbody tr th {\n",
       "        vertical-align: top;\n",
       "    }\n",
       "\n",
       "    .dataframe thead th {\n",
       "        text-align: right;\n",
       "    }\n",
       "</style>\n",
       "<table border=\"1\" class=\"dataframe\">\n",
       "  <thead>\n",
       "    <tr style=\"text-align: right;\">\n",
       "      <th></th>\n",
       "      <th>Country</th>\n",
       "      <th>City</th>\n",
       "      <th>State</th>\n",
       "      <th>Model Year</th>\n",
       "      <th>Brand</th>\n",
       "      <th>Model</th>\n",
       "      <th>Electric Vehicle Type</th>\n",
       "      <th>Clean Alternative Fuel Vehicle (CAFV) Eligibility</th>\n",
       "      <th>Electric Utility</th>\n",
       "    </tr>\n",
       "  </thead>\n",
       "  <tbody>\n",
       "    <tr>\n",
       "      <th>0</th>\n",
       "      <td>Kitsap</td>\n",
       "      <td>Poulsbo</td>\n",
       "      <td>WA</td>\n",
       "      <td>2023</td>\n",
       "      <td>JEEP</td>\n",
       "      <td>WRANGLER</td>\n",
       "      <td>PHEV</td>\n",
       "      <td>Not eligible due to low battery range</td>\n",
       "      <td>PUGET SOUND ENERGY INC</td>\n",
       "    </tr>\n",
       "    <tr>\n",
       "      <th>1</th>\n",
       "      <td>Snohomish</td>\n",
       "      <td>Lake Stevens</td>\n",
       "      <td>WA</td>\n",
       "      <td>2019</td>\n",
       "      <td>CHEVROLET</td>\n",
       "      <td>BOLT EV</td>\n",
       "      <td>BEV</td>\n",
       "      <td>Clean Alternative Fuel Vehicle Eligible</td>\n",
       "      <td>PUGET SOUND ENERGY INC</td>\n",
       "    </tr>\n",
       "    <tr>\n",
       "      <th>2</th>\n",
       "      <td>King</td>\n",
       "      <td>Seattle</td>\n",
       "      <td>WA</td>\n",
       "      <td>2015</td>\n",
       "      <td>BMW</td>\n",
       "      <td>I3</td>\n",
       "      <td>BEV</td>\n",
       "      <td>Clean Alternative Fuel Vehicle Eligible</td>\n",
       "      <td>CITY OF SEATTLE</td>\n",
       "    </tr>\n",
       "    <tr>\n",
       "      <th>3</th>\n",
       "      <td>King</td>\n",
       "      <td>Seattle</td>\n",
       "      <td>WA</td>\n",
       "      <td>2019</td>\n",
       "      <td>TESLA</td>\n",
       "      <td>MODEL 3</td>\n",
       "      <td>BEV</td>\n",
       "      <td>Clean Alternative Fuel Vehicle Eligible</td>\n",
       "      <td>CITY OF SEATTLE</td>\n",
       "    </tr>\n",
       "    <tr>\n",
       "      <th>4</th>\n",
       "      <td>Yakima</td>\n",
       "      <td>Selah</td>\n",
       "      <td>WA</td>\n",
       "      <td>2015</td>\n",
       "      <td>TESLA</td>\n",
       "      <td>MODEL S</td>\n",
       "      <td>BEV</td>\n",
       "      <td>Clean Alternative Fuel Vehicle Eligible</td>\n",
       "      <td>PACIFICORP</td>\n",
       "    </tr>\n",
       "  </tbody>\n",
       "</table>\n",
       "</div>"
      ],
      "text/plain": [
       "     Country          City State  Model Year      Brand     Model  \\\n",
       "0     Kitsap       Poulsbo    WA        2023       JEEP  WRANGLER   \n",
       "1  Snohomish  Lake Stevens    WA        2019  CHEVROLET   BOLT EV   \n",
       "2       King       Seattle    WA        2015        BMW        I3   \n",
       "3       King       Seattle    WA        2019      TESLA   MODEL 3   \n",
       "4     Yakima         Selah    WA        2015      TESLA   MODEL S   \n",
       "\n",
       "  Electric Vehicle Type Clean Alternative Fuel Vehicle (CAFV) Eligibility  \\\n",
       "0                  PHEV             Not eligible due to low battery range   \n",
       "1                   BEV           Clean Alternative Fuel Vehicle Eligible   \n",
       "2                   BEV           Clean Alternative Fuel Vehicle Eligible   \n",
       "3                   BEV           Clean Alternative Fuel Vehicle Eligible   \n",
       "4                   BEV           Clean Alternative Fuel Vehicle Eligible   \n",
       "\n",
       "         Electric Utility  \n",
       "0  PUGET SOUND ENERGY INC  \n",
       "1  PUGET SOUND ENERGY INC  \n",
       "2         CITY OF SEATTLE  \n",
       "3         CITY OF SEATTLE  \n",
       "4              PACIFICORP  "
      ]
     },
     "execution_count": 92,
     "metadata": {},
     "output_type": "execute_result"
    }
   ],
   "source": [
    "# Removing uneeded column\n",
    "df = df.drop(columns=['VIN (1-10)', 'Vehicle Location', 'Postal Code', '2020 Census Tract', 'Electric Range', 'Base MSRP', 'DOL Vehicle ID', 'Legislative District'])\n",
    "df.head()"
   ]
  },
  {
   "cell_type": "code",
   "execution_count": 93,
   "metadata": {},
   "outputs": [
    {
     "data": {
      "image/png": "[encoded data removed]",
      "text/plain": [
       "<Figure size 2000x500 with 1 Axes>"
      ]
     },
     "metadata": {},
     "output_type": "display_data"
    }
   ],
   "source": [
    "# Count the occurrences of each make\n",
    "brand_counts = df['Brand'].value_counts()\n",
    "# Plot the bar chart\n",
    "brand_counts.plot(kind='bar', figsize=(20, 5), title='Brand With The Most User', color='red')\n",
    "plt.xlabel('Brand')\n",
    "plt.ylabel('Count')\n",
    "plt.show()"
   ]
  },
  {
   "cell_type": "code",
   "execution_count": 94,
   "metadata": {},
   "outputs": [
    {
     "data": {
      "application/vnd.microsoft.datawrangler.viewer.v0+json": {
       "columns": [
        {
         "name": "index",
         "rawType": "int64",
         "type": "integer"
        },
        {
         "name": "Brand",
         "rawType": "object",
         "type": "string"
        },
        {
         "name": "Count",
         "rawType": "int64",
         "type": "integer"
        }
       ],
       "conversionMethod": "pd.DataFrame",
       "ref": "05164a89-fada-4aa1-9290-c52c46ff69cb",
       "rows": [
        [
         "0",
         "TESLA",
         "96177"
        ],
        [
         "1",
         "CHEVROLET",
         "16403"
        ],
        [
         "2",
         "NISSAN",
         "15259"
        ],
        [
         "3",
         "FORD",
         "11930"
        ],
        [
         "4",
         "KIA",
         "10759"
        ],
        [
         "5",
         "BMW",
         "9170"
        ],
        [
         "6",
         "TOYOTA",
         "8955"
        ],
        [
         "7",
         "HYUNDAI",
         "6877"
        ],
        [
         "8",
         "RIVIAN",
         "6236"
        ],
        [
         "9",
         "JEEP",
         "5772"
        ],
        [
         "10",
         "VOLKSWAGEN",
         "5740"
        ],
        [
         "11",
         "VOLVO",
         "5565"
        ],
        [
         "12",
         "AUDI",
         "4157"
        ],
        [
         "13",
         "CHRYSLER",
         "3733"
        ],
        [
         "14",
         "MERCEDES-BENZ",
         "2235"
        ],
        [
         "15",
         "SUBARU",
         "1830"
        ],
        [
         "16",
         "HONDA",
         "1802"
        ],
        [
         "17",
         "PORSCHE",
         "1363"
        ],
        [
         "18",
         "POLESTAR",
         "1222"
        ],
        [
         "19",
         "MINI",
         "1085"
        ],
        [
         "20",
         "MITSUBISHI",
         "1065"
        ],
        [
         "21",
         "CADILLAC",
         "1027"
        ],
        [
         "22",
         "MAZDA",
         "915"
        ],
        [
         "23",
         "LEXUS",
         "862"
        ],
        [
         "24",
         "FIAT",
         "758"
        ],
        [
         "25",
         "DODGE",
         "733"
        ],
        [
         "26",
         "LUCID",
         "357"
        ],
        [
         "27",
         "LINCOLN",
         "336"
        ],
        [
         "28",
         "GENESIS",
         "319"
        ],
        [
         "29",
         "GMC",
         "302"
        ],
        [
         "30",
         "SMART",
         "242"
        ],
        [
         "31",
         "JAGUAR",
         "233"
        ],
        [
         "32",
         "FISKER",
         "186"
        ],
        [
         "33",
         "ACURA",
         "141"
        ],
        [
         "34",
         "LAND ROVER",
         "100"
        ],
        [
         "35",
         "ALFA ROMEO",
         "91"
        ],
        [
         "36",
         "TH!NK",
         "5"
        ],
        [
         "37",
         "AZURE DYNAMICS",
         "4"
        ],
        [
         "38",
         "BENTLEY",
         "4"
        ],
        [
         "39",
         "WHEEGO ELECTRIC CARS",
         "3"
        ],
        [
         "40",
         "ROLLS-ROYCE",
         "3"
        ],
        [
         "41",
         "BRIGHTDROP",
         "3"
        ],
        [
         "42",
         "MULLEN AUTOMOTIVE INC.",
         "2"
        ],
        [
         "43",
         "VINFAST",
         "2"
        ],
        [
         "44",
         "LAMBORGHINI",
         "2"
        ],
        [
         "45",
         "RAM",
         "2"
        ]
       ],
       "shape": {
        "columns": 2,
        "rows": 46
       }
      },
      "text/html": [
       "<div>\n",
       "<style scoped>\n",
       "    .dataframe tbody tr th:only-of-type {\n",
       "        vertical-align: middle;\n",
       "    }\n",
       "\n",
       "    .dataframe tbody tr th {\n",
       "        vertical-align: top;\n",
       "    }\n",
       "\n",
       "    .dataframe thead th {\n",
       "        text-align: right;\n",
       "    }\n",
       "</style>\n",
       "<table border=\"1\" class=\"dataframe\">\n",
       "  <thead>\n",
       "    <tr style=\"text-align: right;\">\n",
       "      <th></th>\n",
       "      <th>Brand</th>\n",
       "      <th>Count</th>\n",
       "    </tr>\n",
       "  </thead>\n",
       "  <tbody>\n",
       "    <tr>\n",
       "      <th>0</th>\n",
       "      <td>TESLA</td>\n",
       "      <td>96177</td>\n",
       "    </tr>\n",
       "    <tr>\n",
       "      <th>1</th>\n",
       "      <td>CHEVROLET</td>\n",
       "      <td>16403</td>\n",
       "    </tr>\n",
       "    <tr>\n",
       "      <th>2</th>\n",
       "      <td>NISSAN</td>\n",
       "      <td>15259</td>\n",
       "    </tr>\n",
       "    <tr>\n",
       "      <th>3</th>\n",
       "      <td>FORD</td>\n",
       "      <td>11930</td>\n",
       "    </tr>\n",
       "    <tr>\n",
       "      <th>4</th>\n",
       "      <td>KIA</td>\n",
       "      <td>10759</td>\n",
       "    </tr>\n",
       "    <tr>\n",
       "      <th>5</th>\n",
       "      <td>BMW</td>\n",
       "      <td>9170</td>\n",
       "    </tr>\n",
       "    <tr>\n",
       "      <th>6</th>\n",
       "      <td>TOYOTA</td>\n",
       "      <td>8955</td>\n",
       "    </tr>\n",
       "    <tr>\n",
       "      <th>7</th>\n",
       "      <td>HYUNDAI</td>\n",
       "      <td>6877</td>\n",
       "    </tr>\n",
       "    <tr>\n",
       "      <th>8</th>\n",
       "      <td>RIVIAN</td>\n",
       "      <td>6236</td>\n",
       "    </tr>\n",
       "    <tr>\n",
       "      <th>9</th>\n",
       "      <td>JEEP</td>\n",
       "      <td>5772</td>\n",
       "    </tr>\n",
       "    <tr>\n",
       "      <th>10</th>\n",
       "      <td>VOLKSWAGEN</td>\n",
       "      <td>5740</td>\n",
       "    </tr>\n",
       "    <tr>\n",
       "      <th>11</th>\n",
       "      <td>VOLVO</td>\n",
       "      <td>5565</td>\n",
       "    </tr>\n",
       "    <tr>\n",
       "      <th>12</th>\n",
       "      <td>AUDI</td>\n",
       "      <td>4157</td>\n",
       "    </tr>\n",
       "    <tr>\n",
       "      <th>13</th>\n",
       "      <td>CHRYSLER</td>\n",
       "      <td>3733</td>\n",
       "    </tr>\n",
       "    <tr>\n",
       "      <th>14</th>\n",
       "      <td>MERCEDES-BENZ</td>\n",
       "      <td>2235</td>\n",
       "    </tr>\n",
       "    <tr>\n",
       "      <th>15</th>\n",
       "      <td>SUBARU</td>\n",
       "      <td>1830</td>\n",
       "    </tr>\n",
       "    <tr>\n",
       "      <th>16</th>\n",
       "      <td>HONDA</td>\n",
       "      <td>1802</td>\n",
       "    </tr>\n",
       "    <tr>\n",
       "      <th>17</th>\n",
       "      <td>PORSCHE</td>\n",
       "      <td>1363</td>\n",
       "    </tr>\n",
       "    <tr>\n",
       "      <th>18</th>\n",
       "      <td>POLESTAR</td>\n",
       "      <td>1222</td>\n",
       "    </tr>\n",
       "    <tr>\n",
       "      <th>19</th>\n",
       "      <td>MINI</td>\n",
       "      <td>1085</td>\n",
       "    </tr>\n",
       "    <tr>\n",
       "      <th>20</th>\n",
       "      <td>MITSUBISHI</td>\n",
       "      <td>1065</td>\n",
       "    </tr>\n",
       "    <tr>\n",
       "      <th>21</th>\n",
       "      <td>CADILLAC</td>\n",
       "      <td>1027</td>\n",
       "    </tr>\n",
       "    <tr>\n",
       "      <th>22</th>\n",
       "      <td>MAZDA</td>\n",
       "      <td>915</td>\n",
       "    </tr>\n",
       "    <tr>\n",
       "      <th>23</th>\n",
       "      <td>LEXUS</td>\n",
       "      <td>862</td>\n",
       "    </tr>\n",
       "    <tr>\n",
       "      <th>24</th>\n",
       "      <td>FIAT</td>\n",
       "      <td>758</td>\n",
       "    </tr>\n",
       "    <tr>\n",
       "      <th>25</th>\n",
       "      <td>DODGE</td>\n",
       "      <td>733</td>\n",
       "    </tr>\n",
       "    <tr>\n",
       "      <th>26</th>\n",
       "      <td>LUCID</td>\n",
       "      <td>357</td>\n",
       "    </tr>\n",
       "    <tr>\n",
       "      <th>27</th>\n",
       "      <td>LINCOLN</td>\n",
       "      <td>336</td>\n",
       "    </tr>\n",
       "    <tr>\n",
       "      <th>28</th>\n",
       "      <td>GENESIS</td>\n",
       "      <td>319</td>\n",
       "    </tr>\n",
       "    <tr>\n",
       "      <th>29</th>\n",
       "      <td>GMC</td>\n",
       "      <td>302</td>\n",
       "    </tr>\n",
       "    <tr>\n",
       "      <th>30</th>\n",
       "      <td>SMART</td>\n",
       "      <td>242</td>\n",
       "    </tr>\n",
       "    <tr>\n",
       "      <th>31</th>\n",
       "      <td>JAGUAR</td>\n",
       "      <td>233</td>\n",
       "    </tr>\n",
       "    <tr>\n",
       "      <th>32</th>\n",
       "      <td>FISKER</td>\n",
       "      <td>186</td>\n",
       "    </tr>\n",
       "    <tr>\n",
       "      <th>33</th>\n",
       "      <td>ACURA</td>\n",
       "      <td>141</td>\n",
       "    </tr>\n",
       "    <tr>\n",
       "      <th>34</th>\n",
       "      <td>LAND ROVER</td>\n",
       "      <td>100</td>\n",
       "    </tr>\n",
       "    <tr>\n",
       "      <th>35</th>\n",
       "      <td>ALFA ROMEO</td>\n",
       "      <td>91</td>\n",
       "    </tr>\n",
       "    <tr>\n",
       "      <th>36</th>\n",
       "      <td>TH!NK</td>\n",
       "      <td>5</td>\n",
       "    </tr>\n",
       "    <tr>\n",
       "      <th>37</th>\n",
       "      <td>AZURE DYNAMICS</td>\n",
       "      <td>4</td>\n",
       "    </tr>\n",
       "    <tr>\n",
       "      <th>38</th>\n",
       "      <td>BENTLEY</td>\n",
       "      <td>4</td>\n",
       "    </tr>\n",
       "    <tr>\n",
       "      <th>39</th>\n",
       "      <td>WHEEGO ELECTRIC CARS</td>\n",
       "      <td>3</td>\n",
       "    </tr>\n",
       "    <tr>\n",
       "      <th>40</th>\n",
       "      <td>ROLLS-ROYCE</td>\n",
       "      <td>3</td>\n",
       "    </tr>\n",
       "    <tr>\n",
       "      <th>41</th>\n",
       "      <td>BRIGHTDROP</td>\n",
       "      <td>3</td>\n",
       "    </tr>\n",
       "    <tr>\n",
       "      <th>42</th>\n",
       "      <td>MULLEN AUTOMOTIVE INC.</td>\n",
       "      <td>2</td>\n",
       "    </tr>\n",
       "    <tr>\n",
       "      <th>43</th>\n",
       "      <td>VINFAST</td>\n",
       "      <td>2</td>\n",
       "    </tr>\n",
       "    <tr>\n",
       "      <th>44</th>\n",
       "      <td>LAMBORGHINI</td>\n",
       "      <td>2</td>\n",
       "    </tr>\n",
       "    <tr>\n",
       "      <th>45</th>\n",
       "      <td>RAM</td>\n",
       "      <td>2</td>\n",
       "    </tr>\n",
       "  </tbody>\n",
       "</table>\n",
       "</div>"
      ],
      "text/plain": [
       "                     Brand  Count\n",
       "0                    TESLA  96177\n",
       "1                CHEVROLET  16403\n",
       "2                   NISSAN  15259\n",
       "3                     FORD  11930\n",
       "4                      KIA  10759\n",
       "5                      BMW   9170\n",
       "6                   TOYOTA   8955\n",
       "7                  HYUNDAI   6877\n",
       "8                   RIVIAN   6236\n",
       "9                     JEEP   5772\n",
       "10              VOLKSWAGEN   5740\n",
       "11                   VOLVO   5565\n",
       "12                    AUDI   4157\n",
       "13                CHRYSLER   3733\n",
       "14           MERCEDES-BENZ   2235\n",
       "15                  SUBARU   1830\n",
       "16                   HONDA   1802\n",
       "17                 PORSCHE   1363\n",
       "18                POLESTAR   1222\n",
       "19                    MINI   1085\n",
       "20              MITSUBISHI   1065\n",
       "21                CADILLAC   1027\n",
       "22                   MAZDA    915\n",
       "23                   LEXUS    862\n",
       "24                    FIAT    758\n",
       "25                   DODGE    733\n",
       "26                   LUCID    357\n",
       "27                 LINCOLN    336\n",
       "28                 GENESIS    319\n",
       "29                     GMC    302\n",
       "30                   SMART    242\n",
       "31                  JAGUAR    233\n",
       "32                  FISKER    186\n",
       "33                   ACURA    141\n",
       "34              LAND ROVER    100\n",
       "35              ALFA ROMEO     91\n",
       "36                   TH!NK      5\n",
       "37          AZURE DYNAMICS      4\n",
       "38                 BENTLEY      4\n",
       "39    WHEEGO ELECTRIC CARS      3\n",
       "40             ROLLS-ROYCE      3\n",
       "41              BRIGHTDROP      3\n",
       "42  MULLEN AUTOMOTIVE INC.      2\n",
       "43                 VINFAST      2\n",
       "44             LAMBORGHINI      2\n",
       "45                     RAM      2"
      ]
     },
     "execution_count": 94,
     "metadata": {},
     "output_type": "execute_result"
    }
   ],
   "source": [
    "# Most use electric car \n",
    "brand_counts_df = brand_counts.reset_index()\n",
    "brand_counts_df.columns = ['Brand', 'Count']\n",
    "brand_counts_df"
   ]
  },
  {
   "cell_type": "code",
   "execution_count": null,
   "metadata": {},
   "outputs": [
    {
     "data": {
      "application/vnd.microsoft.datawrangler.viewer.v0+json": {
       "columns": [
        {
         "name": "index",
         "rawType": "int64",
         "type": "integer"
        },
        {
         "name": "Country",
         "rawType": "object",
         "type": "string"
        },
        {
         "name": "Count",
         "rawType": "int64",
         "type": "integer"
        }
       ],
       "conversionMethod": "pd.DataFrame",
       "ref": "dc540482-a578-4fbe-af96-434ee9491994",
       "rows": [
        [
         "0",
         "King",
         "113154"
        ],
        [
         "1",
         "Snohomish",
         "27184"
        ],
        [
         "2",
         "Pierce",
         "18026"
        ],
        [
         "3",
         "Clark",
         "13452"
        ],
        [
         "4",
         "Thurston",
         "8252"
        ],
        [
         "5",
         "Kitsap",
         "7476"
        ],
        [
         "6",
         "Spokane",
         "6293"
        ],
        [
         "7",
         "Whatcom",
         "5447"
        ],
        [
         "8",
         "Benton",
         "2892"
        ],
        [
         "9",
         "Skagit",
         "2523"
        ],
        [
         "10",
         "Island",
         "2401"
        ],
        [
         "11",
         "Yakima",
         "1418"
        ],
        [
         "12",
         "Chelan",
         "1355"
        ],
        [
         "13",
         "Clallam",
         "1346"
        ],
        [
         "14",
         "Jefferson",
         "1186"
        ],
        [
         "15",
         "Cowlitz",
         "1153"
        ],
        [
         "16",
         "San Juan",
         "1102"
        ],
        [
         "17",
         "Mason",
         "1059"
        ],
        [
         "18",
         "Lewis",
         "1025"
        ],
        [
         "19",
         "Grant",
         "822"
        ],
        [
         "20",
         "Kittitas",
         "820"
        ],
        [
         "21",
         "Franklin",
         "817"
        ],
        [
         "22",
         "Grays Harbor",
         "816"
        ],
        [
         "23",
         "Walla Walla",
         "605"
        ],
        [
         "24",
         "Douglas",
         "496"
        ],
        [
         "25",
         "Whitman",
         "436"
        ],
        [
         "26",
         "Klickitat",
         "390"
        ],
        [
         "27",
         "Okanogan",
         "346"
        ],
        [
         "28",
         "Pacific",
         "270"
        ],
        [
         "29",
         "Stevens",
         "268"
        ],
        [
         "30",
         "Skamania",
         "236"
        ],
        [
         "31",
         "Asotin",
         "90"
        ],
        [
         "32",
         "Adams",
         "78"
        ],
        [
         "33",
         "Wahkiakum",
         "78"
        ],
        [
         "34",
         "Pend Oreille",
         "77"
        ],
        [
         "35",
         "Lincoln",
         "68"
        ],
        [
         "36",
         "Ferry",
         "34"
        ],
        [
         "37",
         "San Diego",
         "34"
        ],
        [
         "38",
         "Fairfax",
         "21"
        ],
        [
         "39",
         "Columbia",
         "18"
        ],
        [
         "40",
         "El Paso",
         "15"
        ],
        [
         "41",
         "Montgomery",
         "13"
        ],
        [
         "42",
         "Los Angeles",
         "11"
        ],
        [
         "43",
         "Orange",
         "10"
        ],
        [
         "44",
         "Anne Arundel",
         "10"
        ],
        [
         "45",
         "Santa Clara",
         "9"
        ],
        [
         "46",
         "Monterey",
         "7"
        ],
        [
         "47",
         "Virginia Beach",
         "7"
        ],
        [
         "48",
         "New London",
         "7"
        ],
        [
         "49",
         "Cumberland",
         "6"
        ]
       ],
       "shape": {
        "columns": 2,
        "rows": 207
       }
      },
      "text/html": [
       "<div>\n",
       "<style scoped>\n",
       "    .dataframe tbody tr th:only-of-type {\n",
       "        vertical-align: middle;\n",
       "    }\n",
       "\n",
       "    .dataframe tbody tr th {\n",
       "        vertical-align: top;\n",
       "    }\n",
       "\n",
       "    .dataframe thead th {\n",
       "        text-align: right;\n",
       "    }\n",
       "</style>\n",
       "<table border=\"1\" class=\"dataframe\">\n",
       "  <thead>\n",
       "    <tr style=\"text-align: right;\">\n",
       "      <th></th>\n",
       "      <th>Country</th>\n",
       "      <th>Count</th>\n",
       "    </tr>\n",
       "  </thead>\n",
       "  <tbody>\n",
       "    <tr>\n",
       "      <th>0</th>\n",
       "      <td>King</td>\n",
       "      <td>113154</td>\n",
       "    </tr>\n",
       "    <tr>\n",
       "      <th>1</th>\n",
       "      <td>Snohomish</td>\n",
       "      <td>27184</td>\n",
       "    </tr>\n",
       "    <tr>\n",
       "      <th>2</th>\n",
       "      <td>Pierce</td>\n",
       "      <td>18026</td>\n",
       "    </tr>\n",
       "    <tr>\n",
       "      <th>3</th>\n",
       "      <td>Clark</td>\n",
       "      <td>13452</td>\n",
       "    </tr>\n",
       "    <tr>\n",
       "      <th>4</th>\n",
       "      <td>Thurston</td>\n",
       "      <td>8252</td>\n",
       "    </tr>\n",
       "    <tr>\n",
       "      <th>...</th>\n",
       "      <td>...</td>\n",
       "      <td>...</td>\n",
       "    </tr>\n",
       "    <tr>\n",
       "      <th>202</th>\n",
       "      <td>Marion</td>\n",
       "      <td>1</td>\n",
       "    </tr>\n",
       "    <tr>\n",
       "      <th>203</th>\n",
       "      <td>Pettis</td>\n",
       "      <td>1</td>\n",
       "    </tr>\n",
       "    <tr>\n",
       "      <th>204</th>\n",
       "      <td>Norfolk</td>\n",
       "      <td>1</td>\n",
       "    </tr>\n",
       "    <tr>\n",
       "      <th>205</th>\n",
       "      <td>Hudson</td>\n",
       "      <td>1</td>\n",
       "    </tr>\n",
       "    <tr>\n",
       "      <th>206</th>\n",
       "      <td>Isle of Wight</td>\n",
       "      <td>1</td>\n",
       "    </tr>\n",
       "  </tbody>\n",
       "</table>\n",
       "<p>207 rows × 2 columns</p>\n",
       "</div>"
      ],
      "text/plain": [
       "           Country   Count\n",
       "0             King  113154\n",
       "1        Snohomish   27184\n",
       "2           Pierce   18026\n",
       "3            Clark   13452\n",
       "4         Thurston    8252\n",
       "..             ...     ...\n",
       "202         Marion       1\n",
       "203         Pettis       1\n",
       "204        Norfolk       1\n",
       "205         Hudson       1\n",
       "206  Isle of Wight       1\n",
       "\n",
       "[207 rows x 2 columns]"
      ]
     },
     "execution_count": 95,
     "metadata": {},
     "output_type": "execute_result"
    }
   ],
   "source": [
    "# The most country that have electric car\n",
    "country_counts = df['Country'].value_counts()\n",
    "country_counts_df = country_counts.reset_index()\n",
    "country_counts_df.columns = ['Country', 'Count']\n",
    "country_counts_df"
   ]
  },
  {
   "cell_type": "code",
   "execution_count": null,
   "metadata": {},
   "outputs": [
    {
     "data": {
      "application/vnd.microsoft.datawrangler.viewer.v0+json": {
       "columns": [
        {
         "name": "index",
         "rawType": "int64",
         "type": "integer"
        },
        {
         "name": "State",
         "rawType": "object",
         "type": "string"
        },
        {
         "name": "Count",
         "rawType": "int64",
         "type": "integer"
        }
       ],
       "conversionMethod": "pd.DataFrame",
       "ref": "382e7703-044d-4aef-8294-b0c992b287a1",
       "rows": [
        [
         "0",
         "WA",
         "223496"
        ],
        [
         "1",
         "CA",
         "114"
        ],
        [
         "2",
         "VA",
         "59"
        ],
        [
         "3",
         "MD",
         "39"
        ],
        [
         "4",
         "TX",
         "30"
        ],
        [
         "5",
         "NC",
         "19"
        ],
        [
         "6",
         "CO",
         "17"
        ],
        [
         "7",
         "FL",
         "15"
        ],
        [
         "8",
         "GA",
         "15"
        ],
        [
         "9",
         "IL",
         "11"
        ],
        [
         "10",
         "CT",
         "10"
        ],
        [
         "11",
         "NY",
         "10"
        ],
        [
         "12",
         "AZ",
         "9"
        ],
        [
         "13",
         "NJ",
         "9"
        ],
        [
         "14",
         "NV",
         "9"
        ],
        [
         "15",
         "MA",
         "8"
        ],
        [
         "16",
         "OR",
         "8"
        ],
        [
         "17",
         "AL",
         "8"
        ],
        [
         "18",
         "SC",
         "7"
        ],
        [
         "19",
         "PA",
         "6"
        ],
        [
         "20",
         "KS",
         "6"
        ],
        [
         "21",
         "MI",
         "6"
        ],
        [
         "22",
         "MO",
         "6"
        ],
        [
         "23",
         "HI",
         "5"
        ],
        [
         "24",
         "KY",
         "5"
        ],
        [
         "25",
         "RI",
         "4"
        ],
        [
         "26",
         "OH",
         "4"
        ],
        [
         "27",
         "DC",
         "4"
        ],
        [
         "28",
         "ID",
         "4"
        ],
        [
         "29",
         "NE",
         "3"
        ],
        [
         "30",
         "TN",
         "3"
        ],
        [
         "31",
         "NM",
         "2"
        ],
        [
         "32",
         "ME",
         "2"
        ],
        [
         "33",
         "DE",
         "2"
        ],
        [
         "34",
         "UT",
         "2"
        ],
        [
         "35",
         "MS",
         "1"
        ],
        [
         "36",
         "WI",
         "1"
        ],
        [
         "37",
         "MN",
         "1"
        ],
        [
         "38",
         "AK",
         "1"
        ],
        [
         "39",
         "OK",
         "1"
        ],
        [
         "40",
         "LA",
         "1"
        ],
        [
         "41",
         "IN",
         "1"
        ],
        [
         "42",
         "WY",
         "1"
        ],
        [
         "43",
         "NH",
         "1"
        ],
        [
         "44",
         "AR",
         "1"
        ]
       ],
       "shape": {
        "columns": 2,
        "rows": 45
       }
      },
      "text/html": [
       "<div>\n",
       "<style scoped>\n",
       "    .dataframe tbody tr th:only-of-type {\n",
       "        vertical-align: middle;\n",
       "    }\n",
       "\n",
       "    .dataframe tbody tr th {\n",
       "        vertical-align: top;\n",
       "    }\n",
       "\n",
       "    .dataframe thead th {\n",
       "        text-align: right;\n",
       "    }\n",
       "</style>\n",
       "<table border=\"1\" class=\"dataframe\">\n",
       "  <thead>\n",
       "    <tr style=\"text-align: right;\">\n",
       "      <th></th>\n",
       "      <th>State</th>\n",
       "      <th>Count</th>\n",
       "    </tr>\n",
       "  </thead>\n",
       "  <tbody>\n",
       "    <tr>\n",
       "      <th>0</th>\n",
       "      <td>WA</td>\n",
       "      <td>223496</td>\n",
       "    </tr>\n",
       "    <tr>\n",
       "      <th>1</th>\n",
       "      <td>CA</td>\n",
       "      <td>114</td>\n",
       "    </tr>\n",
       "    <tr>\n",
       "      <th>2</th>\n",
       "      <td>VA</td>\n",
       "      <td>59</td>\n",
       "    </tr>\n",
       "    <tr>\n",
       "      <th>3</th>\n",
       "      <td>MD</td>\n",
       "      <td>39</td>\n",
       "    </tr>\n",
       "    <tr>\n",
       "      <th>4</th>\n",
       "      <td>TX</td>\n",
       "      <td>30</td>\n",
       "    </tr>\n",
       "    <tr>\n",
       "      <th>5</th>\n",
       "      <td>NC</td>\n",
       "      <td>19</td>\n",
       "    </tr>\n",
       "    <tr>\n",
       "      <th>6</th>\n",
       "      <td>CO</td>\n",
       "      <td>17</td>\n",
       "    </tr>\n",
       "    <tr>\n",
       "      <th>7</th>\n",
       "      <td>FL</td>\n",
       "      <td>15</td>\n",
       "    </tr>\n",
       "    <tr>\n",
       "      <th>8</th>\n",
       "      <td>GA</td>\n",
       "      <td>15</td>\n",
       "    </tr>\n",
       "    <tr>\n",
       "      <th>9</th>\n",
       "      <td>IL</td>\n",
       "      <td>11</td>\n",
       "    </tr>\n",
       "    <tr>\n",
       "      <th>10</th>\n",
       "      <td>CT</td>\n",
       "      <td>10</td>\n",
       "    </tr>\n",
       "    <tr>\n",
       "      <th>11</th>\n",
       "      <td>NY</td>\n",
       "      <td>10</td>\n",
       "    </tr>\n",
       "    <tr>\n",
       "      <th>12</th>\n",
       "      <td>AZ</td>\n",
       "      <td>9</td>\n",
       "    </tr>\n",
       "    <tr>\n",
       "      <th>13</th>\n",
       "      <td>NJ</td>\n",
       "      <td>9</td>\n",
       "    </tr>\n",
       "    <tr>\n",
       "      <th>14</th>\n",
       "      <td>NV</td>\n",
       "      <td>9</td>\n",
       "    </tr>\n",
       "    <tr>\n",
       "      <th>15</th>\n",
       "      <td>MA</td>\n",
       "      <td>8</td>\n",
       "    </tr>\n",
       "    <tr>\n",
       "      <th>16</th>\n",
       "      <td>OR</td>\n",
       "      <td>8</td>\n",
       "    </tr>\n",
       "    <tr>\n",
       "      <th>17</th>\n",
       "      <td>AL</td>\n",
       "      <td>8</td>\n",
       "    </tr>\n",
       "    <tr>\n",
       "      <th>18</th>\n",
       "      <td>SC</td>\n",
       "      <td>7</td>\n",
       "    </tr>\n",
       "    <tr>\n",
       "      <th>19</th>\n",
       "      <td>PA</td>\n",
       "      <td>6</td>\n",
       "    </tr>\n",
       "    <tr>\n",
       "      <th>20</th>\n",
       "      <td>KS</td>\n",
       "      <td>6</td>\n",
       "    </tr>\n",
       "    <tr>\n",
       "      <th>21</th>\n",
       "      <td>MI</td>\n",
       "      <td>6</td>\n",
       "    </tr>\n",
       "    <tr>\n",
       "      <th>22</th>\n",
       "      <td>MO</td>\n",
       "      <td>6</td>\n",
       "    </tr>\n",
       "    <tr>\n",
       "      <th>23</th>\n",
       "      <td>HI</td>\n",
       "      <td>5</td>\n",
       "    </tr>\n",
       "    <tr>\n",
       "      <th>24</th>\n",
       "      <td>KY</td>\n",
       "      <td>5</td>\n",
       "    </tr>\n",
       "    <tr>\n",
       "      <th>25</th>\n",
       "      <td>RI</td>\n",
       "      <td>4</td>\n",
       "    </tr>\n",
       "    <tr>\n",
       "      <th>26</th>\n",
       "      <td>OH</td>\n",
       "      <td>4</td>\n",
       "    </tr>\n",
       "    <tr>\n",
       "      <th>27</th>\n",
       "      <td>DC</td>\n",
       "      <td>4</td>\n",
       "    </tr>\n",
       "    <tr>\n",
       "      <th>28</th>\n",
       "      <td>ID</td>\n",
       "      <td>4</td>\n",
       "    </tr>\n",
       "    <tr>\n",
       "      <th>29</th>\n",
       "      <td>NE</td>\n",
       "      <td>3</td>\n",
       "    </tr>\n",
       "    <tr>\n",
       "      <th>30</th>\n",
       "      <td>TN</td>\n",
       "      <td>3</td>\n",
       "    </tr>\n",
       "    <tr>\n",
       "      <th>31</th>\n",
       "      <td>NM</td>\n",
       "      <td>2</td>\n",
       "    </tr>\n",
       "    <tr>\n",
       "      <th>32</th>\n",
       "      <td>ME</td>\n",
       "      <td>2</td>\n",
       "    </tr>\n",
       "    <tr>\n",
       "      <th>33</th>\n",
       "      <td>DE</td>\n",
       "      <td>2</td>\n",
       "    </tr>\n",
       "    <tr>\n",
       "      <th>34</th>\n",
       "      <td>UT</td>\n",
       "      <td>2</td>\n",
       "    </tr>\n",
       "    <tr>\n",
       "      <th>35</th>\n",
       "      <td>MS</td>\n",
       "      <td>1</td>\n",
       "    </tr>\n",
       "    <tr>\n",
       "      <th>36</th>\n",
       "      <td>WI</td>\n",
       "      <td>1</td>\n",
       "    </tr>\n",
       "    <tr>\n",
       "      <th>37</th>\n",
       "      <td>MN</td>\n",
       "      <td>1</td>\n",
       "    </tr>\n",
       "    <tr>\n",
       "      <th>38</th>\n",
       "      <td>AK</td>\n",
       "      <td>1</td>\n",
       "    </tr>\n",
       "    <tr>\n",
       "      <th>39</th>\n",
       "      <td>OK</td>\n",
       "      <td>1</td>\n",
       "    </tr>\n",
       "    <tr>\n",
       "      <th>40</th>\n",
       "      <td>LA</td>\n",
       "      <td>1</td>\n",
       "    </tr>\n",
       "    <tr>\n",
       "      <th>41</th>\n",
       "      <td>IN</td>\n",
       "      <td>1</td>\n",
       "    </tr>\n",
       "    <tr>\n",
       "      <th>42</th>\n",
       "      <td>WY</td>\n",
       "      <td>1</td>\n",
       "    </tr>\n",
       "    <tr>\n",
       "      <th>43</th>\n",
       "      <td>NH</td>\n",
       "      <td>1</td>\n",
       "    </tr>\n",
       "    <tr>\n",
       "      <th>44</th>\n",
       "      <td>AR</td>\n",
       "      <td>1</td>\n",
       "    </tr>\n",
       "  </tbody>\n",
       "</table>\n",
       "</div>"
      ],
      "text/plain": [
       "   State   Count\n",
       "0     WA  223496\n",
       "1     CA     114\n",
       "2     VA      59\n",
       "3     MD      39\n",
       "4     TX      30\n",
       "5     NC      19\n",
       "6     CO      17\n",
       "7     FL      15\n",
       "8     GA      15\n",
       "9     IL      11\n",
       "10    CT      10\n",
       "11    NY      10\n",
       "12    AZ       9\n",
       "13    NJ       9\n",
       "14    NV       9\n",
       "15    MA       8\n",
       "16    OR       8\n",
       "17    AL       8\n",
       "18    SC       7\n",
       "19    PA       6\n",
       "20    KS       6\n",
       "21    MI       6\n",
       "22    MO       6\n",
       "23    HI       5\n",
       "24    KY       5\n",
       "25    RI       4\n",
       "26    OH       4\n",
       "27    DC       4\n",
       "28    ID       4\n",
       "29    NE       3\n",
       "30    TN       3\n",
       "31    NM       2\n",
       "32    ME       2\n",
       "33    DE       2\n",
       "34    UT       2\n",
       "35    MS       1\n",
       "36    WI       1\n",
       "37    MN       1\n",
       "38    AK       1\n",
       "39    OK       1\n",
       "40    LA       1\n",
       "41    IN       1\n",
       "42    WY       1\n",
       "43    NH       1\n",
       "44    AR       1"
      ]
     },
     "execution_count": 96,
     "metadata": {},
     "output_type": "execute_result"
    }
   ],
   "source": [
    "# The most state with electric car\n",
    "state_counts = df['State'].value_counts()\n",
    "state_counts_df = state_counts.reset_index()\n",
    "state_counts_df.columns = ['State', 'Count']\n",
    "state_counts_df"
   ]
  },
  {
   "cell_type": "code",
   "execution_count": null,
   "metadata": {},
   "outputs": [
    {
     "data": {
      "image/png": "[encoded data removed]",
      "text/plain": [
       "<Figure size 2000x500 with 1 Axes>"
      ]
     },
     "metadata": {},
     "output_type": "display_data"
    }
   ],
   "source": [
    "# Tesla Model\n",
    "tesla_df = df[df['Brand'] == 'TESLA']\n",
    "tesla_model_counts = tesla_df['Model'].value_counts()\n",
    "tesla_model_counts.plot(kind='barh', figsize=(20, 5), title='Tesla Models Count', color='Red')\n",
    "plt.xlabel('Count')\n",
    "plt.ylabel('Tesla Model')\n",
    "plt.show()"
   ]
  },
  {
   "cell_type": "code",
   "execution_count": null,
   "metadata": {},
   "outputs": [
    {
     "data": {
      "application/vnd.microsoft.datawrangler.viewer.v0+json": {
       "columns": [
        {
         "name": "index",
         "rawType": "int64",
         "type": "integer"
        },
        {
         "name": "Type",
         "rawType": "object",
         "type": "string"
        },
        {
         "name": "Count",
         "rawType": "int64",
         "type": "integer"
        }
       ],
       "conversionMethod": "pd.DataFrame",
       "ref": "361b456e-84ef-4cd6-9179-1ff620cd740c",
       "rows": [
        [
         "0",
         "BEV",
         "177145"
        ],
        [
         "1",
         "PHEV",
         "46822"
        ]
       ],
       "shape": {
        "columns": 2,
        "rows": 2
       }
      },
      "text/html": [
       "<div>\n",
       "<style scoped>\n",
       "    .dataframe tbody tr th:only-of-type {\n",
       "        vertical-align: middle;\n",
       "    }\n",
       "\n",
       "    .dataframe tbody tr th {\n",
       "        vertical-align: top;\n",
       "    }\n",
       "\n",
       "    .dataframe thead th {\n",
       "        text-align: right;\n",
       "    }\n",
       "</style>\n",
       "<table border=\"1\" class=\"dataframe\">\n",
       "  <thead>\n",
       "    <tr style=\"text-align: right;\">\n",
       "      <th></th>\n",
       "      <th>Type</th>\n",
       "      <th>Count</th>\n",
       "    </tr>\n",
       "  </thead>\n",
       "  <tbody>\n",
       "    <tr>\n",
       "      <th>0</th>\n",
       "      <td>BEV</td>\n",
       "      <td>177145</td>\n",
       "    </tr>\n",
       "    <tr>\n",
       "      <th>1</th>\n",
       "      <td>PHEV</td>\n",
       "      <td>46822</td>\n",
       "    </tr>\n",
       "  </tbody>\n",
       "</table>\n",
       "</div>"
      ],
      "text/plain": [
       "   Type   Count\n",
       "0   BEV  177145\n",
       "1  PHEV   46822"
      ]
     },
     "execution_count": 98,
     "metadata": {},
     "output_type": "execute_result"
    }
   ],
   "source": [
    "type_counts = df['Electric Vehicle Type'].value_counts()\n",
    "type_counts_df = type_counts.reset_index()\n",
    "type_counts_df.columns = ['Type', 'Count']\n",
    "type_counts_df\n",
    "\n"
   ]
  },
  {
   "cell_type": "code",
   "execution_count": null,
   "metadata": {},
   "outputs": [
    {
     "data": {
      "text/plain": [
       "<Axes: title={'center': 'Count by Type'}, ylabel='Count'>"
      ]
     },
     "execution_count": 99,
     "metadata": {},
     "output_type": "execute_result"
    },
    {
     "data": {
      "image/png": "[encoded data removed]",
      "text/plain": [
       "<Figure size 1000x500 with 1 Axes>"
      ]
     },
     "metadata": {},
     "output_type": "display_data"
    }
   ],
   "source": [
    "# Electric Car By type\n",
    "type_counts_df.set_index('Type').plot(kind='pie', y='Count', figsize=(10, 5), autopct='%1.1f%%', title=\"Count by Type\", colors=['Blue','red'])"
   ]
  },
  {
   "cell_type": "code",
   "execution_count": 100,
   "metadata": {},
   "outputs": [
    {
     "data": {
      "application/vnd.microsoft.datawrangler.viewer.v0+json": {
       "columns": [
        {
         "name": "index",
         "rawType": "int64",
         "type": "integer"
        },
        {
         "name": "Electric Utility",
         "rawType": "object",
         "type": "string"
        },
        {
         "name": "Count",
         "rawType": "int64",
         "type": "integer"
        }
       ],
       "conversionMethod": "pd.DataFrame",
       "ref": "c131dc3b-c1c4-4e9b-9782-9d4d2670bf20",
       "rows": [
        [
         "0",
         "PUGET SOUND ENERGY INC",
         "132637"
        ],
        [
         "1",
         "BONNEVILLE POWER ADMINISTRATION",
         "44727"
        ],
        [
         "2",
         "CITY OF SEATTLE",
         "38193"
        ],
        [
         "3",
         "PACIFICORP",
         "1838"
        ],
        [
         "4",
         "MODERN ELECTRIC WATER COMPANY",
         "1528"
        ],
        [
         "5",
         "PUD NO 1 OF CHELAN COUNTY",
         "1355"
        ],
        [
         "6",
         "PUD NO 2 OF GRANT COUNTY",
         "822"
        ],
        [
         "7",
         "AVISTA CORP",
         "514"
        ],
        [
         "8",
         "PUD NO 1 OF DOUGLAS COUNTY",
         "489"
        ],
        [
         "9",
         "NON WASHINGTON STATE ELECTRIC UTILITY",
         "471"
        ],
        [
         "10",
         "CITY OF TACOMA",
         "320"
        ],
        [
         "11",
         "NO KNOWN ELECTRIC UTILITY SERVICE",
         "272"
        ],
        [
         "12",
         "CITY OF BLAINE",
         "234"
        ],
        [
         "13",
         "OKANOGAN COUNTY ELEC COOP, INC",
         "199"
        ],
        [
         "14",
         "PUD NO 1 OF OKANOGAN COUNTY",
         "139"
        ],
        [
         "15",
         "PUD NO 1 OF PEND OREILLE COUNTY",
         "77"
        ],
        [
         "16",
         "CITY OF CHENEY",
         "63"
        ],
        [
         "17",
         "PUD NO 1 OF WHATCOM COUNTY",
         "56"
        ],
        [
         "18",
         "CITY OF CHEWELAH",
         "12"
        ],
        [
         "19",
         "CITY OF SUMAS",
         "11"
        ],
        [
         "20",
         "PORTLAND GENERAL ELECTRIC CO",
         "10"
        ]
       ],
       "shape": {
        "columns": 2,
        "rows": 21
       }
      },
      "text/html": [
       "<div>\n",
       "<style scoped>\n",
       "    .dataframe tbody tr th:only-of-type {\n",
       "        vertical-align: middle;\n",
       "    }\n",
       "\n",
       "    .dataframe tbody tr th {\n",
       "        vertical-align: top;\n",
       "    }\n",
       "\n",
       "    .dataframe thead th {\n",
       "        text-align: right;\n",
       "    }\n",
       "</style>\n",
       "<table border=\"1\" class=\"dataframe\">\n",
       "  <thead>\n",
       "    <tr style=\"text-align: right;\">\n",
       "      <th></th>\n",
       "      <th>Electric Utility</th>\n",
       "      <th>Count</th>\n",
       "    </tr>\n",
       "  </thead>\n",
       "  <tbody>\n",
       "    <tr>\n",
       "      <th>0</th>\n",
       "      <td>PUGET SOUND ENERGY INC</td>\n",
       "      <td>132637</td>\n",
       "    </tr>\n",
       "    <tr>\n",
       "      <th>1</th>\n",
       "      <td>BONNEVILLE POWER ADMINISTRATION</td>\n",
       "      <td>44727</td>\n",
       "    </tr>\n",
       "    <tr>\n",
       "      <th>2</th>\n",
       "      <td>CITY OF SEATTLE</td>\n",
       "      <td>38193</td>\n",
       "    </tr>\n",
       "    <tr>\n",
       "      <th>3</th>\n",
       "      <td>PACIFICORP</td>\n",
       "      <td>1838</td>\n",
       "    </tr>\n",
       "    <tr>\n",
       "      <th>4</th>\n",
       "      <td>MODERN ELECTRIC WATER COMPANY</td>\n",
       "      <td>1528</td>\n",
       "    </tr>\n",
       "    <tr>\n",
       "      <th>5</th>\n",
       "      <td>PUD NO 1 OF CHELAN COUNTY</td>\n",
       "      <td>1355</td>\n",
       "    </tr>\n",
       "    <tr>\n",
       "      <th>6</th>\n",
       "      <td>PUD NO 2 OF GRANT COUNTY</td>\n",
       "      <td>822</td>\n",
       "    </tr>\n",
       "    <tr>\n",
       "      <th>7</th>\n",
       "      <td>AVISTA CORP</td>\n",
       "      <td>514</td>\n",
       "    </tr>\n",
       "    <tr>\n",
       "      <th>8</th>\n",
       "      <td>PUD NO 1 OF DOUGLAS COUNTY</td>\n",
       "      <td>489</td>\n",
       "    </tr>\n",
       "    <tr>\n",
       "      <th>9</th>\n",
       "      <td>NON WASHINGTON STATE ELECTRIC UTILITY</td>\n",
       "      <td>471</td>\n",
       "    </tr>\n",
       "    <tr>\n",
       "      <th>10</th>\n",
       "      <td>CITY OF TACOMA</td>\n",
       "      <td>320</td>\n",
       "    </tr>\n",
       "    <tr>\n",
       "      <th>11</th>\n",
       "      <td>NO KNOWN ELECTRIC UTILITY SERVICE</td>\n",
       "      <td>272</td>\n",
       "    </tr>\n",
       "    <tr>\n",
       "      <th>12</th>\n",
       "      <td>CITY OF BLAINE</td>\n",
       "      <td>234</td>\n",
       "    </tr>\n",
       "    <tr>\n",
       "      <th>13</th>\n",
       "      <td>OKANOGAN COUNTY ELEC COOP, INC</td>\n",
       "      <td>199</td>\n",
       "    </tr>\n",
       "    <tr>\n",
       "      <th>14</th>\n",
       "      <td>PUD NO 1 OF OKANOGAN COUNTY</td>\n",
       "      <td>139</td>\n",
       "    </tr>\n",
       "    <tr>\n",
       "      <th>15</th>\n",
       "      <td>PUD NO 1 OF PEND OREILLE COUNTY</td>\n",
       "      <td>77</td>\n",
       "    </tr>\n",
       "    <tr>\n",
       "      <th>16</th>\n",
       "      <td>CITY OF CHENEY</td>\n",
       "      <td>63</td>\n",
       "    </tr>\n",
       "    <tr>\n",
       "      <th>17</th>\n",
       "      <td>PUD NO 1 OF WHATCOM COUNTY</td>\n",
       "      <td>56</td>\n",
       "    </tr>\n",
       "    <tr>\n",
       "      <th>18</th>\n",
       "      <td>CITY OF CHEWELAH</td>\n",
       "      <td>12</td>\n",
       "    </tr>\n",
       "    <tr>\n",
       "      <th>19</th>\n",
       "      <td>CITY OF SUMAS</td>\n",
       "      <td>11</td>\n",
       "    </tr>\n",
       "    <tr>\n",
       "      <th>20</th>\n",
       "      <td>PORTLAND GENERAL ELECTRIC CO</td>\n",
       "      <td>10</td>\n",
       "    </tr>\n",
       "  </tbody>\n",
       "</table>\n",
       "</div>"
      ],
      "text/plain": [
       "                         Electric Utility   Count\n",
       "0                  PUGET SOUND ENERGY INC  132637\n",
       "1         BONNEVILLE POWER ADMINISTRATION   44727\n",
       "2                         CITY OF SEATTLE   38193\n",
       "3                              PACIFICORP    1838\n",
       "4           MODERN ELECTRIC WATER COMPANY    1528\n",
       "5               PUD NO 1 OF CHELAN COUNTY    1355\n",
       "6                PUD NO 2 OF GRANT COUNTY     822\n",
       "7                             AVISTA CORP     514\n",
       "8              PUD NO 1 OF DOUGLAS COUNTY     489\n",
       "9   NON WASHINGTON STATE ELECTRIC UTILITY     471\n",
       "10                         CITY OF TACOMA     320\n",
       "11      NO KNOWN ELECTRIC UTILITY SERVICE     272\n",
       "12                         CITY OF BLAINE     234\n",
       "13         OKANOGAN COUNTY ELEC COOP, INC     199\n",
       "14            PUD NO 1 OF OKANOGAN COUNTY     139\n",
       "15        PUD NO 1 OF PEND OREILLE COUNTY      77\n",
       "16                         CITY OF CHENEY      63\n",
       "17             PUD NO 1 OF WHATCOM COUNTY      56\n",
       "18                       CITY OF CHEWELAH      12\n",
       "19                          CITY OF SUMAS      11\n",
       "20           PORTLAND GENERAL ELECTRIC CO      10"
      ]
     },
     "execution_count": 100,
     "metadata": {},
     "output_type": "execute_result"
    }
   ],
   "source": [
    "utility_count = df['Electric Utility'].value_counts()\n",
    "utility_count_df = utility_count.reset_index()\n",
    "utility_count_df.columns = ['Electric Utility', 'Count']\n",
    "utility_count_df"
   ]
  },
  {
   "cell_type": "code",
   "execution_count": null,
   "metadata": {},
   "outputs": [
    {
     "data": {
      "image/png": "[encoded data removed]",
      "text/plain": [
       "<Figure size 2000x500 with 1 Axes>"
      ]
     },
     "metadata": {},
     "output_type": "display_data"
    }
   ],
   "source": [
    "utility_count_df.set_index('Electric Utility').plot(kind='barh', figsize=(20,5), color='red', title='Count By Electric Utility')\n",
    "plt.xlabel('Electric Utility')\n",
    "plt.ylabel('Count')\n",
    "plt.show()"
   ]
  }
 ],
 "metadata": {
  "kernelspec": {
   "display_name": "Python 3",
   "language": "python",
   "name": "python3"
  },
  "language_info": {
   "codemirror_mode": {
    "name": "ipython",
    "version": 3
   },
   "file_extension": ".py",
   "mimetype": "text/x-python",
   "name": "python",
   "nbconvert_exporter": "python",
   "pygments_lexer": "ipython3",
   "version": "3.13.2"
  }
 },
 "nbformat": 4,
 "nbformat_minor": 2
}
