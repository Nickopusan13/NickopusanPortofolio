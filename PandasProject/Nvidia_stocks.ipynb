{
 "cells": [
  {
   "cell_type": "code",
   "execution_count": 13,
   "metadata": {},
   "outputs": [],
   "source": [
    "import pandas as pd\n",
    "import numpy as np\n",
    "import matplotlib.pyplot as plt\n",
    "import seaborn as sns"
   ]
  },
  {
   "cell_type": "code",
   "execution_count": 14,
   "metadata": {},
   "outputs": [],
   "source": [
    "df = pd.read_csv(r\"C:\\Users\\mochw\\Downloads\\NVDA.csv\")"
   ]
  },
  {
   "cell_type": "code",
   "execution_count": 15,
   "metadata": {},
   "outputs": [
    {
     "data": {
      "text/plain": [
       "(6558, 7)"
      ]
     },
     "execution_count": 15,
     "metadata": {},
     "output_type": "execute_result"
    }
   ],
   "source": [
    "df.shape"
   ]
  },
  {
   "cell_type": "code",
   "execution_count": 16,
   "metadata": {},
   "outputs": [
    {
     "data": {
      "application/vnd.microsoft.datawrangler.viewer.v0+json": {
       "columns": [
        {
         "name": "index",
         "rawType": "int64",
         "type": "integer"
        },
        {
         "name": "Date",
         "rawType": "object",
         "type": "string"
        },
        {
         "name": "Adj Close",
         "rawType": "float64",
         "type": "float"
        },
        {
         "name": "Close",
         "rawType": "float64",
         "type": "float"
        },
        {
         "name": "High",
         "rawType": "float64",
         "type": "float"
        },
        {
         "name": "Low",
         "rawType": "float64",
         "type": "float"
        },
        {
         "name": "Open",
         "rawType": "float64",
         "type": "float"
        },
        {
         "name": "Volume",
         "rawType": "int64",
         "type": "integer"
        }
       ],
       "conversionMethod": "pd.DataFrame",
       "ref": "56bbab47-ad66-40ff-b3bc-5a3175e88467",
       "rows": [
        [
         "0",
         "1999-01-22",
         "0.037615169",
         "0.041016001",
         "0.048827998",
         "0.038802002",
         "0.043749999",
         "2714688000"
        ],
        [
         "1",
         "1999-01-25",
         "0.041555878",
         "0.045313001",
         "0.045832999",
         "0.041016001",
         "0.044271",
         "510480000"
        ],
        [
         "2",
         "1999-01-26",
         "0.038331419",
         "0.041797001",
         "0.046744999",
         "0.041145999",
         "0.045832999",
         "343200000"
        ],
        [
         "3",
         "1999-01-27",
         "0.03821218",
         "0.041666999",
         "0.042969",
         "0.039583001",
         "0.041926999",
         "244368000"
        ],
        [
         "4",
         "1999-01-28",
         "0.038092051",
         "0.041536",
         "0.041926999",
         "0.041276",
         "0.041666999",
         "227520000"
        ]
       ],
       "shape": {
        "columns": 7,
        "rows": 5
       }
      },
      "text/html": [
       "<div>\n",
       "<style scoped>\n",
       "    .dataframe tbody tr th:only-of-type {\n",
       "        vertical-align: middle;\n",
       "    }\n",
       "\n",
       "    .dataframe tbody tr th {\n",
       "        vertical-align: top;\n",
       "    }\n",
       "\n",
       "    .dataframe thead th {\n",
       "        text-align: right;\n",
       "    }\n",
       "</style>\n",
       "<table border=\"1\" class=\"dataframe\">\n",
       "  <thead>\n",
       "    <tr style=\"text-align: right;\">\n",
       "      <th></th>\n",
       "      <th>Date</th>\n",
       "      <th>Adj Close</th>\n",
       "      <th>Close</th>\n",
       "      <th>High</th>\n",
       "      <th>Low</th>\n",
       "      <th>Open</th>\n",
       "      <th>Volume</th>\n",
       "    </tr>\n",
       "  </thead>\n",
       "  <tbody>\n",
       "    <tr>\n",
       "      <th>0</th>\n",
       "      <td>1999-01-22</td>\n",
       "      <td>0.037615</td>\n",
       "      <td>0.041016</td>\n",
       "      <td>0.048828</td>\n",
       "      <td>0.038802</td>\n",
       "      <td>0.043750</td>\n",
       "      <td>2714688000</td>\n",
       "    </tr>\n",
       "    <tr>\n",
       "      <th>1</th>\n",
       "      <td>1999-01-25</td>\n",
       "      <td>0.041556</td>\n",
       "      <td>0.045313</td>\n",
       "      <td>0.045833</td>\n",
       "      <td>0.041016</td>\n",
       "      <td>0.044271</td>\n",
       "      <td>510480000</td>\n",
       "    </tr>\n",
       "    <tr>\n",
       "      <th>2</th>\n",
       "      <td>1999-01-26</td>\n",
       "      <td>0.038331</td>\n",
       "      <td>0.041797</td>\n",
       "      <td>0.046745</td>\n",
       "      <td>0.041146</td>\n",
       "      <td>0.045833</td>\n",
       "      <td>343200000</td>\n",
       "    </tr>\n",
       "    <tr>\n",
       "      <th>3</th>\n",
       "      <td>1999-01-27</td>\n",
       "      <td>0.038212</td>\n",
       "      <td>0.041667</td>\n",
       "      <td>0.042969</td>\n",
       "      <td>0.039583</td>\n",
       "      <td>0.041927</td>\n",
       "      <td>244368000</td>\n",
       "    </tr>\n",
       "    <tr>\n",
       "      <th>4</th>\n",
       "      <td>1999-01-28</td>\n",
       "      <td>0.038092</td>\n",
       "      <td>0.041536</td>\n",
       "      <td>0.041927</td>\n",
       "      <td>0.041276</td>\n",
       "      <td>0.041667</td>\n",
       "      <td>227520000</td>\n",
       "    </tr>\n",
       "  </tbody>\n",
       "</table>\n",
       "</div>"
      ],
      "text/plain": [
       "         Date  Adj Close     Close      High       Low      Open      Volume\n",
       "0  1999-01-22   0.037615  0.041016  0.048828  0.038802  0.043750  2714688000\n",
       "1  1999-01-25   0.041556  0.045313  0.045833  0.041016  0.044271   510480000\n",
       "2  1999-01-26   0.038331  0.041797  0.046745  0.041146  0.045833   343200000\n",
       "3  1999-01-27   0.038212  0.041667  0.042969  0.039583  0.041927   244368000\n",
       "4  1999-01-28   0.038092  0.041536  0.041927  0.041276  0.041667   227520000"
      ]
     },
     "execution_count": 16,
     "metadata": {},
     "output_type": "execute_result"
    }
   ],
   "source": [
    "df.head()"
   ]
  },
  {
   "cell_type": "code",
   "execution_count": 17,
   "metadata": {},
   "outputs": [
    {
     "data": {
      "application/vnd.microsoft.datawrangler.viewer.v0+json": {
       "columns": [
        {
         "name": "index",
         "rawType": "object",
         "type": "string"
        },
        {
         "name": "Adj Close",
         "rawType": "float64",
         "type": "float"
        },
        {
         "name": "Close",
         "rawType": "float64",
         "type": "float"
        },
        {
         "name": "High",
         "rawType": "float64",
         "type": "float"
        },
        {
         "name": "Low",
         "rawType": "float64",
         "type": "float"
        },
        {
         "name": "Open",
         "rawType": "float64",
         "type": "float"
        },
        {
         "name": "Volume",
         "rawType": "float64",
         "type": "float"
        }
       ],
       "conversionMethod": "pd.DataFrame",
       "ref": "e1713ab9-1d85-4abd-9350-d2869959825b",
       "rows": [
        [
         "Adj Close",
         "1.0",
         "0.9999998242836216",
         "0.9997989312980573",
         "0.9998613305572894",
         "0.999613289301426",
         "-0.1644379057186777"
        ],
        [
         "Close",
         "0.9999998242836216",
         "1.0",
         "0.9997991049574961",
         "0.9998614472652474",
         "0.9996134285421964",
         "-0.1644145326528159"
        ],
        [
         "High",
         "0.9997989312980573",
         "0.9997991049574961",
         "1.0",
         "0.9998032333831549",
         "0.9998805227305648",
         "-0.16342300637610552"
        ],
        [
         "Low",
         "0.9998613305572894",
         "0.9998614472652474",
         "0.9998032333831549",
         "1.0",
         "0.9997973007757655",
         "-0.16518217583392192"
        ],
        [
         "Open",
         "0.999613289301426",
         "0.9996134285421964",
         "0.9998805227305648",
         "0.9997973007757655",
         "1.0",
         "-0.1640900525920546"
        ],
        [
         "Volume",
         "-0.1644379057186777",
         "-0.1644145326528159",
         "-0.16342300637610552",
         "-0.16518217583392192",
         "-0.1640900525920546",
         "1.0"
        ]
       ],
       "shape": {
        "columns": 6,
        "rows": 6
       }
      },
      "text/html": [
       "<div>\n",
       "<style scoped>\n",
       "    .dataframe tbody tr th:only-of-type {\n",
       "        vertical-align: middle;\n",
       "    }\n",
       "\n",
       "    .dataframe tbody tr th {\n",
       "        vertical-align: top;\n",
       "    }\n",
       "\n",
       "    .dataframe thead th {\n",
       "        text-align: right;\n",
       "    }\n",
       "</style>\n",
       "<table border=\"1\" class=\"dataframe\">\n",
       "  <thead>\n",
       "    <tr style=\"text-align: right;\">\n",
       "      <th></th>\n",
       "      <th>Adj Close</th>\n",
       "      <th>Close</th>\n",
       "      <th>High</th>\n",
       "      <th>Low</th>\n",
       "      <th>Open</th>\n",
       "      <th>Volume</th>\n",
       "    </tr>\n",
       "  </thead>\n",
       "  <tbody>\n",
       "    <tr>\n",
       "      <th>Adj Close</th>\n",
       "      <td>1.000000</td>\n",
       "      <td>1.000000</td>\n",
       "      <td>0.999799</td>\n",
       "      <td>0.999861</td>\n",
       "      <td>0.999613</td>\n",
       "      <td>-0.164438</td>\n",
       "    </tr>\n",
       "    <tr>\n",
       "      <th>Close</th>\n",
       "      <td>1.000000</td>\n",
       "      <td>1.000000</td>\n",
       "      <td>0.999799</td>\n",
       "      <td>0.999861</td>\n",
       "      <td>0.999613</td>\n",
       "      <td>-0.164415</td>\n",
       "    </tr>\n",
       "    <tr>\n",
       "      <th>High</th>\n",
       "      <td>0.999799</td>\n",
       "      <td>0.999799</td>\n",
       "      <td>1.000000</td>\n",
       "      <td>0.999803</td>\n",
       "      <td>0.999881</td>\n",
       "      <td>-0.163423</td>\n",
       "    </tr>\n",
       "    <tr>\n",
       "      <th>Low</th>\n",
       "      <td>0.999861</td>\n",
       "      <td>0.999861</td>\n",
       "      <td>0.999803</td>\n",
       "      <td>1.000000</td>\n",
       "      <td>0.999797</td>\n",
       "      <td>-0.165182</td>\n",
       "    </tr>\n",
       "    <tr>\n",
       "      <th>Open</th>\n",
       "      <td>0.999613</td>\n",
       "      <td>0.999613</td>\n",
       "      <td>0.999881</td>\n",
       "      <td>0.999797</td>\n",
       "      <td>1.000000</td>\n",
       "      <td>-0.164090</td>\n",
       "    </tr>\n",
       "    <tr>\n",
       "      <th>Volume</th>\n",
       "      <td>-0.164438</td>\n",
       "      <td>-0.164415</td>\n",
       "      <td>-0.163423</td>\n",
       "      <td>-0.165182</td>\n",
       "      <td>-0.164090</td>\n",
       "      <td>1.000000</td>\n",
       "    </tr>\n",
       "  </tbody>\n",
       "</table>\n",
       "</div>"
      ],
      "text/plain": [
       "           Adj Close     Close      High       Low      Open    Volume\n",
       "Adj Close   1.000000  1.000000  0.999799  0.999861  0.999613 -0.164438\n",
       "Close       1.000000  1.000000  0.999799  0.999861  0.999613 -0.164415\n",
       "High        0.999799  0.999799  1.000000  0.999803  0.999881 -0.163423\n",
       "Low         0.999861  0.999861  0.999803  1.000000  0.999797 -0.165182\n",
       "Open        0.999613  0.999613  0.999881  0.999797  1.000000 -0.164090\n",
       "Volume     -0.164438 -0.164415 -0.163423 -0.165182 -0.164090  1.000000"
      ]
     },
     "execution_count": 17,
     "metadata": {},
     "output_type": "execute_result"
    }
   ],
   "source": [
    "df.corr(numeric_only=True)"
   ]
  },
  {
   "cell_type": "code",
   "execution_count": 18,
   "metadata": {},
   "outputs": [
    {
     "data": {
      "application/vnd.microsoft.datawrangler.viewer.v0+json": {
       "columns": [
        {
         "name": "index",
         "rawType": "object",
         "type": "string"
        },
        {
         "name": "Adj Close",
         "rawType": "float64",
         "type": "float"
        },
        {
         "name": "Close",
         "rawType": "float64",
         "type": "float"
        },
        {
         "name": "High",
         "rawType": "float64",
         "type": "float"
        },
        {
         "name": "Low",
         "rawType": "float64",
         "type": "float"
        },
        {
         "name": "Open",
         "rawType": "float64",
         "type": "float"
        },
        {
         "name": "Volume",
         "rawType": "float64",
         "type": "float"
        }
       ],
       "conversionMethod": "pd.DataFrame",
       "ref": "b3508642-b154-4045-ba53-5f6406477924",
       "rows": [
        [
         "count",
         "6558.0",
         "6558.0",
         "6558.0",
         "6558.0",
         "6558.0",
         "6558.0"
        ],
        [
         "mean",
         "8.768531501182068",
         "8.79544723599878",
         "8.9565667529878",
         "8.618315401763647",
         "8.795850258862151",
         "599110328.6977737"
        ],
        [
         "std",
         "23.907204657273",
         "23.90488236024205",
         "24.349617938532568",
         "23.419199676504036",
         "23.922707557963193",
         "430723588.84205455"
        ],
        [
         "min",
         "0.031286348",
         "0.034115002",
         "0.035546999",
         "0.033333",
         "0.034896001",
         "19680000.0"
        ],
        [
         "25%",
         "0.25773923825",
         "0.28104174125",
         "0.28851050875",
         "0.27335400875000004",
         "0.28081000575",
         "338478000.0"
        ],
        [
         "50%",
         "0.4371758405",
         "0.466083497",
         "0.47287499899999996",
         "0.459250003",
         "0.466583505",
         "500263500.0"
        ],
        [
         "75%",
         "4.597059369",
         "4.64462494825",
         "4.723999858",
         "4.588750124",
         "4.63243746775",
         "730700250.0"
        ],
        [
         "max",
         "149.4299927",
         "149.4299927",
         "153.1300049",
         "147.8200073",
         "153.0299988",
         "9230856000.0"
        ]
       ],
       "shape": {
        "columns": 6,
        "rows": 8
       }
      },
      "text/html": [
       "<div>\n",
       "<style scoped>\n",
       "    .dataframe tbody tr th:only-of-type {\n",
       "        vertical-align: middle;\n",
       "    }\n",
       "\n",
       "    .dataframe tbody tr th {\n",
       "        vertical-align: top;\n",
       "    }\n",
       "\n",
       "    .dataframe thead th {\n",
       "        text-align: right;\n",
       "    }\n",
       "</style>\n",
       "<table border=\"1\" class=\"dataframe\">\n",
       "  <thead>\n",
       "    <tr style=\"text-align: right;\">\n",
       "      <th></th>\n",
       "      <th>Adj Close</th>\n",
       "      <th>Close</th>\n",
       "      <th>High</th>\n",
       "      <th>Low</th>\n",
       "      <th>Open</th>\n",
       "      <th>Volume</th>\n",
       "    </tr>\n",
       "  </thead>\n",
       "  <tbody>\n",
       "    <tr>\n",
       "      <th>count</th>\n",
       "      <td>6558.000000</td>\n",
       "      <td>6558.000000</td>\n",
       "      <td>6558.000000</td>\n",
       "      <td>6558.000000</td>\n",
       "      <td>6558.000000</td>\n",
       "      <td>6.558000e+03</td>\n",
       "    </tr>\n",
       "    <tr>\n",
       "      <th>mean</th>\n",
       "      <td>8.768532</td>\n",
       "      <td>8.795447</td>\n",
       "      <td>8.956567</td>\n",
       "      <td>8.618315</td>\n",
       "      <td>8.795850</td>\n",
       "      <td>5.991103e+08</td>\n",
       "    </tr>\n",
       "    <tr>\n",
       "      <th>std</th>\n",
       "      <td>23.907205</td>\n",
       "      <td>23.904882</td>\n",
       "      <td>24.349618</td>\n",
       "      <td>23.419200</td>\n",
       "      <td>23.922708</td>\n",
       "      <td>4.307236e+08</td>\n",
       "    </tr>\n",
       "    <tr>\n",
       "      <th>min</th>\n",
       "      <td>0.031286</td>\n",
       "      <td>0.034115</td>\n",
       "      <td>0.035547</td>\n",
       "      <td>0.033333</td>\n",
       "      <td>0.034896</td>\n",
       "      <td>1.968000e+07</td>\n",
       "    </tr>\n",
       "    <tr>\n",
       "      <th>25%</th>\n",
       "      <td>0.257739</td>\n",
       "      <td>0.281042</td>\n",
       "      <td>0.288511</td>\n",
       "      <td>0.273354</td>\n",
       "      <td>0.280810</td>\n",
       "      <td>3.384780e+08</td>\n",
       "    </tr>\n",
       "    <tr>\n",
       "      <th>50%</th>\n",
       "      <td>0.437176</td>\n",
       "      <td>0.466083</td>\n",
       "      <td>0.472875</td>\n",
       "      <td>0.459250</td>\n",
       "      <td>0.466584</td>\n",
       "      <td>5.002635e+08</td>\n",
       "    </tr>\n",
       "    <tr>\n",
       "      <th>75%</th>\n",
       "      <td>4.597059</td>\n",
       "      <td>4.644625</td>\n",
       "      <td>4.724000</td>\n",
       "      <td>4.588750</td>\n",
       "      <td>4.632437</td>\n",
       "      <td>7.307002e+08</td>\n",
       "    </tr>\n",
       "    <tr>\n",
       "      <th>max</th>\n",
       "      <td>149.429993</td>\n",
       "      <td>149.429993</td>\n",
       "      <td>153.130005</td>\n",
       "      <td>147.820007</td>\n",
       "      <td>153.029999</td>\n",
       "      <td>9.230856e+09</td>\n",
       "    </tr>\n",
       "  </tbody>\n",
       "</table>\n",
       "</div>"
      ],
      "text/plain": [
       "         Adj Close        Close         High          Low         Open  \\\n",
       "count  6558.000000  6558.000000  6558.000000  6558.000000  6558.000000   \n",
       "mean      8.768532     8.795447     8.956567     8.618315     8.795850   \n",
       "std      23.907205    23.904882    24.349618    23.419200    23.922708   \n",
       "min       0.031286     0.034115     0.035547     0.033333     0.034896   \n",
       "25%       0.257739     0.281042     0.288511     0.273354     0.280810   \n",
       "50%       0.437176     0.466083     0.472875     0.459250     0.466584   \n",
       "75%       4.597059     4.644625     4.724000     4.588750     4.632437   \n",
       "max     149.429993   149.429993   153.130005   147.820007   153.029999   \n",
       "\n",
       "             Volume  \n",
       "count  6.558000e+03  \n",
       "mean   5.991103e+08  \n",
       "std    4.307236e+08  \n",
       "min    1.968000e+07  \n",
       "25%    3.384780e+08  \n",
       "50%    5.002635e+08  \n",
       "75%    7.307002e+08  \n",
       "max    9.230856e+09  "
      ]
     },
     "execution_count": 18,
     "metadata": {},
     "output_type": "execute_result"
    }
   ],
   "source": [
    "df.describe()"
   ]
  },
  {
   "cell_type": "code",
   "execution_count": 19,
   "metadata": {},
   "outputs": [
    {
     "data": {
      "application/vnd.microsoft.datawrangler.viewer.v0+json": {
       "columns": [
        {
         "name": "index",
         "rawType": "int64",
         "type": "integer"
        },
        {
         "name": "Date",
         "rawType": "object",
         "type": "string"
        },
        {
         "name": "Adj Close",
         "rawType": "float64",
         "type": "float"
        },
        {
         "name": "Close",
         "rawType": "float64",
         "type": "float"
        },
        {
         "name": "High",
         "rawType": "float64",
         "type": "float"
        },
        {
         "name": "Low",
         "rawType": "float64",
         "type": "float"
        },
        {
         "name": "Open",
         "rawType": "float64",
         "type": "float"
        },
        {
         "name": "Volume",
         "rawType": "int64",
         "type": "integer"
        }
       ],
       "conversionMethod": "pd.DataFrame",
       "ref": "4dee9b67-ddbb-4127-933a-29d00ef010b8",
       "rows": [
        [
         "0",
         "1999-01-22",
         "0.037615169",
         "0.041016001",
         "0.048827998",
         "0.038802002",
         "0.043749999",
         "2714688000"
        ],
        [
         "1",
         "1999-01-25",
         "0.041555878",
         "0.045313001",
         "0.045832999",
         "0.041016001",
         "0.044271",
         "510480000"
        ],
        [
         "2",
         "1999-01-26",
         "0.038331419",
         "0.041797001",
         "0.046744999",
         "0.041145999",
         "0.045832999",
         "343200000"
        ],
        [
         "3",
         "1999-01-27",
         "0.03821218",
         "0.041666999",
         "0.042969",
         "0.039583001",
         "0.041926999",
         "244368000"
        ],
        [
         "4",
         "1999-01-28",
         "0.038092051",
         "0.041536",
         "0.041926999",
         "0.041276",
         "0.041666999",
         "227520000"
        ],
        [
         "5",
         "1999-01-29",
         "0.036300983",
         "0.039583001",
         "0.041666999",
         "0.039583001",
         "0.041536",
         "244032000"
        ],
        [
         "6",
         "1999-02-01",
         "0.037018139",
         "0.040364999",
         "0.040624999",
         "0.039583001",
         "0.039583001",
         "154704000"
        ],
        [
         "7",
         "1999-02-02",
         "0.034152262",
         "0.037239999",
         "0.040624999",
         "0.036068",
         "0.039583001",
         "264096000"
        ],
        [
         "8",
         "1999-02-03",
         "0.034868501",
         "0.038020998",
         "0.038541999",
         "0.036458001",
         "0.036719002",
         "75120000"
        ],
        [
         "9",
         "1999-02-04",
         "0.036778785",
         "0.040104002",
         "0.041145999",
         "0.038020998",
         "0.038541999",
         "181920000"
        ],
        [
         "10",
         "1999-02-05",
         "0.037853617",
         "0.041276",
         "0.041666999",
         "0.039714001",
         "0.040755",
         "136848000"
        ],
        [
         "11",
         "1999-02-08",
         "0.036540333",
         "0.039843999",
         "0.041666999",
         "0.039843999",
         "0.041536",
         "154080000"
        ],
        [
         "12",
         "1999-02-09",
         "0.035106938",
         "0.038281001",
         "0.040885001",
         "0.037760001",
         "0.040624999",
         "86976000"
        ],
        [
         "13",
         "1999-02-10",
         "0.034749277",
         "0.037891001",
         "0.039322998",
         "0.037239999",
         "0.038281001",
         "148224000"
        ],
        [
         "14",
         "1999-02-11",
         "0.037734382",
         "0.041145999",
         "0.042707998",
         "0.038020998",
         "0.038020998",
         "132240000"
        ],
        [
         "15",
         "1999-02-12",
         "0.039884031",
         "0.04349",
         "0.043749999",
         "0.041666999",
         "0.041666999",
         "109728000"
        ],
        [
         "16",
         "1999-02-16",
         "0.040122472",
         "0.043749999",
         "0.046094",
         "0.039322998",
         "0.044271",
         "211008000"
        ],
        [
         "17",
         "1999-02-17",
         "0.037972841",
         "0.041405998",
         "0.043228999",
         "0.040624999",
         "0.042707998",
         "67728000"
        ],
        [
         "18",
         "1999-02-18",
         "0.038569845",
         "0.042057",
         "0.043228999",
         "0.040885001",
         "0.042707998",
         "70704000"
        ],
        [
         "19",
         "1999-02-19",
         "0.039884031",
         "0.04349",
         "0.044271",
         "0.041145999",
         "0.041666999",
         "75360000"
        ],
        [
         "20",
         "1999-02-22",
         "0.040122472",
         "0.043749999",
         "0.044792",
         "0.041405998",
         "0.044271",
         "205248000"
        ],
        [
         "21",
         "1999-02-23",
         "0.042032767",
         "0.045832999",
         "0.046744999",
         "0.042188",
         "0.044792",
         "138096000"
        ],
        [
         "22",
         "1999-02-24",
         "0.045376468",
         "0.049479",
         "0.054687999",
         "0.048307002",
         "0.052604001",
         "612768000"
        ],
        [
         "23",
         "1999-02-25",
         "0.043943971",
         "0.047917001",
         "0.053125001",
         "0.047134999",
         "0.051562998",
         "149136000"
        ],
        [
         "24",
         "1999-02-26",
         "0.041913562",
         "0.045703001",
         "0.050000001",
         "0.045313001",
         "0.048438001",
         "172608000"
        ],
        [
         "25",
         "1999-03-01",
         "0.042152904",
         "0.045963999",
         "0.047917001",
         "0.043749999",
         "0.046875",
         "92160000"
        ],
        [
         "26",
         "1999-03-02",
         "0.041794319",
         "0.045573",
         "0.046094",
         "0.044792",
         "0.045832999",
         "55248000"
        ],
        [
         "27",
         "1999-03-03",
         "0.038928449",
         "0.042447999",
         "0.045832999",
         "0.042188",
         "0.045832999",
         "61392000"
        ],
        [
         "28",
         "1999-03-04",
         "0.038092051",
         "0.041536",
         "0.044792",
         "0.041145999",
         "0.044530999",
         "57360000"
        ],
        [
         "29",
         "1999-03-05",
         "0.040241711",
         "0.043880001",
         "0.044009998",
         "0.041926999",
         "0.041926999",
         "78768000"
        ],
        [
         "30",
         "1999-03-08",
         "0.040838718",
         "0.044530999",
         "0.045832999",
         "0.041926999",
         "0.042707998",
         "75888000"
        ],
        [
         "31",
         "1999-03-09",
         "0.042152904",
         "0.045963999",
         "0.046615001",
         "0.044401001",
         "0.044401001",
         "143184000"
        ],
        [
         "32",
         "1999-03-10",
         "0.041435741",
         "0.045182001",
         "0.046615001",
         "0.044530999",
         "0.046615001",
         "235344000"
        ],
        [
         "33",
         "1999-03-11",
         "0.039644685",
         "0.043228999",
         "0.045182001",
         "0.043228999",
         "0.044401001",
         "54288000"
        ],
        [
         "34",
         "1999-03-12",
         "0.038928449",
         "0.042447999",
         "0.04349",
         "0.041666999",
         "0.04349",
         "90768000"
        ],
        [
         "35",
         "1999-03-15",
         "0.040600277",
         "0.044271",
         "0.044792",
         "0.043228999",
         "0.04349",
         "108816000"
        ],
        [
         "36",
         "1999-03-16",
         "0.039287001",
         "0.042838998",
         "0.045051999",
         "0.042447999",
         "0.044530999",
         "79152000"
        ],
        [
         "37",
         "1999-03-17",
         "0.039525457",
         "0.043099001",
         "0.044009998",
         "0.042057",
         "0.043228999",
         "51360000"
        ],
        [
         "38",
         "1999-03-18",
         "0.040003255",
         "0.043620002",
         "0.044271",
         "0.042188",
         "0.043228999",
         "46320000"
        ],
        [
         "39",
         "1999-03-19",
         "0.040122472",
         "0.043749999",
         "0.045051999",
         "0.04349",
         "0.04349",
         "105312000"
        ],
        [
         "40",
         "1999-03-22",
         "0.038928449",
         "0.042447999",
         "0.044792",
         "0.042447999",
         "0.044661",
         "36672000"
        ],
        [
         "41",
         "1999-03-23",
         "0.036540333",
         "0.039843999",
         "0.042707998",
         "0.039062999",
         "0.042707998",
         "163968000"
        ],
        [
         "42",
         "1999-03-24",
         "0.036300983",
         "0.039583001",
         "0.039843999",
         "0.038020998",
         "0.039583001",
         "60864000"
        ],
        [
         "43",
         "1999-03-25",
         "0.036778785",
         "0.040104002",
         "0.041666999",
         "0.039322998",
         "0.039453",
         "40320000"
        ],
        [
         "44",
         "1999-03-26",
         "0.040003255",
         "0.043620002",
         "0.043749999",
         "0.040624999",
         "0.040624999",
         "88272000"
        ],
        [
         "45",
         "1999-03-29",
         "0.041197304",
         "0.044922002",
         "0.045963999",
         "0.044140998",
         "0.044922002",
         "65952000"
        ],
        [
         "46",
         "1999-03-30",
         "0.037734382",
         "0.041145999",
         "0.045442998",
         "0.040885001",
         "0.045051999",
         "69504000"
        ],
        [
         "47",
         "1999-03-31",
         "0.040360913",
         "0.044009998",
         "0.044530999",
         "0.040495001",
         "0.042447999",
         "153600000"
        ],
        [
         "48",
         "1999-04-01",
         "0.039166883",
         "0.042707998",
         "0.044271",
         "0.041926999",
         "0.044009998",
         "30432000"
        ],
        [
         "49",
         "1999-04-05",
         "0.037972841",
         "0.041405998",
         "0.043228999",
         "0.041145999",
         "0.042188",
         "98640000"
        ]
       ],
       "shape": {
        "columns": 7,
        "rows": 6558
       }
      },
      "text/html": [
       "<div>\n",
       "<style scoped>\n",
       "    .dataframe tbody tr th:only-of-type {\n",
       "        vertical-align: middle;\n",
       "    }\n",
       "\n",
       "    .dataframe tbody tr th {\n",
       "        vertical-align: top;\n",
       "    }\n",
       "\n",
       "    .dataframe thead th {\n",
       "        text-align: right;\n",
       "    }\n",
       "</style>\n",
       "<table border=\"1\" class=\"dataframe\">\n",
       "  <thead>\n",
       "    <tr style=\"text-align: right;\">\n",
       "      <th></th>\n",
       "      <th>Date</th>\n",
       "      <th>Adj Close</th>\n",
       "      <th>Close</th>\n",
       "      <th>High</th>\n",
       "      <th>Low</th>\n",
       "      <th>Open</th>\n",
       "      <th>Volume</th>\n",
       "    </tr>\n",
       "  </thead>\n",
       "  <tbody>\n",
       "    <tr>\n",
       "      <th>0</th>\n",
       "      <td>1999-01-22</td>\n",
       "      <td>0.037615</td>\n",
       "      <td>0.041016</td>\n",
       "      <td>0.048828</td>\n",
       "      <td>0.038802</td>\n",
       "      <td>0.043750</td>\n",
       "      <td>2714688000</td>\n",
       "    </tr>\n",
       "    <tr>\n",
       "      <th>1</th>\n",
       "      <td>1999-01-25</td>\n",
       "      <td>0.041556</td>\n",
       "      <td>0.045313</td>\n",
       "      <td>0.045833</td>\n",
       "      <td>0.041016</td>\n",
       "      <td>0.044271</td>\n",
       "      <td>510480000</td>\n",
       "    </tr>\n",
       "    <tr>\n",
       "      <th>2</th>\n",
       "      <td>1999-01-26</td>\n",
       "      <td>0.038331</td>\n",
       "      <td>0.041797</td>\n",
       "      <td>0.046745</td>\n",
       "      <td>0.041146</td>\n",
       "      <td>0.045833</td>\n",
       "      <td>343200000</td>\n",
       "    </tr>\n",
       "    <tr>\n",
       "      <th>3</th>\n",
       "      <td>1999-01-27</td>\n",
       "      <td>0.038212</td>\n",
       "      <td>0.041667</td>\n",
       "      <td>0.042969</td>\n",
       "      <td>0.039583</td>\n",
       "      <td>0.041927</td>\n",
       "      <td>244368000</td>\n",
       "    </tr>\n",
       "    <tr>\n",
       "      <th>4</th>\n",
       "      <td>1999-01-28</td>\n",
       "      <td>0.038092</td>\n",
       "      <td>0.041536</td>\n",
       "      <td>0.041927</td>\n",
       "      <td>0.041276</td>\n",
       "      <td>0.041667</td>\n",
       "      <td>227520000</td>\n",
       "    </tr>\n",
       "    <tr>\n",
       "      <th>...</th>\n",
       "      <td>...</td>\n",
       "      <td>...</td>\n",
       "      <td>...</td>\n",
       "      <td>...</td>\n",
       "      <td>...</td>\n",
       "      <td>...</td>\n",
       "      <td>...</td>\n",
       "    </tr>\n",
       "    <tr>\n",
       "      <th>6553</th>\n",
       "      <td>2025-02-10</td>\n",
       "      <td>133.570007</td>\n",
       "      <td>133.570007</td>\n",
       "      <td>135.000000</td>\n",
       "      <td>129.960007</td>\n",
       "      <td>130.089996</td>\n",
       "      <td>216989100</td>\n",
       "    </tr>\n",
       "    <tr>\n",
       "      <th>6554</th>\n",
       "      <td>2025-02-11</td>\n",
       "      <td>132.800003</td>\n",
       "      <td>132.800003</td>\n",
       "      <td>134.479996</td>\n",
       "      <td>131.020004</td>\n",
       "      <td>132.580002</td>\n",
       "      <td>178902400</td>\n",
       "    </tr>\n",
       "    <tr>\n",
       "      <th>6555</th>\n",
       "      <td>2025-02-12</td>\n",
       "      <td>131.139999</td>\n",
       "      <td>131.139999</td>\n",
       "      <td>132.240005</td>\n",
       "      <td>129.080002</td>\n",
       "      <td>130.020004</td>\n",
       "      <td>160278600</td>\n",
       "    </tr>\n",
       "    <tr>\n",
       "      <th>6556</th>\n",
       "      <td>2025-02-13</td>\n",
       "      <td>135.289993</td>\n",
       "      <td>135.289993</td>\n",
       "      <td>136.500000</td>\n",
       "      <td>131.169998</td>\n",
       "      <td>131.559998</td>\n",
       "      <td>197430000</td>\n",
       "    </tr>\n",
       "    <tr>\n",
       "      <th>6557</th>\n",
       "      <td>2025-02-14</td>\n",
       "      <td>138.850006</td>\n",
       "      <td>138.850006</td>\n",
       "      <td>139.250000</td>\n",
       "      <td>135.500000</td>\n",
       "      <td>136.479996</td>\n",
       "      <td>194892300</td>\n",
       "    </tr>\n",
       "  </tbody>\n",
       "</table>\n",
       "<p>6558 rows × 7 columns</p>\n",
       "</div>"
      ],
      "text/plain": [
       "            Date   Adj Close       Close        High         Low        Open  \\\n",
       "0     1999-01-22    0.037615    0.041016    0.048828    0.038802    0.043750   \n",
       "1     1999-01-25    0.041556    0.045313    0.045833    0.041016    0.044271   \n",
       "2     1999-01-26    0.038331    0.041797    0.046745    0.041146    0.045833   \n",
       "3     1999-01-27    0.038212    0.041667    0.042969    0.039583    0.041927   \n",
       "4     1999-01-28    0.038092    0.041536    0.041927    0.041276    0.041667   \n",
       "...          ...         ...         ...         ...         ...         ...   \n",
       "6553  2025-02-10  133.570007  133.570007  135.000000  129.960007  130.089996   \n",
       "6554  2025-02-11  132.800003  132.800003  134.479996  131.020004  132.580002   \n",
       "6555  2025-02-12  131.139999  131.139999  132.240005  129.080002  130.020004   \n",
       "6556  2025-02-13  135.289993  135.289993  136.500000  131.169998  131.559998   \n",
       "6557  2025-02-14  138.850006  138.850006  139.250000  135.500000  136.479996   \n",
       "\n",
       "          Volume  \n",
       "0     2714688000  \n",
       "1      510480000  \n",
       "2      343200000  \n",
       "3      244368000  \n",
       "4      227520000  \n",
       "...          ...  \n",
       "6553   216989100  \n",
       "6554   178902400  \n",
       "6555   160278600  \n",
       "6556   197430000  \n",
       "6557   194892300  \n",
       "\n",
       "[6558 rows x 7 columns]"
      ]
     },
     "execution_count": 19,
     "metadata": {},
     "output_type": "execute_result"
    }
   ],
   "source": [
    "df.sort_values(by=\"Date\")"
   ]
  },
  {
   "cell_type": "code",
   "execution_count": 20,
   "metadata": {},
   "outputs": [
    {
     "data": {
      "image/png": "[encoded data removed]",
      "text/plain": [
       "<Figure size 800x400 with 1 Axes>"
      ]
     },
     "metadata": {},
     "output_type": "display_data"
    }
   ],
   "source": [
    "df['Date'] = pd.to_datetime(df['Date'])\n",
    "plt.figure(figsize=(8,4))\n",
    "plt.plot(df['Date'], df['Open'], label=\"Open Price\", color='red')\n",
    "plt.plot(df['Date'], df['Close'], label=\"Close\", color='blue')\n",
    "plt.title(\"Nvidia Open Price vs Close Price 1999 - 2025\")\n",
    "plt.xlabel(\"Years\")\n",
    "plt.ylabel(\"Price\")\n",
    "plt.legend()\n",
    "plt.grid(True, linestyle=\"--\")\n",
    "plt.show()"
   ]
  },
  {
   "cell_type": "code",
   "execution_count": 21,
   "metadata": {},
   "outputs": [
    {
     "data": {
      "image/png": "[encoded data removed]",
      "text/plain": [
       "<Figure size 800x400 with 1 Axes>"
      ]
     },
     "metadata": {},
     "output_type": "display_data"
    }
   ],
   "source": [
    "# Convert the \"Date\" column to datetime format\n",
    "df['Date'] = pd.to_datetime(df['Date'])\n",
    "\n",
    "plt.figure(figsize=(8,4))\n",
    "\n",
    "plt.plot(df[\"Date\"], df[\"Close\"], label=\"Closing Price\", color=\"red\", linewidth=1.5)\n",
    "plt.title(\"NVIDIA Closing Price (1999 - 2025)\")\n",
    "plt.xlabel(\"Date\", fontsize=12)\n",
    "plt.ylabel(\"Price (USD)\", fontsize=12)\n",
    "plt.legend()\n",
    "plt.grid(True, linestyle='--', alpha=0.6)\n",
    "plt.show()"
   ]
  },
  {
   "cell_type": "code",
   "execution_count": 22,
   "metadata": {},
   "outputs": [
    {
     "data": {
      "image/png": "[encoded data removed]",
      "text/plain": [
       "<Figure size 1000x600 with 2 Axes>"
      ]
     },
     "metadata": {},
     "output_type": "display_data"
    }
   ],
   "source": [
    "# Correlation analysis\n",
    "correlation_matrix = df.corr(numeric_only=True)\n",
    "plt.figure(figsize=(10, 6))\n",
    "sns.heatmap(correlation_matrix, annot=True, cmap='coolwarm', linewidths=0.5)\n",
    "plt.title('Correlation Heatmap')\n",
    "plt.show()"
   ]
  }
 ],
 "metadata": {
  "kernelspec": {
   "display_name": "Python 3",
   "language": "python",
   "name": "python3"
  },
  "language_info": {
   "codemirror_mode": {
    "name": "ipython",
    "version": 3
   },
   "file_extension": ".py",
   "mimetype": "text/x-python",
   "name": "python",
   "nbconvert_exporter": "python",
   "pygments_lexer": "ipython3",
   "version": "3.13.2"
  }
 },
 "nbformat": 4,
 "nbformat_minor": 2
}
